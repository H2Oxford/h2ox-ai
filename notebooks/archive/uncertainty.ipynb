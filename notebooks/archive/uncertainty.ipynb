{
 "cells": [
  {
   "cell_type": "code",
   "execution_count": null,
   "id": "95aed3da-d5d0-48a7-b547-e053d5ca4c1f",
   "metadata": {},
   "outputs": [],
   "source": [
    "import xarray as xr\n",
    "import pandas as pd\n",
    "import matplotlib.pyplot as plt\n",
    "import os, yaml\n",
    "import numpy as np"
   ]
  },
  {
   "cell_type": "code",
   "execution_count": null,
   "id": "2243eba1-6ee7-4071-873f-9f2be05ecd3f",
   "metadata": {},
   "outputs": [],
   "source": [
    "root = os.path.abspath(os.path.join(os.getcwd(),'..'))"
   ]
  },
  {
   "cell_type": "code",
   "execution_count": null,
   "id": "641f7d52-875a-4371-ae2b-a3dcd341d853",
   "metadata": {},
   "outputs": [],
   "source": [
    "sites = ['extras','ganga_damodar','godavari','kali','kaveri','krishna','mahanadi','narmada','penner','sharavati','tapi']"
   ]
  },
  {
   "cell_type": "code",
   "execution_count": null,
   "id": "c38efa9d-8eb6-437f-91a9-bb71a7e3f538",
   "metadata": {},
   "outputs": [],
   "source": [
    "sites_data = yaml.load(open(os.path.join(root,'bin','experiments-lowest.yaml'),'r'),Loader=yaml.SafeLoader)"
   ]
  },
  {
   "cell_type": "code",
   "execution_count": null,
   "id": "c657d5cb-d23f-4238-a663-83ac0abd149b",
   "metadata": {},
   "outputs": [],
   "source": [
    "ds_gconv = {}\n",
    "for site in sites:\n",
    "    #print (sites_data[site]['gconv'].split('-'))\n",
    "    el = os.path.splitext(os.path.split(sites_data[site]['gconv'])[-1])[0][-2:]\n",
    "    #el = str(int(el)+10)\n",
    "    ds_gconv[site] = xr.load_dataset(os.path.join(root,'data','final_preds',f'{site}-gconv-{el}-preds.nc'))\n",
    "ds_noconv = {}\n",
    "for site in sites:\n",
    "    el = os.path.splitext(os.path.split(sites_data[site]['no_gconv'])[-1])[0][-2:]\n",
    "    ds_noconv[site] = xr.load_dataset(os.path.join(root,'data','final_preds',f'{site}-no_gconv-{el}-preds.nc'))"
   ]
  },
  {
   "cell_type": "code",
   "execution_count": null,
   "id": "8ae31442-5f3e-46ad-92d0-a841b42d0034",
   "metadata": {},
   "outputs": [],
   "source": [
    "all_gconv = xr.merge([ds_gconv[site] for site in sites])"
   ]
  },
  {
   "cell_type": "code",
   "execution_count": null,
   "id": "45ef1715-540b-41d4-b80c-0f454fa0acc7",
   "metadata": {},
   "outputs": [],
   "source": [
    "all_gconv"
   ]
  },
  {
   "cell_type": "code",
   "execution_count": null,
   "id": "4047903f-f88b-4246-8235-ae084317ab65",
   "metadata": {},
   "outputs": [],
   "source": [
    "slice_edges = [-1.,-0.2,-0.15,-0.1,-0.05,0,0.05,0.1,0.15,0.2,1]\n",
    "obs_slices = [slice(s0,s1,None) for s0,s1 in zip(slice_edges[:-1],slice_edges[1:])]"
   ]
  },
  {
   "cell_type": "code",
   "execution_count": null,
   "id": "8934fcc5-903d-4c67-9017-ff1ee4235c99",
   "metadata": {},
   "outputs": [],
   "source": [
    "list(np.arange(0,1.1,0.1))"
   ]
  },
  {
   "cell_type": "code",
   "execution_count": null,
   "id": "8886303e-31b4-4e79-85b6-a188acaa1d1f",
   "metadata": {},
   "outputs": [],
   "source": [
    "slice_edges = [np.percentile(all_gconv['obs'].values.flatten()[~np.isnan(all_gconv['obs'].values.flatten())],_p*100) for _p in np.arange(0,1.1,0.1)]\n",
    "obs_slices = [slice(s0,s1,None) for s0,s1 in zip(slice_edges[:-1],slice_edges[1:])]"
   ]
  },
  {
   "cell_type": "code",
   "execution_count": null,
   "id": "38bd9438-cff2-4781-b1e4-94cafcb8f916",
   "metadata": {},
   "outputs": [],
   "source": [
    "obs_slices"
   ]
  },
  {
   "cell_type": "code",
   "execution_count": null,
   "id": "79c1d1db-b0c6-412e-92f7-ae5b87d18016",
   "metadata": {},
   "outputs": [],
   "source": [
    "-7e-3"
   ]
  },
  {
   "cell_type": "code",
   "execution_count": null,
   "id": "d34f2bb9-268a-4ddf-8a21-aadd56648368",
   "metadata": {},
   "outputs": [],
   "source": [
    "#slice_edges = [-1.,-0.007,-0.005,-0.003,-0.0015,-0.00075,0,0.006,1]\n",
    "slice_edges = [-1.,-0.005,-0.0015,0,1]\n",
    "obs_slices = [slice(s0,s1,None) for s0,s1 in zip(slice_edges[:-1],slice_edges[1:])]"
   ]
  },
  {
   "cell_type": "code",
   "execution_count": null,
   "id": "661b4421-f253-4c77-a5df-cb2ffbc7cc44",
   "metadata": {},
   "outputs": [],
   "source": [
    "for s in obs_slices:\n",
    "    print(((all_gconv['obs']>s.start)&(all_gconv['obs']<=s.stop)).sum())"
   ]
  },
  {
   "cell_type": "code",
   "execution_count": null,
   "id": "3095e0cc-8e61-4cc2-9c42-29b24cf14ea4",
   "metadata": {},
   "outputs": [],
   "source": [
    "all_gconv['ci'] = all_gconv['ci-95+'] - all_gconv['ci-95-']"
   ]
  },
  {
   "cell_type": "code",
   "execution_count": null,
   "id": "42e9c7c0-2135-45e6-82ec-d24281acf875",
   "metadata": {},
   "outputs": [],
   "source": [
    "ci_obs_data = []\n",
    "for s in obs_slices:\n",
    "    mask = ((all_gconv['obs']>s.start)&(all_gconv['obs']<=s.stop)).values\n",
    "    all_gconv.coords['mask']= (('date','step','site'),mask)\n",
    "    print (s)\n",
    "    #print(all_gconv.where(all_gconv.mask>0)['ci'].mean(dim=['date','step']))\n",
    "    d = all_gconv.where(all_gconv.mask>0)['ci'].mean(dim=['date','step']).values\n",
    "    ci_obs_data.append(\n",
    "        d[~np.isnan(d)]\n",
    "    )"
   ]
  },
  {
   "cell_type": "code",
   "execution_count": null,
   "id": "3d0e1aca-8289-4035-a55b-d98fb1a1b011",
   "metadata": {},
   "outputs": [],
   "source": [
    "len(ci_obs_data)"
   ]
  },
  {
   "cell_type": "code",
   "execution_count": null,
   "id": "516d52bb-2a61-4050-8270-3bb91892e44a",
   "metadata": {},
   "outputs": [],
   "source": [
    "fig, ax = plt.subplots(1,1,figsize=(6,3))\n",
    "collections = ax.violinplot(ci_obs_data, showmeans=True)"
   ]
  },
  {
   "cell_type": "code",
   "execution_count": null,
   "id": "7be07d95-38db-478d-8e71-d9b989f339b6",
   "metadata": {},
   "outputs": [],
   "source": [
    "step_edges = [0,5,15,30,50,75,90]\n",
    "step_slices = [slice(s0,s1,None) for s0,s1 in zip(step_edges[0:-1],step_edges[1:])]"
   ]
  },
  {
   "cell_type": "code",
   "execution_count": null,
   "id": "600b2e03-6d50-4886-9409-1775b1f61bf5",
   "metadata": {},
   "outputs": [],
   "source": [
    "s = step_slices[0]"
   ]
  },
  {
   "cell_type": "code",
   "execution_count": null,
   "id": "89c2dc8e-70e1-44c4-bdeb-3488417747ba",
   "metadata": {},
   "outputs": [],
   "source": [
    "ci_step_data = []\n",
    "for s in step_slices:\n",
    "    ci_step_data.append(\n",
    "        all_gconv.sel({'step':s})['ci'].mean(dim=['step','date']).values\n",
    "    )"
   ]
  },
  {
   "cell_type": "code",
   "execution_count": null,
   "id": "a28328b3-f2b9-40fb-aee4-631e5a9c3675",
   "metadata": {},
   "outputs": [],
   "source": [
    "fig, ax = plt.subplots(1,1,figsize=(6,3))\n",
    "collections = ax.violinplot(ci_step_data, showmeans=True)"
   ]
  },
  {
   "cell_type": "code",
   "execution_count": null,
   "id": "98c5a606-8342-4bd8-9347-89f2dbd1ac17",
   "metadata": {},
   "outputs": [],
   "source": [
    "# correction factor - how much stretch to hit obs\n",
    "all_gconv"
   ]
  },
  {
   "cell_type": "code",
   "execution_count": null,
   "id": "b4b79cfd-f7df-4bc2-982f-d1ce85e70312",
   "metadata": {},
   "outputs": [],
   "source": [
    "obs - sim_mean / ci-95+ - sim-mean"
   ]
  },
  {
   "cell_type": "code",
   "execution_count": null,
   "id": "ed1d09ef-22ce-4b05-929a-84582b1b5d54",
   "metadata": {},
   "outputs": [],
   "source": [
    "all_gconv['alpha+'] = (all_gconv['obs'] - all_gconv['sim-mean']) / (all_gconv['ci-95+'] - all_gconv['sim-mean'])"
   ]
  },
  {
   "cell_type": "code",
   "execution_count": null,
   "id": "7cf25645-6d20-4bcb-85e0-8eb2073b90b8",
   "metadata": {},
   "outputs": [],
   "source": [
    "all_gconv['alpha-'] = (all_gconv['obs'] - all_gconv['sim-mean']) / (all_gconv['ci-95-'] - all_gconv['sim-mean'])"
   ]
  },
  {
   "cell_type": "code",
   "execution_count": null,
   "id": "ce9b3ca0-280c-4598-9c8a-cb7472fea60e",
   "metadata": {},
   "outputs": [],
   "source": [
    "all_gconv.coords['maskpos'] = (('date','step','site'),(all_gconv['obs']>all_gconv['sim-mean']).values)\n",
    "all_gconv.coords['maskneg'] = (('date','step','site'),(all_gconv['obs']<all_gconv['sim-mean']).values)"
   ]
  },
  {
   "cell_type": "code",
   "execution_count": null,
   "id": "34a5f73e-68d4-453f-afdc-f1f07b5fce2f",
   "metadata": {},
   "outputs": [],
   "source": [
    "all_gconv['alpha+'].shape"
   ]
  },
  {
   "cell_type": "code",
   "execution_count": null,
   "id": "0f3925c5-1999-44ad-b67d-2f3f86924923",
   "metadata": {},
   "outputs": [],
   "source": [
    "all_gconv['alpha_combined'] = (('date','step','site'),np.zeros(all_gconv['alpha+'].shape))"
   ]
  },
  {
   "cell_type": "code",
   "execution_count": null,
   "id": "4211ff42-140b-4d53-9a8b-0e9659948488",
   "metadata": {},
   "outputs": [],
   "source": [
    "all_gconv['alpha_combined'] += all_gconv.where(all_gconv.maskneg>0)['alpha-'].fillna(0)"
   ]
  },
  {
   "cell_type": "code",
   "execution_count": null,
   "id": "c9346aa9-e7f7-45cd-9115-c9c81948338b",
   "metadata": {},
   "outputs": [],
   "source": [
    "all_gconv['alpha_combined'] += all_gconv.where(all_gconv.maskpos>0)['alpha+'].fillna(0)"
   ]
  },
  {
   "cell_type": "code",
   "execution_count": null,
   "id": "80705d64-e8a7-49e0-ba0d-67ce6263ea84",
   "metadata": {},
   "outputs": [],
   "source": [
    "all_gconv.coords['mask_combined'] = all_gconv['alpha_combined']>0"
   ]
  },
  {
   "cell_type": "code",
   "execution_count": null,
   "id": "bcf4f613-0939-46cb-9dc3-eec1bc9b1f2c",
   "metadata": {},
   "outputs": [],
   "source": [
    "s"
   ]
  },
  {
   "cell_type": "code",
   "execution_count": null,
   "id": "d9492f9f-6b22-4144-bcbe-fb65fc49a517",
   "metadata": {},
   "outputs": [],
   "source": [
    "np.isfinite"
   ]
  },
  {
   "cell_type": "code",
   "execution_count": null,
   "id": "f06edcb4-3471-4043-b325-89da1ecd4418",
   "metadata": {},
   "outputs": [],
   "source": [
    "alpha_step_data = []\n",
    "for s in step_slices:\n",
    "    d = all_gconv.where(all_gconv.mask_combined>0)['alpha_combined'].sel({'step':s}).mean(dim=['step','date']).values\n",
    "    alpha_step_data.append(\n",
    "        d[np.isfinite(d)]\n",
    "    )"
   ]
  },
  {
   "cell_type": "code",
   "execution_count": null,
   "id": "feb6763b-018c-46a9-a1df-3ecd925d9731",
   "metadata": {},
   "outputs": [],
   "source": [
    "fig, ax = plt.subplots(1,1,figsize=(6,3))\n",
    "collections = ax.violinplot(alpha_step_data, showmeans=True)\n",
    "ax.set_yscale('log')"
   ]
  },
  {
   "cell_type": "code",
   "execution_count": null,
   "id": "b3bcff07-e973-445b-9c24-6df52cf7e175",
   "metadata": {},
   "outputs": [],
   "source": [
    "#slice_edges = [-1.,-0.007,-0.005,-0.003,-0.0015,-0.00075,0,0.006,1]\n",
    "slice_edges = [-1.-0.005,-0.0015,0,1]\n",
    "obs_slice_labels = ['-1 : -5e-3','-5e-3 : -1.5e-3','-1.5e-3 : 0.','0. : 1.'] "
   ]
  },
  {
   "cell_type": "code",
   "execution_count": null,
   "id": "3c11259a-1c12-45c3-b8df-c1abb637c592",
   "metadata": {},
   "outputs": [],
   "source": [
    "c_face = '#cfe2f3ff'\n",
    "c_edge = '#3d85c6'"
   ]
  },
  {
   "cell_type": "code",
   "execution_count": null,
   "id": "f3e4c5b4-2004-42b5-8c2f-7768a7a3f3a4",
   "metadata": {},
   "outputs": [],
   "source": [
    "fig, axs = plt.subplots(2,2,figsize=(12,6))\n",
    "axs=axs.flatten()\n",
    "collections0 = axs[1].violinplot(ci_obs_data, showmeans=True) # CI vs delta\n",
    "collections1 = axs[0].violinplot(ci_step_data, showmeans=True) # CI vs step\n",
    "collections2 = axs[2].violinplot(alpha_step_data, showmeans=True) # alpha vs step\n",
    "\n",
    "for collection in [collections0, collections1, collections2]:\n",
    "    vp = collection['bodies']\n",
    "    for b in vp:\n",
    "        b.set_facecolor(c_face)\n",
    "    for e in ['cmaxes','cmins','cbars']:\n",
    "        vp = collection[e]\n",
    "        vp.set_edgecolor(c_edge)\n",
    "\n",
    "axs[0].text(0.01,0.9,'(a)',fontsize=12, weight='bold',transform=axs[0].transAxes)\n",
    "axs[2].text(0.01,0.9,'(b)',fontsize=12, weight='bold',transform=axs[2].transAxes)\n",
    "axs[1].text(0.01,0.9,'(c)',fontsize=12, weight='bold',transform=axs[1].transAxes)\n",
    "        \n",
    "axs[1].set_xticks(list(range(1,5)))\n",
    "axs[1].set_xticklabels(obs_slice_labels)\n",
    "axs[0].set_xticklabels(['','0-5 days']+[f'{s.start}-{s.stop}' for s in step_slices[1:]])\n",
    "axs[2].set_xticklabels(['','0-5 days']+[f'{s.start}-{s.stop}' for s in step_slices[1:]])\n",
    "axs[2].set_yscale('log')\n",
    "axs[3].axis('off')\n",
    "axs[0].set_ylabel('Confidence Interval')\n",
    "axs[2].set_ylabel('Correction Factor')\n",
    "axs[2].set_xlabel('Prediction Horizon')\n",
    "axs[1].set_xlabel('Daily Reserv. Vol. Change ($\\sigma$)')\n",
    "fig.savefig('./uncertainty_plots.pdf',bbox_inches='tight')"
   ]
  },
  {
   "cell_type": "code",
   "execution_count": null,
   "id": "142045b4-aa96-4f16-8c8d-d9adbf98a36b",
   "metadata": {},
   "outputs": [],
   "source": []
  },
  {
   "cell_type": "code",
   "execution_count": null,
   "id": "eeba1cf5-ffbe-431a-871d-4d9bb10e800b",
   "metadata": {},
   "outputs": [],
   "source": []
  },
  {
   "cell_type": "code",
   "execution_count": null,
   "id": "44b24a94-1e38-4ad7-b6a1-947fca74b820",
   "metadata": {},
   "outputs": [],
   "source": []
  },
  {
   "cell_type": "code",
   "execution_count": null,
   "id": "34f266e4-f61a-43dd-aa89-3544227443c9",
   "metadata": {},
   "outputs": [],
   "source": [
    "all_gconv.where(all_gconv.mask_combined>0)['alpha_combined'].sel({'step':s}).mean(dim=['step','date']).values\n"
   ]
  },
  {
   "cell_type": "code",
   "execution_count": null,
   "id": "7f744fe8-c2c4-4e8f-9dbb-03a85784ca9d",
   "metadata": {},
   "outputs": [],
   "source": []
  },
  {
   "cell_type": "code",
   "execution_count": null,
   "id": "eee70b93-5e51-4fb5-9c88-409cf46b26c6",
   "metadata": {},
   "outputs": [],
   "source": [
    "all_gconv.where(all_gconv.maskneg>0)"
   ]
  },
  {
   "cell_type": "code",
   "execution_count": null,
   "id": "9631fa19-7cd1-43a7-806f-883226b7aec3",
   "metadata": {},
   "outputs": [],
   "source": [
    "# alpha+ where obs>mean & alpha+>1\n",
    "# alpha- where obs<mean"
   ]
  },
  {
   "cell_type": "code",
   "execution_count": null,
   "id": "16b53cd3-acac-49bd-a4a7-79d1bc5bee8b",
   "metadata": {},
   "outputs": [],
   "source": []
  },
  {
   "cell_type": "code",
   "execution_count": null,
   "id": "6e80f896-584b-460c-8f29-2f705ebe5db1",
   "metadata": {},
   "outputs": [],
   "source": []
  },
  {
   "cell_type": "code",
   "execution_count": null,
   "id": "86891141-0d1f-42b5-a279-3396f6eebc18",
   "metadata": {},
   "outputs": [],
   "source": [
    "mask = ((all_gconv['obs']>s.start)&(all_gconv['obs']<=s.stop)).values"
   ]
  },
  {
   "cell_type": "code",
   "execution_count": null,
   "id": "b3885202-376c-4b05-9556-d3efe1a7930f",
   "metadata": {},
   "outputs": [],
   "source": [
    "all_gconv.coords['mask']= (('date','step','site'),mask)"
   ]
  },
  {
   "cell_type": "code",
   "execution_count": null,
   "id": "6f630630-5d69-410d-9892-769f3e50542f",
   "metadata": {},
   "outputs": [],
   "source": [
    "all_gconv.where(all_gconv.mask>0)['ci'].mean(dim=['date','step']).values"
   ]
  },
  {
   "cell_type": "code",
   "execution_count": null,
   "id": "d8e5dbee-ff6c-4e13-a84b-a14cbad8456f",
   "metadata": {},
   "outputs": [],
   "source": []
  },
  {
   "cell_type": "code",
   "execution_count": null,
   "id": "6e93a4c0-017f-488b-bb17-f33f1e8420eb",
   "metadata": {},
   "outputs": [],
   "source": []
  },
  {
   "cell_type": "code",
   "execution_count": null,
   "id": "3bb9cf3d-1fe6-44dc-ad42-3840d204be6a",
   "metadata": {},
   "outputs": [],
   "source": [
    "ds_gconv['penner']"
   ]
  },
  {
   "cell_type": "code",
   "execution_count": null,
   "id": "5e933e7d-a859-474d-b714-6dd4ab5b1aea",
   "metadata": {},
   "outputs": [],
   "source": []
  }
 ],
 "metadata": {
  "kernelspec": {
   "display_name": "Python 3",
   "language": "python",
   "name": "python3"
  },
  "language_info": {
   "codemirror_mode": {
    "name": "ipython",
    "version": 3
   },
   "file_extension": ".py",
   "mimetype": "text/x-python",
   "name": "python",
   "nbconvert_exporter": "python",
   "pygments_lexer": "ipython3",
   "version": "3.9.7"
  }
 },
 "nbformat": 4,
 "nbformat_minor": 5
}
