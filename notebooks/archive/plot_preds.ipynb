{
 "cells": [
  {
   "cell_type": "code",
   "execution_count": null,
   "id": "95aed3da-d5d0-48a7-b547-e053d5ca4c1f",
   "metadata": {},
   "outputs": [],
   "source": [
    "import xarray as xr\n",
    "import pandas as pd\n",
    "import matplotlib.pyplot as plt\n",
    "import os, yaml\n",
    "import numpy as np\n",
    "from matplotlib import cm"
   ]
  },
  {
   "cell_type": "code",
   "execution_count": null,
   "id": "2243eba1-6ee7-4071-873f-9f2be05ecd3f",
   "metadata": {},
   "outputs": [],
   "source": [
    "root = os.path.abspath(os.path.join(os.getcwd(),'..'))"
   ]
  },
  {
   "cell_type": "code",
   "execution_count": null,
   "id": "641f7d52-875a-4371-ae2b-a3dcd341d853",
   "metadata": {},
   "outputs": [],
   "source": [
    "sites = ['extras','ganga_damodar','godavari','kali','kaveri','krishna','mahanadi','narmada','penner','sharavati','tapi']"
   ]
  },
  {
   "cell_type": "code",
   "execution_count": null,
   "id": "c38efa9d-8eb6-437f-91a9-bb71a7e3f538",
   "metadata": {},
   "outputs": [],
   "source": [
    "sites_data = yaml.load(open(os.path.join(root,'bin','experiments-lowest.yaml'),'r'),Loader=yaml.SafeLoader)"
   ]
  },
  {
   "cell_type": "code",
   "execution_count": null,
   "id": "c657d5cb-d23f-4238-a663-83ac0abd149b",
   "metadata": {},
   "outputs": [],
   "source": [
    "ds_gconv = {}\n",
    "for site in sites:\n",
    "    #print (sites_data[site]['gconv'].split('-'))\n",
    "    el = os.path.splitext(os.path.split(sites_data[site]['gconv'])[-1])[0][-2:]\n",
    "    #el = str(int(el)+10)\n",
    "    ds_gconv[site] = xr.load_dataset(os.path.join(root,'data','final_preds',f'{site}-gconv-{el}-preds.nc'))\n",
    "ds_noconv = {}\n",
    "for site in sites:\n",
    "    el = os.path.splitext(os.path.split(sites_data[site]['no_gconv'])[-1])[0][-2:]\n",
    "    ds_noconv[site] = xr.load_dataset(os.path.join(root,'data','final_preds',f'{site}-no_gconv-{el}-preds.nc'))"
   ]
  },
  {
   "cell_type": "code",
   "execution_count": null,
   "id": "8ae31442-5f3e-46ad-92d0-a841b42d0034",
   "metadata": {},
   "outputs": [],
   "source": [
    "all_gconv = xr.merge([ds_gconv[site] for site in sites])"
   ]
  },
  {
   "cell_type": "code",
   "execution_count": null,
   "id": "45ef1715-540b-41d4-b80c-0f454fa0acc7",
   "metadata": {},
   "outputs": [],
   "source": [
    "all_gconv"
   ]
  },
  {
   "cell_type": "code",
   "execution_count": null,
   "id": "625fe923-431d-4913-84a1-e026f51aa6f8",
   "metadata": {},
   "outputs": [],
   "source": [
    "select_sites = ['bhatghar', 'dudhganga', 'linganamakki'] # irshna x 2 sharavati"
   ]
  },
  {
   "cell_type": "code",
   "execution_count": null,
   "id": "1a1d841f-b872-445b-a802-7f5cd4850262",
   "metadata": {},
   "outputs": [],
   "source": [
    "def norm_func(arr):\n",
    "            return (arr - arr.min()) / (arr.max() - arr.min())  # 0 to 1"
   ]
  },
  {
   "cell_type": "code",
   "execution_count": null,
   "id": "f2772ec0-18f3-4d7a-a079-0d1e6d4e2d0a",
   "metadata": {},
   "outputs": [],
   "source": [
    "sharavati_data = xr.load_dataset(os.path.join(root,'data','data_sharavati.nc'))"
   ]
  },
  {
   "cell_type": "code",
   "execution_count": null,
   "id": "1daa676f-7a37-4543-b0fd-23276525bd9e",
   "metadata": {},
   "outputs": [],
   "source": [
    "krishna_data = xr.load_dataset(os.path.join(root,'data','data_krishna.nc'))"
   ]
  },
  {
   "cell_type": "code",
   "execution_count": null,
   "id": "a6bb5c58-5639-43d3-91a6-cded42e9c5b3",
   "metadata": {
    "tags": []
   },
   "outputs": [],
   "source": [
    "krishna_data"
   ]
  },
  {
   "cell_type": "code",
   "execution_count": null,
   "id": "e698af9f-7207-4445-8acd-9f17a7803f61",
   "metadata": {},
   "outputs": [],
   "source": [
    "krishna_data['targets_WATER_VOLUME'] = krishna_data['targets_WATER_VOLUME'].groupby(\"global_sites\").map(norm_func)"
   ]
  },
  {
   "cell_type": "code",
   "execution_count": null,
   "id": "dd9c1c23-2884-4240-946a-6c8e0b267348",
   "metadata": {},
   "outputs": [],
   "source": [
    "sharavati_data['targets_WATER_VOLUME'] = sharavati_data['targets_WATER_VOLUME'].groupby(\"global_sites\").map(norm_func)"
   ]
  },
  {
   "cell_type": "code",
   "execution_count": null,
   "id": "8a6ea014-55d6-46ec-a860-e48215f9d164",
   "metadata": {},
   "outputs": [],
   "source": [
    "krishna_data = krishna_data.rename({'steps':'step','global_sites':'site'})"
   ]
  },
  {
   "cell_type": "code",
   "execution_count": null,
   "id": "36493f54-193e-4491-9ff1-e138f8804b50",
   "metadata": {},
   "outputs": [],
   "source": [
    "sharavati_data = sharavati_data.rename({'steps':'step','global_sites':'site'})"
   ]
  },
  {
   "cell_type": "code",
   "execution_count": null,
   "id": "a789441f-206e-4246-8547-8be0f0b0a34f",
   "metadata": {
    "tags": []
   },
   "outputs": [],
   "source": [
    "all_gconv"
   ]
  },
  {
   "cell_type": "code",
   "execution_count": null,
   "id": "17b0c419-0754-4392-8cb4-152da06fc553",
   "metadata": {},
   "outputs": [],
   "source": [
    "def revert_to_levels(\n",
    "    data: xr.Dataset,\n",
    "    preds: xr.Dataset,\n",
    "    target_var: str,\n",
    ") -> xr.Dataset:\n",
    "\n",
    "    for var in [\"obs\", \"sim\", \"sim-frozen\", \"sim-mean\", \"sim-std\", \"ci-95+\", \"ci-95-\"]:\n",
    "        if var in preds.keys():\n",
    "            preds[var] = preds[var].cumsum(dim=\"step\") + data[target_var].sel(\n",
    "                {\"date\": data[\"date\"].isin(preds[\"date\"])}\n",
    "            ).isel({\"step\": 0})\n",
    "\n",
    "    return preds"
   ]
  },
  {
   "cell_type": "code",
   "execution_count": null,
   "id": "7086dcab-b159-45bd-8262-0293f167ec04",
   "metadata": {},
   "outputs": [],
   "source": [
    "preds_levels_krishna = revert_to_levels(\n",
    "            data=krishna_data,\n",
    "            preds=all_gconv.copy(deep=True),\n",
    "            target_var='targets_WATER_VOLUME',\n",
    "        )"
   ]
  },
  {
   "cell_type": "code",
   "execution_count": null,
   "id": "1cbfa39c-0947-4f66-84e2-b047224d4c02",
   "metadata": {},
   "outputs": [],
   "source": [
    "preds_levels_sharaviti = revert_to_levels(\n",
    "            data=sharavati_data,\n",
    "            preds=all_gconv.copy(deep=True),\n",
    "            target_var='targets_WATER_VOLUME',\n",
    "        )"
   ]
  },
  {
   "cell_type": "code",
   "execution_count": null,
   "id": "2b38cf15-7140-4158-ace0-4feb9b2139c0",
   "metadata": {},
   "outputs": [],
   "source": [
    "preds_levels = xr.merge([preds_levels_sharaviti.sel({'site':['linganamakki']}),preds_levels_krishna.sel({'site':select_sites[0:2]})])"
   ]
  },
  {
   "cell_type": "code",
   "execution_count": null,
   "id": "e702c2d7-4d80-447a-baf5-35d88f3a0ef5",
   "metadata": {},
   "outputs": [],
   "source": [
    "date_idx = (all_gconv[\"date\"] >= pd.to_datetime('2020-01-01')) & (\n",
    "        all_gconv[\"date\"] <= pd.to_datetime('2021-01-01')\n",
    "    )"
   ]
  },
  {
   "cell_type": "code",
   "execution_count": null,
   "id": "02938f13-6aeb-45b9-8c98-7faf94b7bcda",
   "metadata": {},
   "outputs": [],
   "source": [
    "def _interpolate_1d(data):\n",
    "    for var in list(data.keys()):\n",
    "        if is_numeric_dtype(data[var]):\n",
    "            data[var] = data[var].interpolate_na(\n",
    "                dim=\"date\", method=\"linear\", limit=15\n",
    "            )\n",
    "\n",
    "    return data"
   ]
  },
  {
   "cell_type": "code",
   "execution_count": null,
   "id": "241da2ab-2990-41a0-a6f8-3d699140270f",
   "metadata": {},
   "outputs": [],
   "source": [
    "from pandas.api.types import is_numeric_dtype"
   ]
  },
  {
   "cell_type": "code",
   "execution_count": null,
   "id": "37ffd5d9-4f69-42b7-8b57-b8b9bc238e9a",
   "metadata": {},
   "outputs": [],
   "source": [
    "preds_levels = _interpolate_1d(preds_levels)"
   ]
  },
  {
   "cell_type": "code",
   "execution_count": null,
   "id": "aacd6acd-641b-4079-b60f-91ae2b2ddaa6",
   "metadata": {},
   "outputs": [],
   "source": [
    "from matplotlib.patches import Patch\n",
    "from matplotlib.lines import Line2D"
   ]
  },
  {
   "cell_type": "code",
   "execution_count": null,
   "id": "68a1d274-0ddb-4a51-9610-1c366b256b8d",
   "metadata": {},
   "outputs": [],
   "source": [
    "fig, axs = plt.subplots(3,2, figsize=(12,9), sharex=True)\n",
    "cmap = cm.get_cmap(\"winter_r\")\n",
    "\n",
    "leg_items = [\n",
    "    Line2D([0], [0], color='#f200ff', lw=2, label='obs')\n",
    "]\n",
    "\n",
    "for ii_s,site in enumerate(select_sites):\n",
    "\n",
    "    for step in [5, 15, 25, 50, 75, 89]:\n",
    "        # print (site, step)\n",
    "        hexcolor = \"#\" + \"\".join(\n",
    "            f\"{int(el*255):02x}\" for el in cmap(int(step / 90 * 255))[:3]\n",
    "        )\n",
    "        if ii_s==0:\n",
    "            leg_items.append(\n",
    "                Line2D([0], [0], color=hexcolor, lw=2, label=f'{step} days')\n",
    "            )\n",
    "        \n",
    "        # plot main\n",
    "        all_gconv.sel({\"site\": site, \"step\": step, \"date\": date_idx}).shift(\n",
    "            date=step\n",
    "        )['sim-mean'].plot(ax=axs[ii_s,0], c=hexcolor)\n",
    "\n",
    "        # plot CI if available\n",
    "        for dim in ['ci-95+','ci-95-']:\n",
    "            all_gconv.sel({\"site\": site, \"step\": step, \"date\": date_idx}).shift(\n",
    "                date=step\n",
    "            )[dim].plot(ax=axs[ii_s,0], c=hexcolor, ls=\":\")\n",
    "\n",
    "    all_gconv.sel({\"site\": site, \"step\": 0, \"date\": date_idx})[\"obs\"].plot(\n",
    "        ax=axs[ii_s,0], c=\"#f200ff\"\n",
    "    )\n",
    "    \n",
    "    \n",
    "    for step in [5, 15, 25, 50, 75, 89]:\n",
    "        # print (site, step)\n",
    "        hexcolor = \"#\" + \"\".join(\n",
    "            f\"{int(el*255):02x}\" for el in cmap(int(step / 90 * 255))[:3]\n",
    "        )\n",
    "        # plot main\n",
    "        preds_levels.sel({\"site\": site, \"step\": step, \"date\": date_idx}).shift(\n",
    "            date=step\n",
    "        )['sim-mean'].plot(ax=axs[ii_s,1], c=hexcolor)\n",
    "\n",
    "        # plot CI if available\n",
    "        for dim in ['ci-95+','ci-95-']:\n",
    "            preds_levels.sel({\"site\": site, \"step\": step, \"date\": date_idx}).shift(\n",
    "                date=step\n",
    "            )[dim].plot(ax=axs[ii_s,1], c=hexcolor, ls=\":\")\n",
    "\n",
    "    preds_levels.sel({\"site\": site, \"step\": 0, \"date\": date_idx})[\"obs\"].plot(\n",
    "        ax=axs[ii_s,1], c=\"#f200ff\"\n",
    "    )\n",
    "    \n",
    "for ii in range(3):\n",
    "    axs[ii,0].text(0.02,0.9,select_sites[ii], weight='bold', transform=axs[ii,0].transAxes)\n",
    "    for jj in range(2):\n",
    "        axs[ii,jj].set_title('')\n",
    "        axs[ii,jj].set_xlabel('')\n",
    "    axs[ii,0].set_ylabel('Resv. Vol. Changes')\n",
    "    axs[ii,1].set_ylabel('Resv. Volumes')\n",
    "    \n",
    "leg_items.append(\n",
    "    Line2D([0], [0], color='gray', lw=2, ls=':', label=f'$\\mp$2$\\sigma$')\n",
    ")\n",
    "    \n",
    "fig.legend(handles=leg_items, ncol=len(leg_items), loc='lower center')\n",
    "fig.savefig('./sample_predictions.pdf',bbox_inches='tight')"
   ]
  },
  {
   "cell_type": "code",
   "execution_count": null,
   "id": "56ea9a07-03de-40d9-a888-7b40395e5cd1",
   "metadata": {},
   "outputs": [],
   "source": [
    "cmap = cm.get_cmap(\"winter_r\")\n",
    "n_cols = 3\n",
    "n_rows = ceil(len(preds[\"site\"]) / n_cols) * len(test_chunks)\n",
    "fig, axs = plt.subplots(n_rows, n_cols, figsize=(6 * n_cols, 3 * n_rows))\n",
    "axs = axs.flatten()\n",
    "_ii = 0\n",
    "for chunk in test_chunks:\n",
    "    date_idx = (preds[\"date\"] >= pd.to_datetime(chunk[0])) & (\n",
    "        preds[\"date\"] <= pd.to_datetime(chunk[1])\n",
    "    )\n",
    "    for site in preds[\"site\"].data:\n",
    "\n",
    "        for step in [5, 15, 25, 50, 75, 89]:\n",
    "            # print (site, step)\n",
    "            hexcolor = \"#\" + \"\".join(\n",
    "                f\"{int(el*255):02x}\" for el in cmap(int(step / 90 * 255))[:3]\n",
    "            )\n",
    "            # plot main\n",
    "            preds.sel({\"site\": site, \"step\": step, \"date\": date_idx}).shift(\n",
    "                date=step\n",
    "            )[main_dim].plot(ax=axs[_ii], c=hexcolor)\n",
    "\n",
    "            # plot CI if available\n",
    "            if ci_dims is not None:\n",
    "                for dim in ci_dims:\n",
    "                    preds.sel({\"site\": site, \"step\": step, \"date\": date_idx}).shift(\n",
    "                        date=step\n",
    "                    )[dim].plot(ax=axs[_ii], c=hexcolor, ls=\":\")\n",
    "\n",
    "        preds.sel({\"site\": site, \"step\": 0, \"date\": date_idx})[\"obs\"].plot(\n",
    "            ax=axs[_ii], c=\"#f200ff\"\n",
    "        )\n",
    "        _ii += 1\n"
   ]
  },
  {
   "cell_type": "code",
   "execution_count": null,
   "id": "09cf2fb8-0b3f-4c5e-bec6-1c4a4b7e09f6",
   "metadata": {},
   "outputs": [],
   "source": [
    "def plot_test_preds(\n",
    "    filepath: Path,\n",
    "    preds: xr.Dataset,\n",
    "    test_chunks: List[List[str]],\n",
    "    site_dim: Optional[str] = \"site\",\n",
    "    main_dim: Optional[str] = \"sim\",\n",
    "    ci_dims: Optional[List[str]] = None,\n",
    "):\n",
    "\n",
    "    cmap = cm.get_cmap(\"winter_r\")\n",
    "    n_cols = 3\n",
    "    n_rows = ceil(len(preds[\"site\"]) / n_cols) * len(test_chunks)\n",
    "    fig, axs = plt.subplots(n_rows, n_cols, figsize=(6 * n_cols, 3 * n_rows))\n",
    "    axs = axs.flatten()\n",
    "    _ii = 0\n",
    "    for chunk in test_chunks:\n",
    "        date_idx = (preds[\"date\"] >= pd.to_datetime(chunk[0])) & (\n",
    "            preds[\"date\"] <= pd.to_datetime(chunk[1])\n",
    "        )\n",
    "        for site in preds[\"site\"].data:\n",
    "\n",
    "            for step in [5, 15, 25, 50, 75, 89]:\n",
    "                # print (site, step)\n",
    "                hexcolor = \"#\" + \"\".join(\n",
    "                    f\"{int(el*255):02x}\" for el in cmap(int(step / 90 * 255))[:3]\n",
    "                )\n",
    "                # plot main\n",
    "                preds.sel({\"site\": site, \"step\": step, \"date\": date_idx}).shift(\n",
    "                    date=step\n",
    "                )[main_dim].plot(ax=axs[_ii], c=hexcolor)\n",
    "\n",
    "                # plot CI if available\n",
    "                if ci_dims is not None:\n",
    "                    for dim in ci_dims:\n",
    "                        preds.sel({\"site\": site, \"step\": step, \"date\": date_idx}).shift(\n",
    "                            date=step\n",
    "                        )[dim].plot(ax=axs[_ii], c=hexcolor, ls=\":\")\n",
    "\n",
    "            preds.sel({\"site\": site, \"step\": 0, \"date\": date_idx})[\"obs\"].plot(\n",
    "                ax=axs[_ii], c=\"#f200ff\"\n",
    "            )\n",
    "            _ii += 1\n",
    "\n",
    "    fig.savefig(filepath)\n",
    "    plt.close(\"all\")"
   ]
  }
 ],
 "metadata": {
  "kernelspec": {
   "display_name": "Python 3",
   "language": "python",
   "name": "python3"
  },
  "language_info": {
   "codemirror_mode": {
    "name": "ipython",
    "version": 3
   },
   "file_extension": ".py",
   "mimetype": "text/x-python",
   "name": "python",
   "nbconvert_exporter": "python",
   "pygments_lexer": "ipython3",
   "version": "3.9.7"
  }
 },
 "nbformat": 4,
 "nbformat_minor": 5
}
