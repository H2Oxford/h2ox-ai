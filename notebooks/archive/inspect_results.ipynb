{
 "cells": [
  {
   "cell_type": "code",
   "execution_count": null,
   "id": "0f4ce07b-fae5-4181-8741-e663e93dc7b4",
   "metadata": {},
   "outputs": [],
   "source": [
    "import pandas as pd"
   ]
  },
  {
   "cell_type": "code",
   "execution_count": null,
   "id": "4ca07ddc-4768-447d-982b-8a3669e89291",
   "metadata": {},
   "outputs": [],
   "source": [
    "import numpy as np"
   ]
  },
  {
   "cell_type": "code",
   "execution_count": null,
   "id": "69f7426a-ebd1-42a2-908e-3d85fd6bf334",
   "metadata": {},
   "outputs": [],
   "source": [
    "np.diag(np.ones(5))"
   ]
  },
  {
   "cell_type": "code",
   "execution_count": null,
   "id": "72b23ea1-4e2f-478b-afb5-ab9f687e1a40",
   "metadata": {},
   "outputs": [],
   "source": [
    "import pickle"
   ]
  },
  {
   "cell_type": "code",
   "execution_count": null,
   "id": "4a6d4464-6109-49ae-9560-3442dbeb9e02",
   "metadata": {},
   "outputs": [],
   "source": [
    "import xarray as xr"
   ]
  },
  {
   "cell_type": "code",
   "execution_count": null,
   "id": "6c8749be-d790-46fa-a44b-affa73c3e33f",
   "metadata": {},
   "outputs": [],
   "source": [
    "import matplotlib.pyplot as plt"
   ]
  },
  {
   "cell_type": "code",
   "execution_count": null,
   "id": "68f04983-57b5-4d2a-b54f-eace32b2408c",
   "metadata": {},
   "outputs": [],
   "source": [
    "from matplotlib import cm"
   ]
  },
  {
   "cell_type": "code",
   "execution_count": null,
   "id": "6eb3fd91-185c-472a-bbb1-c883c70cec53",
   "metadata": {},
   "outputs": [],
   "source": [
    "from datetime import datetime"
   ]
  },
  {
   "cell_type": "code",
   "execution_count": null,
   "id": "ff62de5e-e8c3-4b95-85cd-63404c322c41",
   "metadata": {},
   "outputs": [],
   "source": [
    "import numpy as np\n",
    "from math import ceil\n",
    "import yaml"
   ]
  },
  {
   "cell_type": "code",
   "execution_count": null,
   "id": "4a7bebfe-902d-4a02-bc5c-e4914cd5311f",
   "metadata": {},
   "outputs": [],
   "source": [
    "conf = yaml.load(open('./../conf-all.yaml','r'), Loader=yaml.SafeLoader)"
   ]
  },
  {
   "cell_type": "code",
   "execution_count": null,
   "id": "f28b47cd-89de-4de7-a4bf-b8a0ebf2c94d",
   "metadata": {},
   "outputs": [],
   "source": [
    "select_sites = conf['dataset_parameters']['select_sites']"
   ]
  },
  {
   "cell_type": "code",
   "execution_count": null,
   "id": "da4ec83b-b2dc-4e94-93e0-1aa0c0fbdefc",
   "metadata": {},
   "outputs": [],
   "source": [
    "norms = pickle.load(open('./../experiments_2/sacred/12/var_norms.pkl','rb'))"
   ]
  },
  {
   "cell_type": "code",
   "execution_count": null,
   "id": "638fc868-2fa2-4d84-a406-854b17ffd366",
   "metadata": {},
   "outputs": [],
   "source": [
    "dict(zip(norms['std_norm']['shift_targets_WATER_VOLUME']['std'].to_dict()['coords']['global_sites']['data'],norms['std_norm']['shift_targets_WATER_VOLUME']['std'].to_dict()['data']))"
   ]
  },
  {
   "cell_type": "code",
   "execution_count": null,
   "id": "7c301416-2e55-46bc-a3c6-e6c7c07ad34d",
   "metadata": {},
   "outputs": [],
   "source": [
    "ds_data = pickle.load(open('./../data/ds_data.pkl','rb'))\n",
    "ds_meta = pickle.load(open('./../data/ds_meta.pkl','rb'))"
   ]
  },
  {
   "cell_type": "code",
   "execution_count": null,
   "id": "54ad3f8e-5497-4881-9848-7d8ea5175d26",
   "metadata": {},
   "outputs": [],
   "source": [
    "ds = xr.open_dataset('./../data/data_all.nc').compute()"
   ]
  },
  {
   "cell_type": "code",
   "execution_count": null,
   "id": "8da143e8-e6e5-40fe-8461-db4d24dbc487",
   "metadata": {},
   "outputs": [],
   "source": [
    "ds['targets_WATER_VOLUME'].data[:,tuple(ii for ii in range(5)),:]"
   ]
  },
  {
   "cell_type": "code",
   "execution_count": null,
   "id": "87462317-5f95-4cb4-b03f-03aef0245008",
   "metadata": {},
   "outputs": [],
   "source": [
    "def norm_func(arr):\n",
    "    return (arr - arr.min()) / (arr.max() - arr.min())  # 0 to 1"
   ]
  },
  {
   "cell_type": "code",
   "execution_count": null,
   "id": "f5c5a4fa-57b2-46d3-8060-c08a5b140b3c",
   "metadata": {},
   "outputs": [],
   "source": [
    "ds"
   ]
  },
  {
   "cell_type": "code",
   "execution_count": null,
   "id": "70da1ee6-8194-4e2a-a889-3293d768cfe8",
   "metadata": {},
   "outputs": [],
   "source": [
    "ds['targets_WATER_VOLUME'] = ds['targets_WATER_VOLUME'].groupby(\"global_sites\").map(norm_func)"
   ]
  },
  {
   "cell_type": "code",
   "execution_count": null,
   "id": "fdffba0a-108a-4493-8c30-04e7fc967c36",
   "metadata": {},
   "outputs": [],
   "source": [
    "ds[f\"shift_targets_WATER_VOLUME\"] = ds['targets_WATER_VOLUME'] - ds['targets_WATER_VOLUME'].shift({\"date\": 1})"
   ]
  },
  {
   "cell_type": "code",
   "execution_count": null,
   "id": "8c80d245-08a4-493f-91d6-cc162d5a8363",
   "metadata": {},
   "outputs": [],
   "source": [
    "ds['shift_targets_WATER_VOLUME'].sel({'global_sites':'krishnaraja_sagar'}).isel({'steps':0}).plot()#,'variable':'shift_targets_WATER_VOLUME'})"
   ]
  },
  {
   "cell_type": "code",
   "execution_count": null,
   "id": "ebf758fe-2172-4c9d-ac0f-98deeadf466b",
   "metadata": {},
   "outputs": [],
   "source": [
    "(ds['shift_targets_WATER_VOLUME'].sel({'global_sites':'krishnaraja_sagar'}) / ds['shift_targets_WATER_VOLUME'].sel({'global_sites':'krishnaraja_sagar'}).std()).isel({'steps':0}).plot()"
   ]
  },
  {
   "cell_type": "code",
   "execution_count": null,
   "id": "a756299b-4f6a-43ca-abf3-89f68c37c814",
   "metadata": {},
   "outputs": [],
   "source": [
    "ds['shift_targets_WATER_VOLUME'].sel({'global_sites':'krishnaraja_sagar'}).mean()"
   ]
  },
  {
   "cell_type": "code",
   "execution_count": null,
   "id": "a28a85d1-3acb-46c6-b73c-5d8fc49d2a4d",
   "metadata": {},
   "outputs": [],
   "source": [
    "ds['shift_targets_WATER_VOLUME'].sel({'global_sites':'krishnaraja_sagar'}).std()"
   ]
  },
  {
   "cell_type": "code",
   "execution_count": null,
   "id": "d5b5598b-32c0-41e3-b955-7942dd6476ad",
   "metadata": {},
   "outputs": [],
   "source": [
    "ds_arr = ds.to_array()"
   ]
  },
  {
   "cell_type": "code",
   "execution_count": null,
   "id": "0db67188-bd42-44ad-b985-307e4b874976",
   "metadata": {},
   "outputs": [],
   "source": [
    "ds_arr['variable']"
   ]
  },
  {
   "cell_type": "code",
   "execution_count": null,
   "id": "45b51930-1074-4f80-9162-ce2d9bc511ee",
   "metadata": {},
   "outputs": [],
   "source": [
    "ds_arr.sel({'variable':ds_arr['variable']!='targets_WATER_VOLUME'}).shape"
   ]
  },
  {
   "cell_type": "code",
   "execution_count": null,
   "id": "6d5ae83c-2e68-455e-945c-f65c72f3d821",
   "metadata": {},
   "outputs": [],
   "source": [
    "ds_arr.shape"
   ]
  },
  {
   "cell_type": "code",
   "execution_count": null,
   "id": "90f7da3e-2d2f-4d25-8479-ef831d3ecbde",
   "metadata": {},
   "outputs": [],
   "source": [
    "ds_arr.sel({'variable':['targets_WATER_VOLUME']})"
   ]
  },
  {
   "cell_type": "code",
   "execution_count": null,
   "id": "df4b4193-0633-447e-9260-c4bab478a074",
   "metadata": {
    "tags": []
   },
   "outputs": [],
   "source": [
    "ds['targets_WATER_VOLUME'].sel({'global_sites':['almatti','kabini']}).isel({'steps':0}).to_dict()"
   ]
  },
  {
   "cell_type": "code",
   "execution_count": null,
   "id": "7824340d-842e-4b0b-99ab-cd62d8ed3251",
   "metadata": {},
   "outputs": [],
   "source": [
    "fig, ax = plt.subplots(1,1,figsize=(100,10))\n",
    "ax.imshow(ds['forecast_tp'].sel({'global_sites':'kabini'}).isel({'steps':slice(0,15)}).data.T)"
   ]
  },
  {
   "cell_type": "code",
   "execution_count": null,
   "id": "bc8cc440-876a-4c41-bfa2-9e2e60351cf9",
   "metadata": {},
   "outputs": [],
   "source": [
    "fig, ax = plt.subplots(1,1,figsize=(10,10))\n",
    "#std = ds['forecast_tp'].sel({'global_sites':'kabini'}).isel({'steps':slice(0,15)}).data.std()\n",
    "ds['historic_tp'].sel({'global_sites':'kabini'}).isel({'steps':0}).plot(ax=ax)"
   ]
  },
  {
   "cell_type": "code",
   "execution_count": null,
   "id": "f1b08399-901d-4cfc-a994-eaf65345ab10",
   "metadata": {},
   "outputs": [],
   "source": [
    "fig, ax = plt.subplots(1,1,figsize=(10,10))\n",
    "std = ds['forecast_tp'].sel({'global_sites':'kabini'}).isel({'steps':slice(0,15)}).data.std()\n",
    "ax.hist(ds['forecast_tp'].sel({'global_sites':'kabini'}).isel({'steps':slice(0,15)}).data.flatten()/std,bins=20)"
   ]
  },
  {
   "cell_type": "code",
   "execution_count": null,
   "id": "912ec90b-bfb8-4a41-99cf-0d8fdeb7632e",
   "metadata": {},
   "outputs": [],
   "source": [
    "ds['forecast_tp'].sel({'global_sites':'kabini'}).median()"
   ]
  },
  {
   "cell_type": "code",
   "execution_count": null,
   "id": "3af7c199-271c-4845-bf2a-446d93839509",
   "metadata": {},
   "outputs": [],
   "source": [
    "fig, ax = plt.subplots(1,1,figsize=(10,6))\n",
    "\n",
    "for site in ['hemavathy','harangi','krishnaraja_sagar']:\n",
    "    ds['targets_WATER_VOLUME'].sel({'global_sites':site}).isel({'steps':0}).plot(ax=ax, label=site)\n",
    "    \n",
    "ax.legend()"
   ]
  },
  {
   "cell_type": "code",
   "execution_count": null,
   "id": "b5f985aa-0798-43a4-9fa3-a7ab6a89fbac",
   "metadata": {},
   "outputs": [],
   "source": [
    "fig, ax = plt.subplots(1,1,figsize=(16,10))\n",
    "ax2 = ax.twinx()\n",
    "\n",
    "for site in ['hemavathy','harangi','krishnaraja_sagar','kabini']:\n",
    "    #ds['historic_tp'].sel({'global_sites':site}).isel({'steps':0}).plot(ax=ax, label=site)\n",
    "    ds['targets_WATER_VOLUME'].sel({'global_sites':site}).isel({'steps':0}).plot(ax=ax2, label=site)\n",
    "    \n",
    "ax.legend()"
   ]
  },
  {
   "cell_type": "code",
   "execution_count": null,
   "id": "8153bf63-600a-4992-9e14-ab09b72d4722",
   "metadata": {},
   "outputs": [],
   "source": [
    "ds['targets_WATER_VOLUME'].sel({'global_sites':'tattihalla'}).isel({'steps':0}).plot()"
   ]
  },
  {
   "cell_type": "code",
   "execution_count": null,
   "id": "dde6b123-72d6-4ab7-addc-d43f9c7a2f00",
   "metadata": {},
   "outputs": [],
   "source": [
    "len(ds_data.keys())"
   ]
  },
  {
   "cell_type": "code",
   "execution_count": null,
   "id": "51ad6524-687f-4c10-9692-a33e48e09b47",
   "metadata": {},
   "outputs": [],
   "source": [
    "dt_idx = (pd.to_datetime(ds['date'])>datetime(2021,1,1))&(pd.to_datetime(ds['date'])<datetime(2021,1,31))"
   ]
  },
  {
   "cell_type": "code",
   "execution_count": null,
   "id": "259418a6-6724-4692-92bc-52980f889251",
   "metadata": {
    "tags": []
   },
   "outputs": [],
   "source": [
    "for site in ds['global_sites']:\n",
    "    print (ds['targets_WATER_VOLUME'].isel({'steps':0}).sel({'global_sites':site,'date':dt_idx}))#.plot()"
   ]
  },
  {
   "cell_type": "code",
   "execution_count": null,
   "id": "8b0496bd-d22b-440f-ac00-15c461fb3da1",
   "metadata": {},
   "outputs": [],
   "source": []
  },
  {
   "cell_type": "code",
   "execution_count": null,
   "id": "b2c76848-7fd5-4218-9aa4-f6608d69ad6b",
   "metadata": {},
   "outputs": [],
   "source": []
  },
  {
   "cell_type": "code",
   "execution_count": null,
   "id": "dd8eedb6-0987-4afb-89e9-eeeb337c9e7d",
   "metadata": {},
   "outputs": [],
   "source": [
    "ds['targets_WATER_VOLUME'].isel({'steps':0}).sel({'global_sites':'hirakud','date':dt_idx})#.plot()"
   ]
  },
  {
   "cell_type": "code",
   "execution_count": null,
   "id": "81e51121-618d-446f-94a5-a8714d9fdeb1",
   "metadata": {},
   "outputs": [],
   "source": [
    "ds_data[0].keys(), ds_meta[0]"
   ]
  },
  {
   "cell_type": "code",
   "execution_count": null,
   "id": "04efb857-6d68-49ea-af3a-9639b881bbd7",
   "metadata": {
    "tags": []
   },
   "outputs": [],
   "source": [
    "for kk, data in ds_data.items():\n",
    "    for kk2, vv in data.items():\n",
    "        if np.isnan(vv).any():\n",
    "            print (kk,kk2,vv.shape, [(ii,select_sites[ii]) for ii in np.where(np.isnan(vv).any(axis=0))[0]], ds_meta[kk])"
   ]
  },
  {
   "cell_type": "code",
   "execution_count": null,
   "id": "9ebb3ac7-9126-46b8-aa13-7242751b33c9",
   "metadata": {},
   "outputs": [],
   "source": []
  },
  {
   "cell_type": "code",
   "execution_count": null,
   "id": "db957d34-d5db-4c7e-a4b3-40f5a6e6575d",
   "metadata": {},
   "outputs": [],
   "source": [
    "preds = xr.open_dataset('/home/lucas/h2ox-ai/experiments/sacred/104/preds.nc').compute()"
   ]
  },
  {
   "cell_type": "code",
   "execution_count": null,
   "id": "d2afd055-40c4-47fb-9752-f91a3717de69",
   "metadata": {
    "tags": []
   },
   "outputs": [],
   "source": [
    "preds"
   ]
  },
  {
   "cell_type": "code",
   "execution_count": null,
   "id": "75446507-7062-48e3-b544-695a9714abaf",
   "metadata": {},
   "outputs": [],
   "source": [
    "preds.isel({'step':0,'site':0})['sim-mean'].plot()"
   ]
  },
  {
   "cell_type": "code",
   "execution_count": null,
   "id": "e2fdd0ca-d811-4f46-ab9f-af49af100d9e",
   "metadata": {},
   "outputs": [],
   "source": [
    "preds.isel({'step':0,'site':0})['obs'].plot()"
   ]
  },
  {
   "cell_type": "code",
   "execution_count": null,
   "id": "f166b3f3-fd42-4b37-9c25-02adfde6860c",
   "metadata": {},
   "outputs": [],
   "source": []
  },
  {
   "cell_type": "code",
   "execution_count": null,
   "id": "362423dd-0deb-4f30-8384-60c51dbbb630",
   "metadata": {},
   "outputs": [],
   "source": []
  },
  {
   "cell_type": "code",
   "execution_count": null,
   "id": "7e5049d7-f710-47a5-b6ae-e5f829b22948",
   "metadata": {},
   "outputs": [],
   "source": [
    "var_norms = pickle.load(open('./../data/var_norms.pkl','rb'))"
   ]
  },
  {
   "cell_type": "code",
   "execution_count": null,
   "id": "88f32e5e-a718-4e7a-898d-0bd6bc83ffa3",
   "metadata": {},
   "outputs": [],
   "source": [
    "var_norms['zscore']['shift_targets_WATER_VOLUME']"
   ]
  },
  {
   "cell_type": "code",
   "execution_count": null,
   "id": "31d63629-16b8-47fa-b79a-7fa10320ccd6",
   "metadata": {},
   "outputs": [],
   "source": [
    "5.18069319e-05*0.01480313"
   ]
  },
  {
   "cell_type": "code",
   "execution_count": null,
   "id": "79a62c79-3a33-403c-be52-b20a8b119bdf",
   "metadata": {},
   "outputs": [],
   "source": [
    "var_norms['zscore']['shift_targets_WATER_VOLUME']['std']"
   ]
  },
  {
   "cell_type": "code",
   "execution_count": null,
   "id": "cdf8e2b7-2c00-4bb1-aaef-16ba3dbdfb31",
   "metadata": {
    "tags": []
   },
   "outputs": [],
   "source": [
    "preds['obs']"
   ]
  },
  {
   "cell_type": "code",
   "execution_count": null,
   "id": "5ad8f2dc-ca0f-469f-ac7c-1f4ab90daedb",
   "metadata": {
    "tags": []
   },
   "outputs": [],
   "source": [
    "preds['obs']*var_norms['zscore']['shift_targets_WATER_VOLUME']['std'].rename({'global_sites':'site'})+var_norms['zscore']['shift_targets_WATER_VOLUME']['mean'].rename({'global_sites':'site'})"
   ]
  },
  {
   "cell_type": "code",
   "execution_count": null,
   "id": "251eece7-8867-4ce0-aaf1-eab9b16f7d10",
   "metadata": {},
   "outputs": [],
   "source": [
    "norms = xr.open_dataset('/home/lucas/h2ox-ai/data/sacred/54/preds.nc').compute()"
   ]
  },
  {
   "cell_type": "code",
   "execution_count": null,
   "id": "6c92b8fc-fb8f-4ec6-9ba8-6fb67f40f35b",
   "metadata": {},
   "outputs": [],
   "source": []
  },
  {
   "cell_type": "code",
   "execution_count": null,
   "id": "96078888-f4f2-47d2-88f9-f215b4cfa92d",
   "metadata": {},
   "outputs": [],
   "source": []
  },
  {
   "cell_type": "code",
   "execution_count": null,
   "id": "9dd160b2-d9a1-4706-a0f5-367b4f074a2a",
   "metadata": {},
   "outputs": [],
   "source": []
  },
  {
   "cell_type": "code",
   "execution_count": null,
   "id": "cea6bc64-ded7-4503-a1ec-0ead8a7a7163",
   "metadata": {},
   "outputs": [],
   "source": [
    "ds = xr.open_dataset('/home/lucas/h2ox-ai/data/test_data_shift.nc')#.compute()"
   ]
  },
  {
   "cell_type": "code",
   "execution_count": null,
   "id": "f8096131-46da-4e13-b197-22ddaec5860e",
   "metadata": {},
   "outputs": [],
   "source": [
    "def norm_func(arr):\n",
    "    return (arr - arr.min()) / (arr.max() - arr.min()) # 0 to 1\n",
    "ds['targets_WATER_VOLUME'] = ds['targets_WATER_VOLUME'].groupby('global_sites').map(norm_func)"
   ]
  },
  {
   "cell_type": "code",
   "execution_count": null,
   "id": "259ec0f5-bd11-4a1f-a4f7-c80c50994ad6",
   "metadata": {},
   "outputs": [],
   "source": [
    "ds = ds.rename({'global_sites':'site','steps':'step'})"
   ]
  },
  {
   "cell_type": "code",
   "execution_count": null,
   "id": "c4fc92f6-6bb0-4e7a-80ce-ed087734bb9e",
   "metadata": {
    "jupyter": {
     "source_hidden": true
    },
    "tags": []
   },
   "outputs": [],
   "source": [
    "preds = xr.open_dataset('/home/lucas/h2ox-ai/experiments/sacred/49/preds.nc').compute()"
   ]
  },
  {
   "cell_type": "code",
   "execution_count": null,
   "id": "09d2da1d-d5fa-40d6-a9ac-a8b38e409003",
   "metadata": {
    "tags": []
   },
   "outputs": [],
   "source": [
    "preds['sim-frozen'].cumsum(dim='step').isel({'date':30,'site':2})"
   ]
  },
  {
   "cell_type": "code",
   "execution_count": null,
   "id": "00359f13-4b69-4332-a247-a21e960e3259",
   "metadata": {
    "tags": []
   },
   "outputs": [],
   "source": [
    "preds['obs'].cumsum(dim='step').isel({'date':30,'site':2})"
   ]
  },
  {
   "cell_type": "code",
   "execution_count": null,
   "id": "e7d0cdf4-ed4b-4747-88c5-2c99a6122145",
   "metadata": {},
   "outputs": [],
   "source": [
    "test_chunks = [[\"2011-01-01\",\"2011-12-31\"],[\"2020-01-01\",\"2020-12-31\"]]"
   ]
  },
  {
   "cell_type": "code",
   "execution_count": null,
   "id": "24129cf8-591d-4658-bbe0-f4ee0873ae0b",
   "metadata": {},
   "outputs": [],
   "source": [
    "ci_dims = ['ci-95+','ci-95-']"
   ]
  },
  {
   "cell_type": "code",
   "execution_count": null,
   "id": "9d6d86a8-0152-43c2-9fe0-03885db3a1bd",
   "metadata": {},
   "outputs": [],
   "source": [
    "cmap = cm.get_cmap(\"winter_r\")\n",
    "n_cols = 3\n",
    "n_rows = ceil(len(preds[\"site\"]) / n_cols) * len(test_chunks)\n",
    "fig, axs = plt.subplots(n_rows, n_cols, figsize=(6 * n_cols, 3 * n_rows))\n",
    "axs = axs.flatten()\n",
    "_ii = 0\n",
    "for chunk in test_chunks:\n",
    "    date_idx = (preds[\"date\"] >= pd.to_datetime(chunk[0])) & (\n",
    "        preds[\"date\"] <= pd.to_datetime(chunk[1])\n",
    "    )\n",
    "    for site in preds[\"site\"].data:\n",
    "\n",
    "        for step in [5, 15, 25, 50, 75, 89]:\n",
    "            # print (site, step)\n",
    "            hexcolor = \"#\" + \"\".join(\n",
    "                f\"{int(el*255):02x}\" for el in cmap(int(step / 90 * 255))[:3]\n",
    "            )\n",
    "            # plot main\n",
    "            preds.sel({\"site\": site, \"step\": step, \"date\": date_idx})['sim-mean'].plot(ax=axs[_ii], c=hexcolor)\n",
    "\n",
    "            # plot CI if available\n",
    "            if ci_dims is not None:\n",
    "                for dim in ci_dims:\n",
    "                    preds.sel({\"site\": site, \"step\": step, \"date\": date_idx})[dim].plot(ax=axs[_ii], c=hexcolor, ls=':')\n",
    "\n",
    "        preds.sel({\"site\": site, \"step\": 0, \"date\": date_idx})[\"obs\"].plot(\n",
    "            ax=axs[_ii], c=\"#f200ff\"\n",
    "        )\n",
    "        _ii += 1"
   ]
  },
  {
   "cell_type": "code",
   "execution_count": null,
   "id": "e21b9da5-412d-4edf-a59d-317f037f0d8c",
   "metadata": {},
   "outputs": [],
   "source": [
    "cmap = cm.get_cmap('winter_r')"
   ]
  },
  {
   "cell_type": "code",
   "execution_count": null,
   "id": "e507dac5-d347-4074-a836-dfa940d8b932",
   "metadata": {},
   "outputs": [],
   "source": [
    "#for var in ['obs','sim']:\n",
    "#    preds[var] = (\n",
    "#        preds[var].cumsum(dim='step') + \n",
    "#        ds['targets_WATER_VOLUME'].sel({'date':ds['date'].isin(preds['date'])}).isel({'step':0})\n",
    "#    )"
   ]
  },
  {
   "cell_type": "code",
   "execution_count": null,
   "id": "4a0448bd-35bc-4ff5-8fd7-f251bbf276a1",
   "metadata": {},
   "outputs": [],
   "source": [
    "a = ['a','d']"
   ]
  },
  {
   "cell_type": "code",
   "execution_count": null,
   "id": "f3fbe480-b87b-4506-976f-09bcaad0dfd3",
   "metadata": {},
   "outputs": [],
   "source": [
    "if a:\n",
    "    print(a)"
   ]
  },
  {
   "cell_type": "code",
   "execution_count": null,
   "id": "6eac4095-82e5-4257-aa59-a194c92c199d",
   "metadata": {
    "tags": []
   },
   "outputs": [],
   "source": [
    "preds"
   ]
  },
  {
   "cell_type": "code",
   "execution_count": null,
   "id": "fe97ce51-010c-470f-a6eb-b980dd34fd9a",
   "metadata": {},
   "outputs": [],
   "source": [
    "n_cols = 3\n",
    "n_rows = ceil(len(ds['site'])/n_cols)*len(test_chunks)\n",
    "fig, axs = plt.subplots(n_rows, n_cols,figsize=(6*n_cols,3*n_rows))\n",
    "axs = axs.flatten()\n",
    "_ii = 0\n",
    "for chunk in test_chunks:\n",
    "    date_idx = (preds['date']>=pd.to_datetime(chunk[0]))&(preds['date']<=pd.to_datetime(chunk[1]))\n",
    "    for site in preds['site'].data:\n",
    "        \n",
    "        for step in [0,5,10,15,25,50,75,89]:\n",
    "            #print (site, step)\n",
    "            rgba = cmap(int(step/90*255))\n",
    "            preds.sel({'site':site,'step':step,'date':date_idx}).shift(date=step)['sim'].plot(ax=axs[_ii], c='#'+''.join(f'{int(el*255):02x}' for el in rgba[:3]))\n",
    "            \n",
    "        \n",
    "        preds.sel({'site':site,'step':0,'date':date_idx})['obs'].plot(ax=axs[_ii], c='#f200ff')\n",
    "        _ii+=1"
   ]
  },
  {
   "cell_type": "code",
   "execution_count": null,
   "id": "66710514-6f8f-4d3a-b6b0-a2514d49602a",
   "metadata": {},
   "outputs": [],
   "source": []
  },
  {
   "cell_type": "code",
   "execution_count": null,
   "id": "7dee33e3-3647-403d-b384-9cff40b3852c",
   "metadata": {},
   "outputs": [],
   "source": []
  },
  {
   "cell_type": "code",
   "execution_count": null,
   "id": "26a05d4e-fae9-4539-af48-63998336ddec",
   "metadata": {},
   "outputs": [],
   "source": []
  },
  {
   "cell_type": "code",
   "execution_count": null,
   "id": "852e0b76-064b-4ce2-bec3-25be67ff45bb",
   "metadata": {},
   "outputs": [],
   "source": []
  },
  {
   "cell_type": "code",
   "execution_count": null,
   "id": "a1d3b5ed-8de3-4c86-8d4e-6f6f2b7469e5",
   "metadata": {},
   "outputs": [],
   "source": []
  },
  {
   "cell_type": "code",
   "execution_count": null,
   "id": "41cc08f4-4911-44fe-ae28-f5ef5d312f18",
   "metadata": {},
   "outputs": [],
   "source": [
    "preds['obs']"
   ]
  },
  {
   "cell_type": "code",
   "execution_count": null,
   "id": "860ac87d-1cea-4e04-a0e0-58981db11ffc",
   "metadata": {},
   "outputs": [],
   "source": [
    "preds['obs'].isel({'site':1,'date':3})"
   ]
  },
  {
   "cell_type": "code",
   "execution_count": null,
   "id": "50aee2a8-cbc3-41a4-ac29-f21025d8ae56",
   "metadata": {},
   "outputs": [],
   "source": [
    "ds['targets_WATER_VOLUME'].isel({'steps':0,'site':0}).sel({'date':ds['date'].isin(preds['date'])})"
   ]
  },
  {
   "cell_type": "code",
   "execution_count": null,
   "id": "08dcdd8b-3d97-451b-8cb3-5aa6bbab9804",
   "metadata": {},
   "outputs": [],
   "source": [
    "ds['targets_WATER_VOLUME'].sel({'date':ds['date'].isin(preds['date'])}).isel({'site':0,'date':2})"
   ]
  },
  {
   "cell_type": "code",
   "execution_count": null,
   "id": "10dc8a47-bb18-4df6-81fc-f0a071c97661",
   "metadata": {},
   "outputs": [],
   "source": [
    "preds['obs'].cumsum(dim='step').isel({'date':2,'site':0})"
   ]
  },
  {
   "cell_type": "code",
   "execution_count": null,
   "id": "c7e2dbf6-28c6-462c-967d-e1ce3bd93d8a",
   "metadata": {},
   "outputs": [],
   "source": [
    "(preds['obs'].cumsum(dim='step') + ds['targets_WATER_VOLUME'].sel({'date':ds['date'].isin(preds['date'])}).isel({'steps':0})).isel({'site':0,'date':2})"
   ]
  },
  {
   "cell_type": "code",
   "execution_count": null,
   "id": "e2c5b330-e0c6-4625-b60b-69b1863d1b36",
   "metadata": {},
   "outputs": [],
   "source": [
    "xr.apply_ufunc(np.cumsum, preds['obs'], input_core_dims=[[\"date\",\"site\"]])"
   ]
  },
  {
   "cell_type": "code",
   "execution_count": null,
   "id": "fcc15f9f-52e1-470f-878e-f893593c39cd",
   "metadata": {},
   "outputs": [],
   "source": []
  },
  {
   "cell_type": "code",
   "execution_count": null,
   "id": "f2891c62-7be0-484e-94fb-f6bfc4ce3846",
   "metadata": {},
   "outputs": [],
   "source": [
    "ds.sel({'site':'bhadra','step':0})"
   ]
  },
  {
   "cell_type": "code",
   "execution_count": null,
   "id": "50343895-bfe6-4c2f-9159-5ab13366c9c1",
   "metadata": {},
   "outputs": [],
   "source": [
    "len(ds['site'])"
   ]
  },
  {
   "cell_type": "code",
   "execution_count": null,
   "id": "9eb585dc-c95a-49dd-bdec-6b66d3a7cf3b",
   "metadata": {},
   "outputs": [],
   "source": [
    "from math import ceil"
   ]
  },
  {
   "cell_type": "code",
   "execution_count": null,
   "id": "9347eaa8-9509-46b5-8aa8-f34789bfdee2",
   "metadata": {},
   "outputs": [],
   "source": [
    "ds"
   ]
  },
  {
   "cell_type": "code",
   "execution_count": null,
   "id": "48676d6e-0f2a-40f8-a787-eb961ed3b11d",
   "metadata": {},
   "outputs": [],
   "source": []
  },
  {
   "cell_type": "code",
   "execution_count": null,
   "id": "0d8892fa-2c57-433f-bef5-598871c143d7",
   "metadata": {},
   "outputs": [],
   "source": [
    "fig, ax = plt.subplots(1,1,figsize=(6,6))\n",
    "#ds.sel({'site':'bhadra','step':0,'date':dt_chunk})['obs'].plot(ax=ax, c='c')\n",
    "ds.sel({'site':'bhadra','step':0,'date':dt_chunk})['obs'].plot(ax=ax, c='b')\n",
    "#ds.sel({'site':'bhadra','step':5,'date':dt_chunk})['obs'].plot(ax=ax, c='c')\n",
    "ds.sel({'site':'bhadra','step':0,'date':dt_chunk})['sim'].shift({'date':0}).plot(ax=ax, c='c')\n",
    "ds.sel({'site':'bhadra','step':15,'date':dt_chunk})['sim'].shift({'date':15}).plot(ax=ax, c='g')\n",
    "#ax.plot(\n",
    "#    pd.date_range('2020-03-01',periods=90,freq='D'),\n",
    "#    ds.sel({'site':'bhadra','date':pd.to_datetime('2020-03-01')})['sim'].data,\n",
    "#    c='c'\n",
    "#)\n",
    "ax.plot(\n",
    "    pd.date_range('2020-05-01',periods=90,freq='D'),\n",
    "    ds.sel({'site':'bhadra','date':pd.to_datetime('2020-05-01')})['sim'].data,\n",
    "    c='c'\n",
    ")"
   ]
  },
  {
   "cell_type": "code",
   "execution_count": null,
   "id": "6c6e82d3-802a-41f1-af9d-d04cc5bdc3a4",
   "metadata": {},
   "outputs": [],
   "source": [
    "f'#{0:02x}{75:02x}{255:02x}'"
   ]
  },
  {
   "cell_type": "code",
   "execution_count": null,
   "id": "7b287806-f438-47ae-9ebb-0d5722ecd7b9",
   "metadata": {},
   "outputs": [],
   "source": []
  },
  {
   "cell_type": "code",
   "execution_count": null,
   "id": "94f3d438-e9aa-4765-9dbb-5149817903d2",
   "metadata": {},
   "outputs": [],
   "source": [
    "dt_chunk = (ds['date']>=pd.to_datetime(chunk[0]))&(ds['date']<=pd.to_datetime(chunk[1]))"
   ]
  },
  {
   "cell_type": "code",
   "execution_count": null,
   "id": "31dc1abb-1f5a-4cbf-a133-f13bab9dd0cd",
   "metadata": {},
   "outputs": [],
   "source": [
    "for chunk in test_chunks:\n",
    "    print (ds.sel({'site':site,'step':step,'date':(ds['date']>=pd.to_datetime(chunk[0]))&(ds['date']<=pd.to_datetime(chunk[1]))}))"
   ]
  },
  {
   "cell_type": "code",
   "execution_count": null,
   "id": "dbeda2fd-0704-44bd-8ea5-18829e2f4573",
   "metadata": {},
   "outputs": [],
   "source": [
    "from matplotlib import cm"
   ]
  },
  {
   "cell_type": "code",
   "execution_count": null,
   "id": "cedde188-bf6b-4d00-ad48-2618efa7df71",
   "metadata": {},
   "outputs": [],
   "source": []
  },
  {
   "cell_type": "code",
   "execution_count": null,
   "id": "456c6840-523f-459f-80bf-4766103b3092",
   "metadata": {},
   "outputs": [],
   "source": [
    "cmap(255)"
   ]
  },
  {
   "cell_type": "code",
   "execution_count": null,
   "id": "1ce9db6a-e888-4b97-aec0-64f33743900c",
   "metadata": {},
   "outputs": [],
   "source": [
    "import numpy as np"
   ]
  },
  {
   "cell_type": "code",
   "execution_count": null,
   "id": "76121129-ace8-42a4-9b54-758388d88df2",
   "metadata": {},
   "outputs": [],
   "source": [
    "a = np.array([False,True,False,True,False])\n",
    "b = np.array([False,True,True,False,False])\n",
    "c = np.array([False,False,True,True,False])"
   ]
  },
  {
   "cell_type": "code",
   "execution_count": null,
   "id": "03d33664-0253-40b7-81d3-03222ebe9d50",
   "metadata": {},
   "outputs": [],
   "source": [
    "np.sum(np.stack([a,b,c]),axis=0)>0"
   ]
  },
  {
   "cell_type": "code",
   "execution_count": null,
   "id": "81c032b4-5a41-4001-9381-317ca7110820",
   "metadata": {},
   "outputs": [],
   "source": [
    "def get_exponential_weights(horizon: int):\n",
    "    # exponential weighting\n",
    "    wt = np.exp(np.linspace(0, 5, horizon))[::-1]\n",
    "    wt = wt / np.linalg.norm(wt)\n",
    "    return wt"
   ]
  },
  {
   "cell_type": "code",
   "execution_count": null,
   "id": "ba83d8e2-a0a3-4905-8466-013a09d43c16",
   "metadata": {},
   "outputs": [],
   "source": [
    "import torch"
   ]
  },
  {
   "cell_type": "code",
   "execution_count": null,
   "id": "ee70644b-99ab-49e8-a78c-73b8475d14db",
   "metadata": {},
   "outputs": [],
   "source": [
    "def get_exponential_weights(horizon: int, clip:float) -> torch.Tensor:\n",
    "    # exponential weighting\n",
    "    wt = np.exp(np.linspace(0, 5, horizon))[::-1]\n",
    "    wt[int(horizon*clip):] = 0\n",
    "    wt = wt / np.linalg.norm(wt)\n",
    "    wt = torch.from_numpy(wt)\n",
    "    return wt"
   ]
  },
  {
   "cell_type": "code",
   "execution_count": null,
   "id": "8588a91e-7036-492b-8a04-473ca1bee876",
   "metadata": {},
   "outputs": [],
   "source": [
    "wt = get_exponential_weights(90,0.01)"
   ]
  },
  {
   "cell_type": "code",
   "execution_count": null,
   "id": "74ee264c-ea75-450e-b173-04d7b30d9c2a",
   "metadata": {},
   "outputs": [],
   "source": [
    "wt"
   ]
  },
  {
   "cell_type": "markdown",
   "id": "88ea02e7-99b6-4671-9f69-41546eb22d28",
   "metadata": {},
   "source": [
    "# torch.stack([wt]*6,dim=1).shape"
   ]
  },
  {
   "cell_type": "code",
   "execution_count": null,
   "id": "e19d7052-54ff-49c0-8949-65e31197dd33",
   "metadata": {},
   "outputs": [],
   "source": [
    "inp = torch.rand((90,6))\n",
    "oup = torch.rand((90,6))"
   ]
  },
  {
   "cell_type": "code",
   "execution_count": null,
   "id": "f56e4fc4-2cde-48f7-94ea-32b6acc410ec",
   "metadata": {},
   "outputs": [],
   "source": [
    "wt * (inp - oup)**2"
   ]
  },
  {
   "cell_type": "code",
   "execution_count": null,
   "id": "df754757-9c2b-4bec-aaf8-9325400cca9d",
   "metadata": {},
   "outputs": [],
   "source": []
  },
  {
   "cell_type": "code",
   "execution_count": null,
   "id": "5fd66d13-1b71-4c99-837c-20c40bb9d481",
   "metadata": {},
   "outputs": [],
   "source": [
    "get_exponential_weights(70).shape"
   ]
  },
  {
   "cell_type": "code",
   "execution_count": null,
   "id": "afcc4042-be65-4f01-bb9f-16dec068275d",
   "metadata": {},
   "outputs": [],
   "source": [
    "wt = np.exp(np.linspace(0, 5, 70))[::-1]"
   ]
  },
  {
   "cell_type": "code",
   "execution_count": null,
   "id": "32b0d933-0c62-4110-9008-16c351e97b4c",
   "metadata": {},
   "outputs": [],
   "source": [
    "clip=0.5"
   ]
  },
  {
   "cell_type": "code",
   "execution_count": null,
   "id": "e245e4d6-07c5-4532-a2d1-19894470d2b5",
   "metadata": {},
   "outputs": [],
   "source": [
    "wt[int(70*clip):] = 0"
   ]
  },
  {
   "cell_type": "code",
   "execution_count": null,
   "id": "aab77ffe-d3d4-4efd-be12-6a45b86cfc04",
   "metadata": {},
   "outputs": [],
   "source": [
    "wt / np.linalg.norm(wt)"
   ]
  },
  {
   "cell_type": "code",
   "execution_count": null,
   "id": "13318814-8ea1-430d-b477-8273d7373762",
   "metadata": {},
   "outputs": [],
   "source": [
    "from datetime import timedelta"
   ]
  },
  {
   "cell_type": "code",
   "execution_count": null,
   "id": "05f0abcb-5e5d-4f0d-8a80-93f5c7a81bc1",
   "metadata": {},
   "outputs": [],
   "source": [
    "np.repeat([np.arange(5)],10, axis=0)"
   ]
  },
  {
   "cell_type": "code",
   "execution_count": null,
   "id": "5c9b2ca3-6370-4d32-87ef-65957a7f38a6",
   "metadata": {},
   "outputs": [],
   "source": [
    "idx = pd.date_range('2010-01-01', '2012-01-01', freq=\"d\")\n",
    "idx.name = \"date\"\n",
    "\n",
    "cols = pd.TimedeltaIndex([timedelta(days=ii) for ii in [0,5,10,15]], name=\"steps\")\n",
    "\n",
    "data = np.repeat([np.arange(len([0,5,10,15]))],len(idx),axis=0)/len([0,5,10,15])\n",
    "\n",
    "df = pd.DataFrame(data=data, index=idx, columns=cols)"
   ]
  },
  {
   "cell_type": "code",
   "execution_count": null,
   "id": "82a36ba5-7c9a-480c-9bcc-5bf85f2342f8",
   "metadata": {},
   "outputs": [],
   "source": [
    "df"
   ]
  },
  {
   "cell_type": "code",
   "execution_count": null,
   "id": "9389442a-09ca-4b89-94da-d52d2309e7d8",
   "metadata": {},
   "outputs": [],
   "source": []
  }
 ],
 "metadata": {
  "kernelspec": {
   "display_name": "Python 3",
   "language": "python",
   "name": "python3"
  },
  "language_info": {
   "codemirror_mode": {
    "name": "ipython",
    "version": 3
   },
   "file_extension": ".py",
   "mimetype": "text/x-python",
   "name": "python",
   "nbconvert_exporter": "python",
   "pygments_lexer": "ipython3",
   "version": "3.9.7"
  }
 },
 "nbformat": 4,
 "nbformat_minor": 5
}
