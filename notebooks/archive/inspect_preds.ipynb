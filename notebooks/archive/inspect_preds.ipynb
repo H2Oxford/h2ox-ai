{
 "cells": [
  {
   "cell_type": "code",
   "execution_count": null,
   "id": "2b038999-c069-4f67-bf48-161f550d6215",
   "metadata": {},
   "outputs": [],
   "source": [
    "import xarray as xr\n",
    "import matplotlib.pyplot as plt\n",
    "import pickle"
   ]
  },
  {
   "cell_type": "code",
   "execution_count": null,
   "id": "c90a4c27-23aa-448a-ab65-d3f057b38e91",
   "metadata": {},
   "outputs": [],
   "source": [
    "preds = xr.open_dataset('/home/lucas/h2ox-ai/experiments/sacred/178/preds.nc').compute()\n",
    "var_norms = pickle.load(open('/home/lucas/h2ox-ai/experiments/sacred/178/var_norms.pkl','rb'))"
   ]
  },
  {
   "cell_type": "code",
   "execution_count": null,
   "id": "82e30830-6af3-4e4c-9366-651991c690ec",
   "metadata": {},
   "outputs": [],
   "source": [
    "preds2 = xr.open_dataset('/home/lucas/h2ox-ai/experiments/sacred/176/preds.nc').compute()"
   ]
  },
  {
   "cell_type": "code",
   "execution_count": null,
   "id": "60f6edad-c7ca-4bf0-a1fb-977798631757",
   "metadata": {},
   "outputs": [],
   "source": [
    "preds"
   ]
  },
  {
   "cell_type": "code",
   "execution_count": null,
   "id": "2647cb56-0b79-4892-98eb-10a1e6ecdeca",
   "metadata": {},
   "outputs": [],
   "source": [
    "dt_idx = 200"
   ]
  },
  {
   "cell_type": "code",
   "execution_count": null,
   "id": "34ca919c-f668-496b-afd9-526c5248dbf3",
   "metadata": {},
   "outputs": [],
   "source": [
    "preds['obs'].isel({'date':dt_idx,'site':0}).plot()"
   ]
  },
  {
   "cell_type": "code",
   "execution_count": null,
   "id": "7c81b3bf-e98f-47ed-a59c-df39e6595725",
   "metadata": {},
   "outputs": [],
   "source": [
    "preds['sim-mean'].isel({'date':dt_idx,'site':0}).plot()"
   ]
  },
  {
   "cell_type": "code",
   "execution_count": null,
   "id": "e2311c39-7f65-4ad1-b474-b697175535ad",
   "metadata": {},
   "outputs": [],
   "source": [
    "preds2['obs'].isel({'date':dt_idx,'site':0}).plot()"
   ]
  },
  {
   "cell_type": "code",
   "execution_count": null,
   "id": "f443eccc-993f-4329-a70d-2e3eafcdea24",
   "metadata": {},
   "outputs": [],
   "source": [
    "preds2['sim'].isel({'date':dt_idx,'site':0}).plot()"
   ]
  },
  {
   "cell_type": "code",
   "execution_count": null,
   "id": "7fafc848-6da5-4b66-adc2-b3689f28db28",
   "metadata": {},
   "outputs": [],
   "source": []
  },
  {
   "cell_type": "code",
   "execution_count": null,
   "id": "f4664f45-7cd0-4ad6-8ea2-3bdece026caf",
   "metadata": {},
   "outputs": [],
   "source": []
  }
 ],
 "metadata": {
  "kernelspec": {
   "display_name": "Python 3",
   "language": "python",
   "name": "python3"
  },
  "language_info": {
   "codemirror_mode": {
    "name": "ipython",
    "version": 3
   },
   "file_extension": ".py",
   "mimetype": "text/x-python",
   "name": "python",
   "nbconvert_exporter": "python",
   "pygments_lexer": "ipython3",
   "version": "3.9.7"
  }
 },
 "nbformat": 4,
 "nbformat_minor": 5
}
