{
 "cells": [
  {
   "cell_type": "code",
   "execution_count": null,
   "id": "404f7beb-327e-42b3-8acf-2fc77c2db8e9",
   "metadata": {},
   "outputs": [],
   "source": [
    "import xarray as xr\n",
    "import matplotlib.pyplot as plt"
   ]
  },
  {
   "cell_type": "code",
   "execution_count": null,
   "id": "a7426880-373b-4aab-85ea-bd7040ab324c",
   "metadata": {},
   "outputs": [],
   "source": [
    "import geopandas as gpd\n",
    "import pandas as pd\n",
    "import numpy as np\n",
    "from datetime import datetime, timedelta"
   ]
  },
  {
   "cell_type": "code",
   "execution_count": null,
   "id": "1aefc58c-e558-484f-b3e5-f14c8e14c962",
   "metadata": {},
   "outputs": [],
   "source": [
    "ds = xr.open_dataset('./../data/data_penner.nc').compute()"
   ]
  },
  {
   "cell_type": "code",
   "execution_count": null,
   "id": "26eec99c-b5d7-44c0-a8aa-932cdad077fd",
   "metadata": {},
   "outputs": [],
   "source": [
    "ds['tigge_tp'].isel({'date':0,'global_sites':0})"
   ]
  },
  {
   "cell_type": "code",
   "execution_count": null,
   "id": "b774c73e-6816-4d91-ad21-c0d1fdb81051",
   "metadata": {},
   "outputs": [],
   "source": [
    "ds['tt'] = ds['tigge_tp'] - ds['tigge_tp'].shift({'steps':1})#).roll({'steps':-1})"
   ]
  },
  {
   "cell_type": "code",
   "execution_count": null,
   "id": "3050c467-5bee-4fa8-b624-6bbfa612fa30",
   "metadata": {},
   "outputs": [],
   "source": [
    "ds['tt'].isel({'date':0,'global_sites':0})"
   ]
  },
  {
   "cell_type": "code",
   "execution_count": null,
   "id": "ab5855bd-4017-4257-b4d1-9328d602dc5f",
   "metadata": {},
   "outputs": [],
   "source": [
    "def std_func(arr):\n",
    "    return arr / arr.std()  # -ve to +ve std"
   ]
  },
  {
   "cell_type": "code",
   "execution_count": null,
   "id": "f79d6e20-215a-4108-8b79-e4e791700909",
   "metadata": {},
   "outputs": [],
   "source": [
    "ds['tt'].global_sites"
   ]
  },
  {
   "cell_type": "code",
   "execution_count": null,
   "id": "57b32c77-dc87-4ae3-9770-35ce626d3a87",
   "metadata": {},
   "outputs": [],
   "source": [
    "ds['tt'].groupby('global_sites').map(std_func).sel({'date':datetime(2010,4,1)})"
   ]
  },
  {
   "cell_type": "code",
   "execution_count": null,
   "id": "13d3c8ea-762a-4d3f-b0cb-2d9607abc612",
   "metadata": {},
   "outputs": [],
   "source": [
    "ds['tt'].sel({'date':datetime(2010,4,1)})"
   ]
  },
  {
   "cell_type": "code",
   "execution_count": null,
   "id": "5fbb7675-265f-460c-8fb1-b20b5588b517",
   "metadata": {},
   "outputs": [],
   "source": [
    "forecast_period = pd.TimedeltaIndex(\n",
    "            [timedelta(days=ii) for ii in range(1, 14 + 1)]\n",
    "        )"
   ]
  },
  {
   "cell_type": "code",
   "execution_count": null,
   "id": "7c05eae4-a750-464a-876a-c5e2c5629ca9",
   "metadata": {},
   "outputs": [],
   "source": [
    "forecast_period"
   ]
  },
  {
   "cell_type": "code",
   "execution_count": null,
   "id": "aac565ee-b20d-4918-9171-d9be4a8a29c4",
   "metadata": {},
   "outputs": [],
   "source": [
    "ds[['tt','tigge_t2m']].to_array().sel({'steps':forecast_period}).isel({'date':0,'global_sites':0})"
   ]
  },
  {
   "cell_type": "code",
   "execution_count": null,
   "id": "47a43dfd-f5f2-4b3a-9f03-fb872421f5bf",
   "metadata": {},
   "outputs": [],
   "source": [
    "ds['tt'].loc[{'steps':timedelta(days=0)}] = 0"
   ]
  },
  {
   "cell_type": "code",
   "execution_count": null,
   "id": "85ce58db-3da5-4d1e-8a95-c77ecfde12cd",
   "metadata": {},
   "outputs": [],
   "source": [
    "ds['tt'].loc[{'date':0,'global_sites':0}] = 0"
   ]
  },
  {
   "cell_type": "code",
   "execution_count": null,
   "id": "c6e349e5-8dcb-4ffb-8955-d37e51fe7ae1",
   "metadata": {},
   "outputs": [],
   "source": [
    "ds['tigge_tp'].roll({'steps':-1}).isel({'date':0,'global_sites':0})"
   ]
  },
  {
   "cell_type": "code",
   "execution_count": null,
   "id": "454357db-d075-42c2-ac3d-7b7db3791996",
   "metadata": {},
   "outputs": [],
   "source": [
    "ds['tt']"
   ]
  },
  {
   "cell_type": "code",
   "execution_count": null,
   "id": "ae5c2b2b-4fa7-4f34-969d-9ae57932afe4",
   "metadata": {},
   "outputs": [],
   "source": [
    "ds['tt'].isel({'steps':0}) = 0."
   ]
  },
  {
   "cell_type": "code",
   "execution_count": null,
   "id": "24add473-d958-4431-a875-a8df8d23a73f",
   "metadata": {},
   "outputs": [],
   "source": [
    "ds['tigge_tp'] - ds['tigge_tp']#.shift({'steps':1})"
   ]
  },
  {
   "cell_type": "code",
   "execution_count": null,
   "id": "bd2187fb-883a-4ba4-aec7-9e2b000886b5",
   "metadata": {},
   "outputs": [],
   "source": [
    "import torch"
   ]
  },
  {
   "cell_type": "code",
   "execution_count": null,
   "id": "47e14bd6-802a-4fea-8844-3945e67b72f8",
   "metadata": {},
   "outputs": [],
   "source": [
    "a = torch.zeros((5), device='cuda:0')"
   ]
  },
  {
   "cell_type": "code",
   "execution_count": null,
   "id": "a3396070-b98e-44c2-a658-04e0f60f14f3",
   "metadata": {},
   "outputs": [],
   "source": [
    "ds"
   ]
  },
  {
   "cell_type": "code",
   "execution_count": null,
   "id": "3130d8b5-f2c7-4d02-ada9-b3ab8ca2d83b",
   "metadata": {},
   "outputs": [],
   "source": []
  },
  {
   "cell_type": "code",
   "execution_count": null,
   "id": "3b48664c-6275-445a-ae5c-644ac28bba09",
   "metadata": {},
   "outputs": [],
   "source": []
  },
  {
   "cell_type": "code",
   "execution_count": null,
   "id": "78ff2d0b-0080-41cd-9a30-fe66ba1d77c2",
   "metadata": {},
   "outputs": [],
   "source": [
    "gdf1 = gpd.read_file('./../data/combined_reservoirs.geojson')\n",
    "gdf2 = gpd.read_file('./../data/h2ox-reservoirs.geojson')"
   ]
  },
  {
   "cell_type": "code",
   "execution_count": null,
   "id": "c3829eae-37ea-413e-9314-99ab84750155",
   "metadata": {},
   "outputs": [],
   "source": [
    "reservoirs = pd.concat([gdf1,gdf2]).groupby('DAM_NAME').nth(0).drop(['Tunga Anicut','Lower Bhawani','Mani','Tattihalla'])"
   ]
  },
  {
   "cell_type": "code",
   "execution_count": null,
   "id": "746ff237-da4e-48f1-b828-544a0ea4be84",
   "metadata": {},
   "outputs": [],
   "source": [
    "basins = gpd.read_file('./../data/basins_all.geojson')"
   ]
  },
  {
   "cell_type": "code",
   "execution_count": null,
   "id": "72f79441-a223-4b25-8219-c0c8ff8f04e1",
   "metadata": {},
   "outputs": [],
   "source": [
    "ne = gpd.read_file('./../data/ne_10m_countries.gpkg')"
   ]
  },
  {
   "cell_type": "code",
   "execution_count": null,
   "id": "aeac9339-cd2b-4de4-ba8a-4eea26c1447f",
   "metadata": {},
   "outputs": [],
   "source": [
    "gdf_aq = gpd.read_file('./../data/hybas_lake_all_lev06.gpkg')"
   ]
  },
  {
   "cell_type": "code",
   "execution_count": null,
   "id": "5263f1fc-2c94-4d9a-b7aa-22c572881111",
   "metadata": {},
   "outputs": [],
   "source": [
    "india_geom = ne.loc[ne['ISO_A3']=='IND','geometry'].unary_union"
   ]
  },
  {
   "cell_type": "code",
   "execution_count": null,
   "id": "43b04372-fcbe-43da-8f90-5b4eebadc653",
   "metadata": {},
   "outputs": [],
   "source": [
    "gdf_aq.loc[gdf_aq.geometry.is_empty]"
   ]
  },
  {
   "cell_type": "code",
   "execution_count": null,
   "id": "6a13202e-cb83-41b0-8c59-16812f008be7",
   "metadata": {},
   "outputs": [],
   "source": [
    "gdf_aq.geometry.intersects(india_geom).sum()"
   ]
  },
  {
   "cell_type": "code",
   "execution_count": null,
   "id": "b8dfe079-ee3d-4abd-9fb0-ccea65c2464c",
   "metadata": {},
   "outputs": [],
   "source": [
    "IN_basins = gdf_aq.loc[gdf_aq.intersects(india_geom)].dissolve('MAIN_BAS')"
   ]
  },
  {
   "cell_type": "code",
   "execution_count": null,
   "id": "d8548a2d-e9b2-4139-9306-a307c7ac8a16",
   "metadata": {},
   "outputs": [],
   "source": [
    "''.join([f'{el:02x}' for el in np.random.choice(255,3)])"
   ]
  },
  {
   "cell_type": "code",
   "execution_count": null,
   "id": "9f4fb7a6-49ba-46e4-8977-5ca7ffb7e964",
   "metadata": {},
   "outputs": [],
   "source": [
    "IN_basins['rnd_col'] = IN_basins.apply(lambda _: '#'+''.join([f'{el:02x}' for el in np.random.choice(255,3)]), axis=1)"
   ]
  },
  {
   "cell_type": "code",
   "execution_count": null,
   "id": "b9aceaff-9459-484f-b38e-bcc31ddb0168",
   "metadata": {},
   "outputs": [],
   "source": [
    "IN_basins"
   ]
  },
  {
   "cell_type": "code",
   "execution_count": null,
   "id": "4a8610ec-28df-4b06-8ab3-c09a959fa4e0",
   "metadata": {},
   "outputs": [],
   "source": [
    "fig, ax = plt.subplots(1,1,figsize=(16,16))\n",
    "IN_basins.plot(ax=ax,color=IN_basins['rnd_col'], alpha=0.4)\n",
    "reservoirs.plot(ax=ax, color='b')\n",
    "basins.boundary.plot(ax=ax,color='k')"
   ]
  },
  {
   "cell_type": "code",
   "execution_count": null,
   "id": "4ac8d627-f21e-468d-a90b-608d81857edd",
   "metadata": {},
   "outputs": [],
   "source": [
    "reservoirs.plot()"
   ]
  },
  {
   "cell_type": "code",
   "execution_count": null,
   "id": "2c46315d-8de2-43fb-888e-9ccb20b43b29",
   "metadata": {},
   "outputs": [],
   "source": [
    "#ds = xr.open_dataset('./../data/data_all.nc').compute()"
   ]
  },
  {
   "cell_type": "code",
   "execution_count": null,
   "id": "b3436ba6-43c1-44de-b281-cffc239fab91",
   "metadata": {},
   "outputs": [],
   "source": [
    "ds"
   ]
  },
  {
   "cell_type": "code",
   "execution_count": null,
   "id": "a45a2a82-22bd-476e-b7e0-e926519acb12",
   "metadata": {},
   "outputs": [],
   "source": [
    "data[var].interpolate_na(\n",
    "                    dim=\"date\", method=\"linear\", limit=self.max_consecutive_nan\n",
    "                )"
   ]
  },
  {
   "cell_type": "code",
   "execution_count": null,
   "id": "e52aaccf-a27c-46e5-a824-03a6a4be72b6",
   "metadata": {},
   "outputs": [],
   "source": [
    "ds"
   ]
  },
  {
   "cell_type": "code",
   "execution_count": null,
   "id": "8830a3f8-98ed-4079-806e-a081dbe7d92c",
   "metadata": {
    "tags": []
   },
   "outputs": [],
   "source": [
    "ds['targets_WATER_VOLUME'].isel({'date':slice(3598,3612),'steps':0})"
   ]
  },
  {
   "cell_type": "code",
   "execution_count": null,
   "id": "f3b4196b-cfca-4a0d-b090-c9ebed7c0073",
   "metadata": {},
   "outputs": [],
   "source": [
    "for site in ds.global_sites:\n",
    "    ds['targets_WATER_VOLUME'].isel({'steps':0}).sel({'global_sites':site}).plot()\n",
    "    plt.show()"
   ]
  },
  {
   "cell_type": "code",
   "execution_count": null,
   "id": "dd80b528-0c4a-44ba-9312-a587b6c9f02d",
   "metadata": {},
   "outputs": [],
   "source": [
    "for site in ds.global_sites:\n",
    "    ds['historic_tp'].isel({'steps':0}).sel({'global_sites':site}).plot()\n",
    "    plt.show()"
   ]
  },
  {
   "cell_type": "code",
   "execution_count": null,
   "id": "cdc250ec-b185-4813-b7d7-2b11142ac7d9",
   "metadata": {
    "tags": []
   },
   "outputs": [],
   "source": [
    "for site in ds.global_sites:\n",
    "    ds['historic_t2m'].isel({'steps':0}).sel({'global_sites':site}).plot()\n",
    "    plt.show()"
   ]
  },
  {
   "cell_type": "code",
   "execution_count": null,
   "id": "2b141c9c-96ee-4312-9d13-1116b73ccfe6",
   "metadata": {},
   "outputs": [],
   "source": [
    "ds['historic_t2m'].isel({'steps':0})"
   ]
  },
  {
   "cell_type": "code",
   "execution_count": null,
   "id": "16996875-e219-4045-b8f7-cef51252a8c1",
   "metadata": {},
   "outputs": [],
   "source": []
  }
 ],
 "metadata": {
  "kernelspec": {
   "display_name": "Python 3",
   "language": "python",
   "name": "python3"
  },
  "language_info": {
   "codemirror_mode": {
    "name": "ipython",
    "version": 3
   },
   "file_extension": ".py",
   "mimetype": "text/x-python",
   "name": "python",
   "nbconvert_exporter": "python",
   "pygments_lexer": "ipython3",
   "version": "3.9.7"
  }
 },
 "nbformat": 4,
 "nbformat_minor": 5
}
