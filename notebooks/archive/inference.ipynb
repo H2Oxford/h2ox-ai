{
 "cells": [
  {
   "cell_type": "code",
   "execution_count": null,
   "id": "30f963a5-81b3-42ee-9291-c4094a0fc160",
   "metadata": {},
   "outputs": [],
   "source": [
    "import yaml\n",
    "import xarray as xr\n",
    "import os\n",
    "import pickle\n",
    "import pandas as pd\n",
    "from datetime import datetime, timedelta\n",
    "import numpy as np\n",
    "import geopandas as gpd\n",
    "\n",
    "from h2ox.ai.dataset.dataset_factory import DatasetFactory\n",
    "from h2ox.ai.dataset.dataset import FcastDataset\n",
    "from h2ox.ai.dataset.utils import group_consecutive_nans\n",
    "\n",
    "%load_ext autoreload\n",
    "%autoreload 2"
   ]
  },
  {
   "cell_type": "code",
   "execution_count": null,
   "id": "e4d05711-bc26-4e10-a783-c65a37819292",
   "metadata": {},
   "outputs": [],
   "source": [
    "cfg = yaml.load(open('./../conf-all.yaml','r'), Loader=yaml.SafeLoader)"
   ]
  },
  {
   "cell_type": "code",
   "execution_count": null,
   "id": "c6a5cb42-88d0-4626-8502-1bf86309a760",
   "metadata": {},
   "outputs": [],
   "source": [
    "cfg['dataset_parameters']['test_date_ranges'] = [['2020-10-01', '2020-12-31']]"
   ]
  },
  {
   "cell_type": "code",
   "execution_count": null,
   "id": "41f80294-bc80-45ee-8f7e-504b78296d10",
   "metadata": {},
   "outputs": [],
   "source": [
    "dataset_factory = DatasetFactory(cfg)"
   ]
  },
  {
   "cell_type": "code",
   "execution_count": null,
   "id": "78b5ecb8-f869-483e-92ec-9781d735981c",
   "metadata": {
    "tags": []
   },
   "outputs": [],
   "source": [
    "# test pytorch dataset build\n",
    "ptds = dataset_factory.build_dataset()"
   ]
  },
  {
   "cell_type": "code",
   "execution_count": null,
   "id": "dae61fce-15d0-49d0-b445-adf8c3b3fd1b",
   "metadata": {},
   "outputs": [],
   "source": [
    "import torch"
   ]
  },
  {
   "cell_type": "code",
   "execution_count": null,
   "id": "bebd5902-f610-4f7a-84e4-ceba72bf337f",
   "metadata": {},
   "outputs": [],
   "source": [
    "from torch.utils.data import DataLoader\n",
    "from h2ox.ai.dataset import maybe_load\n",
    "from h2ox.ai.dataset.dataset import train_validation_test_split\n",
    "from h2ox.ai.dataset.utils import calculate_errors, revert_to_levels\n",
    "from h2ox.ai.model_gnn import initialise_gnn"
   ]
  },
  {
   "cell_type": "code",
   "execution_count": null,
   "id": "a308f5d8-87f2-48d0-88fb-8263d769d90a",
   "metadata": {},
   "outputs": [],
   "source": [
    "item = ptds.__getitem__(0)"
   ]
  },
  {
   "cell_type": "code",
   "execution_count": null,
   "id": "b602b477-85ef-4f9b-b2e5-4c7ab1593a0d",
   "metadata": {},
   "outputs": [],
   "source": [
    "dataset_parameters = cfg['dataset_parameters']\n",
    "model_parameters = cfg['model_parameters']\n",
    "training_parameters = cfg['training_parameters']"
   ]
  },
  {
   "cell_type": "code",
   "execution_count": null,
   "id": "87a5184c-383a-4aa0-ba25-cbeff73edc71",
   "metadata": {},
   "outputs": [],
   "source": [
    "pickle.dump(item, open('./../models/kaveri_dummy_item.pkl','wb'))"
   ]
  },
  {
   "cell_type": "code",
   "execution_count": null,
   "id": "4e599214-1c62-49a9-990f-3cf3a71ee903",
   "metadata": {
    "tags": []
   },
   "outputs": [],
   "source": [
    "item"
   ]
  },
  {
   "cell_type": "code",
   "execution_count": null,
   "id": "3040b9db-839a-4a1d-90c9-63b733362b90",
   "metadata": {},
   "outputs": [],
   "source": [
    "if dataset_parameters[\"norm_difference\"]:\n",
    "        var_norms = ptds.augment_dict\n",
    "        target_var = ptds.target_var[0]\n",
    "\n",
    "        std_target = dict(\n",
    "            zip(\n",
    "                var_norms[\"std_norm\"][\"shift_targets_WATER_VOLUME\"][\"std\"].to_dict()[\n",
    "                    \"coords\"\n",
    "                ][\"global_sites\"][\"data\"],\n",
    "                var_norms[\"std_norm\"][\"shift_targets_WATER_VOLUME\"][\"std\"].to_dict()[\n",
    "                    \"data\"\n",
    "                ],\n",
    "            )\n",
    "        )"
   ]
  },
  {
   "cell_type": "code",
   "execution_count": null,
   "id": "b617e986-c1c7-41fa-b664-86b15c4581dd",
   "metadata": {},
   "outputs": [],
   "source": [
    "print (std_target)"
   ]
  },
  {
   "cell_type": "code",
   "execution_count": null,
   "id": "2dadd0d5-2874-418a-b39c-9122af5c4461",
   "metadata": {},
   "outputs": [],
   "source": [
    "model = initialise_gnn(\n",
    "            item,\n",
    "            sites=maybe_load(dataset_parameters[\"select_sites\"]),\n",
    "            sites_edges=maybe_load(dataset_parameters[\"sites_edges\"]),\n",
    "            flow_std=std_target,\n",
    "            device='cpu',\n",
    "            hidden_size=model_parameters[\"hidden_size\"],\n",
    "            num_layers=model_parameters[\"num_layers\"],\n",
    "            dropout=model_parameters[\"dropout\"],\n",
    "            bayesian_linear=model_parameters[\"bayesian_linear\"],\n",
    "            bayesian_lstm = model_parameters[\"bayesian_lstm\"],\n",
    "            lstm_params=model_parameters[\"lstm_params\"],\n",
    "        )"
   ]
  },
  {
   "cell_type": "code",
   "execution_count": null,
   "id": "0197f060-86f2-4204-a9fe-2ee40dcd6d63",
   "metadata": {},
   "outputs": [],
   "source": [
    "model.load_state_dict(torch.load('./../experiments_2/sacred/147/model_epoch249.pt'))"
   ]
  },
  {
   "cell_type": "code",
   "execution_count": null,
   "id": "4e85a49b-63e4-468c-9e2a-f3e636b23f36",
   "metadata": {},
   "outputs": [],
   "source": [
    "train_dd, validation_dd, test_dd = train_validation_test_split(\n",
    "    ptds,\n",
    "    cfg=dataset_parameters,\n",
    "    time_dim=\"date\",\n",
    ")\n",
    "\n",
    "# build dataloaders\n",
    "train_dl = DataLoader(\n",
    "    train_dd,\n",
    "    batch_size=training_parameters[\"batch_size\"],\n",
    "    shuffle=False,\n",
    "    num_workers=training_parameters[\"num_workers\"],\n",
    ")\n",
    "val_dl = DataLoader(\n",
    "    validation_dd,\n",
    "    batch_size=training_parameters[\"batch_size\"],\n",
    "    shuffle=False,\n",
    "    num_workers=training_parameters[\"num_workers\"],\n",
    ")\n",
    "test_dl = DataLoader(\n",
    "    test_dd,\n",
    "    batch_size=training_parameters[\"batch_size\"],\n",
    "    shuffle=False,\n",
    "    num_workers=training_parameters[\"num_workers\"],\n",
    ")"
   ]
  },
  {
   "cell_type": "code",
   "execution_count": null,
   "id": "e31d8975-4530-4384-aa39-29841f536cb2",
   "metadata": {},
   "outputs": [],
   "source": [
    "def move_to(obj, device):\n",
    "    if torch.is_tensor(obj):\n",
    "        return obj.to(device)\n",
    "    elif isinstance(obj, dict):\n",
    "        res = {}\n",
    "        for k, v in obj.items():\n",
    "            res[k] = move_to(v, device)\n",
    "        return res\n",
    "    elif isinstance(obj, list):\n",
    "        res = []\n",
    "        for v in obj:\n",
    "            res.append(move_to(v, device))\n",
    "        return res\n",
    "    else:\n",
    "        raise TypeError(\"Invalid type for move_to\")"
   ]
  },
  {
   "cell_type": "code",
   "execution_count": null,
   "id": "76ab2c0f-354d-45bf-b5bf-773d8039d132",
   "metadata": {},
   "outputs": [],
   "source": [
    "batch = next(iter(test_dl))"
   ]
  },
  {
   "cell_type": "code",
   "execution_count": null,
   "id": "2e3ed766-2812-451a-9a93-9f2e30e5aec9",
   "metadata": {},
   "outputs": [],
   "source": [
    "model = model.eval()"
   ]
  },
  {
   "cell_type": "code",
   "execution_count": null,
   "id": "6ee43399-cf82-4c7f-b3bb-8f87acc8c2e8",
   "metadata": {},
   "outputs": [],
   "source": [
    "model = model.train(False)"
   ]
  },
  {
   "cell_type": "code",
   "execution_count": null,
   "id": "271b66a1-25af-4efe-85ea-8f6a64eb4a40",
   "metadata": {},
   "outputs": [],
   "source": [
    "y_hat = model(batch)"
   ]
  },
  {
   "cell_type": "code",
   "execution_count": null,
   "id": "a1e5c380-a7b3-4dd0-8438-e1ba7bb27d3d",
   "metadata": {},
   "outputs": [],
   "source": [
    "y_hat[0,:,2]*krs_diff_std"
   ]
  },
  {
   "cell_type": "code",
   "execution_count": null,
   "id": "b8afba1b-768a-4f27-928d-0c95507f3014",
   "metadata": {},
   "outputs": [],
   "source": [
    "krs_diff_std = 0.012115440092245034"
   ]
  },
  {
   "cell_type": "code",
   "execution_count": null,
   "id": "2448e418-7ce1-4d10-b3a1-eafbea54f52b",
   "metadata": {},
   "outputs": [],
   "source": [
    "from serve import H2OxHandler\n",
    "from ts.context import Context\n",
    "import xarray as xr\n",
    "import json"
   ]
  },
  {
   "cell_type": "code",
   "execution_count": null,
   "id": "95a7f1a0-c6b3-4c12-a035-399fed910009",
   "metadata": {},
   "outputs": [],
   "source": [
    "ctx = Context(\n",
    "    model_name='kaveri', \n",
    "    model_dir='/home/lucas/h2ox-ai/models/', \n",
    "    manifest = {'model': \n",
    "                {\n",
    "                    'serializedFile': 'kaveri.pt',\n",
    "                }\n",
    "               }, \n",
    "    batch_size=8, \n",
    "    gpu='0',\n",
    "    mms_version=0.1, \n",
    "    limit_max_image_pixels=True\n",
    ")"
   ]
  },
  {
   "cell_type": "code",
   "execution_count": null,
   "id": "75403ab0-0228-4f82-ad09-18aa5fed24d0",
   "metadata": {},
   "outputs": [],
   "source": [
    "inst = H2OxHandler()\n",
    "inst.initialize(ctx)"
   ]
  },
  {
   "cell_type": "code",
   "execution_count": null,
   "id": "4e16fca2-1c43-475d-a173-38cd810d0b18",
   "metadata": {},
   "outputs": [],
   "source": [
    "sample_data = json.load(open('./../data/kaveri_sample_2020_10_01.json','r'))"
   ]
  },
  {
   "cell_type": "code",
   "execution_count": null,
   "id": "10c09bc0-4d26-4395-9308-02d3192133b8",
   "metadata": {
    "tags": []
   },
   "outputs": [],
   "source": [
    "inps = inst.preprocess(sample_data)"
   ]
  },
  {
   "cell_type": "code",
   "execution_count": null,
   "id": "ebaee9d5-310a-47b1-8466-0b0be50235e2",
   "metadata": {},
   "outputs": [],
   "source": [
    "batch.keys()"
   ]
  },
  {
   "cell_type": "code",
   "execution_count": null,
   "id": "7da6167e-5713-42c4-869c-799d71e2c0f1",
   "metadata": {
    "tags": []
   },
   "outputs": [],
   "source": [
    "for kk,vv in batch.items():\n",
    "    if kk not in ['y','meta']:\n",
    "        for kk2, vv2 in vv.items():\n",
    "            if kk2 !='y':\n",
    "                print (kk,kk2,inps['2020-10-01'][kk][kk2].shape, vv2.shape)\n",
    "                print (np.isclose(inps['2020-10-01'][kk][kk2][0,-4:,:].cpu().numpy(), vv2[0,-4:,:].cpu().numpy()).all())"
   ]
  },
  {
   "cell_type": "code",
   "execution_count": null,
   "id": "c5727c9d-42fc-4b4a-ac7f-36aa64767107",
   "metadata": {},
   "outputs": [],
   "source": [
    "model = model.to('cuda:0')"
   ]
  },
  {
   "cell_type": "code",
   "execution_count": null,
   "id": "f8f9279a-fcc5-4315-8381-81358e709c50",
   "metadata": {},
   "outputs": [],
   "source": [
    "model.device"
   ]
  },
  {
   "cell_type": "code",
   "execution_count": null,
   "id": "4170edc7-d43d-4728-8eac-082f1c35cb27",
   "metadata": {},
   "outputs": [],
   "source": [
    "for kk in batch.keys():\n",
    "    if kk not in ['y','meta']:\n",
    "        for kk2 in batch[kk].keys():\n",
    "            print (batch[kk][kk2].device)\n",
    "            batch[kk][kk2] = batch[kk][kk2].to('cuda:0')\n",
    "            print (batch[kk][kk2].device)"
   ]
  },
  {
   "cell_type": "code",
   "execution_count": null,
   "id": "725422bc-d1af-40d3-b736-2da818136558",
   "metadata": {
    "tags": []
   },
   "outputs": [],
   "source": [
    "model(inps['2020-10-01'])"
   ]
  },
  {
   "cell_type": "code",
   "execution_count": null,
   "id": "a70e366d-054c-4574-80d4-8d1d5bcb6bd2",
   "metadata": {},
   "outputs": [],
   "source": [
    "inst.model.load_state_dict(torch.load('./../experiments_2/sacred/147/model_epoch249.pt'))"
   ]
  },
  {
   "cell_type": "code",
   "execution_count": null,
   "id": "6019582d-c6fc-4711-a8e2-3dcf630811e4",
   "metadata": {
    "tags": []
   },
   "outputs": [],
   "source": [
    "inst.model.eval()"
   ]
  },
  {
   "cell_type": "code",
   "execution_count": null,
   "id": "f1767a10-7e8c-47a1-bb6f-a992395b9c18",
   "metadata": {},
   "outputs": [],
   "source": [
    "weights = torch.load('./../experiments_2/sacred/147/model_epoch249.pt')"
   ]
  },
  {
   "cell_type": "code",
   "execution_count": null,
   "id": "9fd8f5ab-13e8-4545-9497-24064212a5e4",
   "metadata": {},
   "outputs": [],
   "source": [
    "name"
   ]
  },
  {
   "cell_type": "code",
   "execution_count": null,
   "id": "25d98b2d-f2ac-4115-afad-1ecb6d887454",
   "metadata": {},
   "outputs": [],
   "source": [
    "weights[name]"
   ]
  },
  {
   "cell_type": "code",
   "execution_count": null,
   "id": "6f252b5f-4e82-4636-a053-51f9ffe99f2c",
   "metadata": {},
   "outputs": [],
   "source": [
    "inst_weights = {name:W for name, W in inst.model.named_parameters()}"
   ]
  },
  {
   "cell_type": "code",
   "execution_count": null,
   "id": "f3f4dd65-5e00-4691-9aa2-9533e190b53e",
   "metadata": {},
   "outputs": [],
   "source": [
    "inst_weights[name].cpu().detach().numpy()"
   ]
  },
  {
   "cell_type": "code",
   "execution_count": null,
   "id": "87b26105-a78c-40a3-9f08-d0dd0923b15e",
   "metadata": {},
   "outputs": [],
   "source": [
    "weights[name].cpu().numpy()"
   ]
  },
  {
   "cell_type": "code",
   "execution_count": null,
   "id": "209d9256-15ae-4e4a-be86-edca1438cd62",
   "metadata": {},
   "outputs": [],
   "source": [
    "[kk for kk in inst_weights.keys() if kk not in weights.keys()]"
   ]
  },
  {
   "cell_type": "code",
   "execution_count": null,
   "id": "6ae559e1-17b2-44d2-a1b3-4d91ebaeb3f1",
   "metadata": {},
   "outputs": [],
   "source": [
    "weights['encoders.narayanapura.lstms.0.weight_ih_sampler.eps_w'].shape"
   ]
  },
  {
   "cell_type": "code",
   "execution_count": null,
   "id": "8ba4d170-ea61-4fb3-9ce0-fa3c6b3c7c8a",
   "metadata": {},
   "outputs": [],
   "source": [
    "with torch.no_grad():\n",
    "    print (inst.model[0])"
   ]
  },
  {
   "cell_type": "code",
   "execution_count": null,
   "id": "d15a2166-b165-4ddc-860b-add005a19dff",
   "metadata": {
    "tags": []
   },
   "outputs": [],
   "source": [
    "inst.model"
   ]
  },
  {
   "cell_type": "code",
   "execution_count": null,
   "id": "fc2f5400-503b-4ed8-b264-7de90be04f4a",
   "metadata": {},
   "outputs": [],
   "source": [
    "missing_keys = [kk for kk in weights.keys() if kk not in inst_weights.keys()]"
   ]
  },
  {
   "cell_type": "code",
   "execution_count": null,
   "id": "9240830d-7a9e-4425-a4f0-a661fa833c05",
   "metadata": {
    "tags": []
   },
   "outputs": [],
   "source": [
    "missing_keys"
   ]
  },
  {
   "cell_type": "code",
   "execution_count": null,
   "id": "bc93c5c2-d095-45ec-9d88-85d7262fb2a4",
   "metadata": {
    "tags": []
   },
   "outputs": [],
   "source": [
    "inst_keys = inst.model.state_dict().keys()"
   ]
  },
  {
   "cell_type": "code",
   "execution_count": null,
   "id": "92d42424-7241-40d5-a7aa-dc90f4958973",
   "metadata": {},
   "outputs": [],
   "source": [
    "inst.model.state_dict()[kk].data"
   ]
  },
  {
   "cell_type": "code",
   "execution_count": null,
   "id": "99047763-3500-4e2b-83a1-9955fd05ac7a",
   "metadata": {},
   "outputs": [],
   "source": [
    "weights[kk]"
   ]
  },
  {
   "cell_type": "code",
   "execution_count": null,
   "id": "aa5b0937-2e37-4701-a7f2-37a1a635f45a",
   "metadata": {},
   "outputs": [],
   "source": [
    "with torch.no_grad():\n",
    "    for kk in missing_keys:\n",
    "        inst.model.state_dict()[kk].data = weights[kk]"
   ]
  },
  {
   "cell_type": "code",
   "execution_count": null,
   "id": "2a1b128f-d202-4eb6-aa39-bb5eb19de5b0",
   "metadata": {},
   "outputs": [],
   "source": [
    "weights[kk]"
   ]
  },
  {
   "cell_type": "code",
   "execution_count": null,
   "id": "c80f13e0-8da7-43a8-ba37-917bed19a9da",
   "metadata": {},
   "outputs": [],
   "source": [
    "inst.model.state_dict()[kk]"
   ]
  },
  {
   "cell_type": "code",
   "execution_count": null,
   "id": "c4ee9b5e-044c-49da-ad8e-292dba33e457",
   "metadata": {},
   "outputs": [],
   "source": [
    "with torch.no_grad():\n",
    "    for layer in mask_model.state_dict():\n",
    "        print(layer)\n",
    "        #print(torch.ones_like(mask_model.state_dict()[layer].data))\n",
    "        mask_model.state_dict()[layer].data.fill_(1)"
   ]
  },
  {
   "cell_type": "code",
   "execution_count": null,
   "id": "f4600369-fef4-4d82-86f1-609b77146970",
   "metadata": {},
   "outputs": [],
   "source": [
    "[(kk in inst_keys) for kk in missing_keys]"
   ]
  },
  {
   "cell_type": "code",
   "execution_count": null,
   "id": "4d6675e2-f70b-4011-be75-f38c9d9f5cbb",
   "metadata": {},
   "outputs": [],
   "source": [
    "for kk, vv in weights.items():\n",
    "    print (kk)\n",
    "    np.isclose(inst_weights[kk].cpu().detach().numpy(), vv.cpu().numpy())"
   ]
  },
  {
   "cell_type": "code",
   "execution_count": null,
   "id": "497883ff-b2c9-4c90-ba86-538a113e93b9",
   "metadata": {},
   "outputs": [],
   "source": [
    "y_ts = inst.model(inps['2020-10-01'])"
   ]
  },
  {
   "cell_type": "code",
   "execution_count": null,
   "id": "4d47c675-705d-4e54-ba28-f8a202e0291b",
   "metadata": {},
   "outputs": [],
   "source": [
    "y_ts[0,:,2]"
   ]
  },
  {
   "cell_type": "code",
   "execution_count": null,
   "id": "2d3e2648-95a4-4f18-8238-00c5ee192b10",
   "metadata": {},
   "outputs": [],
   "source": [
    "y_hat[0,:,6]"
   ]
  },
  {
   "cell_type": "code",
   "execution_count": null,
   "id": "80473bdc-98f1-46b3-ab34-a5309d9129f9",
   "metadata": {},
   "outputs": [],
   "source": []
  }
 ],
 "metadata": {
  "kernelspec": {
   "display_name": "Python 3",
   "language": "python",
   "name": "python3"
  },
  "language_info": {
   "codemirror_mode": {
    "name": "ipython",
    "version": 3
   },
   "file_extension": ".py",
   "mimetype": "text/x-python",
   "name": "python",
   "nbconvert_exporter": "python",
   "pygments_lexer": "ipython3",
   "version": "3.9.7"
  }
 },
 "nbformat": 4,
 "nbformat_minor": 5
}
