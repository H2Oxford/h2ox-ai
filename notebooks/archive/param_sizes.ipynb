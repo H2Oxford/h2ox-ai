{
 "cells": [
  {
   "cell_type": "code",
   "execution_count": null,
   "id": "34d8478b-deb1-41f2-a397-d952bba50514",
   "metadata": {},
   "outputs": [],
   "source": [
    "import torch"
   ]
  },
  {
   "cell_type": "code",
   "execution_count": null,
   "id": "38ce8633-b27c-44fe-86c4-b0d368320789",
   "metadata": {},
   "outputs": [],
   "source": [
    "import os\n",
    "root = os.path.abspath(os.path.join(os.getcwd(),'..'))"
   ]
  },
  {
   "cell_type": "code",
   "execution_count": null,
   "id": "977c441b-805d-4725-8768-d024bfc9a53d",
   "metadata": {},
   "outputs": [],
   "source": [
    "root"
   ]
  },
  {
   "cell_type": "code",
   "execution_count": null,
   "id": "ff9871bf-74fd-45d0-890e-3bafabd7c889",
   "metadata": {},
   "outputs": [],
   "source": [
    "torch.device('cpu')"
   ]
  },
  {
   "cell_type": "code",
   "execution_count": null,
   "id": "56e015d4-f541-499c-9149-ac62699dbdcd",
   "metadata": {},
   "outputs": [],
   "source": [
    "dd = torch.load(os.path.join(root,'experiments_2/sacred/147/model_epoch249.pt'), map_location=torch.device('cpu'))"
   ]
  },
  {
   "cell_type": "code",
   "execution_count": null,
   "id": "d162dd1f-b60f-4022-8ace-78321f312028",
   "metadata": {},
   "outputs": [],
   "source": [
    "for kk,vv in dd.items():\n",
    "    print (vv.shape,kk)"
   ]
  },
  {
   "cell_type": "code",
   "execution_count": null,
   "id": "b292a07a-b1d7-48a1-b6c5-db5c841892a6",
   "metadata": {},
   "outputs": [],
   "source": []
  }
 ],
 "metadata": {
  "kernelspec": {
   "display_name": "Python 3",
   "language": "python",
   "name": "python3"
  },
  "language_info": {
   "codemirror_mode": {
    "name": "ipython",
    "version": 3
   },
   "file_extension": ".py",
   "mimetype": "text/x-python",
   "name": "python",
   "nbconvert_exporter": "python",
   "pygments_lexer": "ipython3",
   "version": "3.9.7"
  }
 },
 "nbformat": 4,
 "nbformat_minor": 5
}
