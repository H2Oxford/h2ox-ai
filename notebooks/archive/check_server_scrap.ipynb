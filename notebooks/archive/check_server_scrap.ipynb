{
 "cells": [
  {
   "cell_type": "code",
   "execution_count": null,
   "id": "f90290f0-a2dc-4bf1-af13-c11aba22eef7",
   "metadata": {},
   "outputs": [],
   "source": [
    "from serve import H2OxHandler\n",
    "from ts.context import Context\n",
    "import xarray as xr\n",
    "import json\n",
    "    \n",
    "%load_ext autoreload\n",
    "%autoreload 2"
   ]
  },
  {
   "cell_type": "code",
   "execution_count": null,
   "id": "6cc2e43a-badb-4b65-903c-1db06d78f756",
   "metadata": {},
   "outputs": [],
   "source": [
    "ctx = Context(\n",
    "    model_name='kaveri', \n",
    "    model_dir='/home/lucas/h2ox-ai/models/', \n",
    "    manifest = {'model': \n",
    "                {\n",
    "                    'serializedFile': 'kaveri.pt',\n",
    "                }\n",
    "               }, \n",
    "    batch_size=8, \n",
    "    gpu='0', \n",
    "    mms_version=0.1, \n",
    "    limit_max_image_pixels=True\n",
    ")"
   ]
  },
  {
   "cell_type": "code",
   "execution_count": null,
   "id": "3a6bcbc1-5596-4d92-952b-a8b77ba9196d",
   "metadata": {},
   "outputs": [],
   "source": [
    "inst = H2OxHandler()\n",
    "inst.initialize(ctx)"
   ]
  },
  {
   "cell_type": "code",
   "execution_count": null,
   "id": "53433f6a-f13d-4efc-99e8-c25029f3e3d5",
   "metadata": {},
   "outputs": [],
   "source": [
    "import os, pickle\n",
    "import pandas as pd\n",
    "from datetime import datetime, timedelta\n",
    "import numpy as np"
   ]
  },
  {
   "cell_type": "code",
   "execution_count": null,
   "id": "b52bb029-e482-4fee-801f-f7675acef1a5",
   "metadata": {},
   "outputs": [],
   "source": [
    "import matplotlib.pyplot as plt"
   ]
  },
  {
   "cell_type": "code",
   "execution_count": null,
   "id": "30e50361-6809-4895-abb1-b91dbed00967",
   "metadata": {},
   "outputs": [],
   "source": [
    "import torch"
   ]
  },
  {
   "cell_type": "code",
   "execution_count": null,
   "id": "17812df6-306f-4469-8bbb-979d8f446d33",
   "metadata": {},
   "outputs": [],
   "source": [
    "ds = xr.open_dataset('./../data/data_kaveri.nc')"
   ]
  },
  {
   "cell_type": "code",
   "execution_count": null,
   "id": "e0ef24d9-ec66-4a69-beb0-047c69afe40e",
   "metadata": {},
   "outputs": [],
   "source": [
    "preds = xr.open_dataset('./../experiments_2/sacred/147/preds.nc')"
   ]
  },
  {
   "cell_type": "code",
   "execution_count": null,
   "id": "2418e727-3115-4ab4-87a8-f6647bf2c393",
   "metadata": {},
   "outputs": [],
   "source": [
    "preds"
   ]
  },
  {
   "cell_type": "code",
   "execution_count": null,
   "id": "3cf94395-139e-44ee-8b89-7c2d403dad54",
   "metadata": {},
   "outputs": [],
   "source": [
    "preds['sim-mean'].sel({'site':'krishnaraja_sagar','date':datetime(2020,10,1)}).cumsum(dim='step')"
   ]
  },
  {
   "cell_type": "code",
   "execution_count": null,
   "id": "5f9b9280-d418-48e4-8286-7f5624725f6c",
   "metadata": {},
   "outputs": [],
   "source": [
    "trn_sample['krishnaraja_sagar']['y']"
   ]
  },
  {
   "cell_type": "code",
   "execution_count": null,
   "id": "ecb8bfd0-a740-4be9-911d-854cafbf11ba",
   "metadata": {},
   "outputs": [],
   "source": [
    "ds"
   ]
  },
  {
   "cell_type": "code",
   "execution_count": null,
   "id": "7eaeb5cb-7d12-435a-82c8-ec30a4eb25c0",
   "metadata": {},
   "outputs": [],
   "source": [
    "ds['targets_WATER_VOLUME'].sel({'global_sites':'krishnaraja_sagar','date':pd.date_range('2020-10-01','2020-12-31'),'steps':timedelta(days=0)})"
   ]
  },
  {
   "cell_type": "code",
   "execution_count": null,
   "id": "218dfb73-410e-4249-bc5a-54aca7aacb95",
   "metadata": {},
   "outputs": [],
   "source": [
    "ds['tigge_t2m'].sel({'date':pd.date_range('2020-07-01','2020-10-01'),'steps':timedelta(days=0),'global_sites':'narayanapura'}).plot()"
   ]
  },
  {
   "cell_type": "code",
   "execution_count": null,
   "id": "0e74040a-56c2-4f05-88b5-717d6f5be7d0",
   "metadata": {},
   "outputs": [],
   "source": [
    "sample_data = json.load(open('./../data/kaveri_sample_2020_10_01.json','r'))"
   ]
  },
  {
   "cell_type": "code",
   "execution_count": null,
   "id": "53a8f901-6384-46e8-b350-8bc43d375008",
   "metadata": {},
   "outputs": [],
   "source": [
    "sample_data['2020-10-01']['narayanapura']['x_d']['chirps_precip'][0:5]"
   ]
  },
  {
   "cell_type": "code",
   "execution_count": null,
   "id": "f69f83aa-ce57-4d7c-8bad-502d5576fed4",
   "metadata": {
    "tags": []
   },
   "outputs": [],
   "source": [
    "inps = inst.preprocess([sample_data)"
   ]
  },
  {
   "cell_type": "code",
   "execution_count": null,
   "id": "af7e838b-c257-4734-82ff-a97867b23fcc",
   "metadata": {},
   "outputs": [],
   "source": [
    "inps['2020-10-01']['narayanapura']['x_d'][:,0:5]"
   ]
  },
  {
   "cell_type": "code",
   "execution_count": null,
   "id": "a4599097-f815-4792-a6cb-9141be7fd37c",
   "metadata": {},
   "outputs": [],
   "source": [
    "dl_data = pickle.load(open('./../data/ds_data.pkl','rb'))\n",
    "dl_meta = pickle.load(open('./../data/ds_meta.pkl','rb'))"
   ]
  },
  {
   "cell_type": "code",
   "execution_count": null,
   "id": "f4f158db-ae6d-495b-9430-66aa681d0804",
   "metadata": {},
   "outputs": [],
   "source": [
    "[idx for idx in range(len(dl_meta)) if dl_meta[idx]['date']==np.datetime64(datetime(2020,10,1).isoformat())]"
   ]
  },
  {
   "cell_type": "code",
   "execution_count": null,
   "id": "7ba8e46e-5054-4cfb-ae46-c96bf0d52cfe",
   "metadata": {},
   "outputs": [],
   "source": [
    "trn_sample = dl_data[3836]"
   ]
  },
  {
   "cell_type": "code",
   "execution_count": null,
   "id": "5f843b5a-1ad7-47d6-9e2d-f1de70dc13af",
   "metadata": {},
   "outputs": [],
   "source": [
    "trn_sample['narayanapura'].keys()"
   ]
  },
  {
   "cell_type": "code",
   "execution_count": null,
   "id": "7f25784a-56a1-4f4d-95c6-654b2ec5a556",
   "metadata": {
    "tags": []
   },
   "outputs": [],
   "source": [
    "sample_data['2020-10-01']['narayanapura']['x_d']['chirps_precip'][1:5]"
   ]
  },
  {
   "cell_type": "code",
   "execution_count": null,
   "id": "f359043a-2045-4ad5-b2ea-c95aad3c3e90",
   "metadata": {},
   "outputs": [],
   "source": [
    "trn_sample['narayanapura']['hist_level'][-5:,:]"
   ]
  },
  {
   "cell_type": "code",
   "execution_count": null,
   "id": "42987f2e-3790-4697-9649-4a22e6ab4ef7",
   "metadata": {},
   "outputs": [],
   "source": [
    "inps['2020-10-01']['narayanapura']['hist_level'].cpu().numpy()[:,-5:,:] # precip still berk"
   ]
  },
  {
   "cell_type": "code",
   "execution_count": null,
   "id": "c99c45ce-9df6-48e3-95c9-97d83801ae51",
   "metadata": {},
   "outputs": [],
   "source": [
    "trn_sample['narayanapura']['y'][0:5,:]"
   ]
  },
  {
   "cell_type": "code",
   "execution_count": null,
   "id": "f4a61d71-3591-43f0-9742-e4a64f9a90c4",
   "metadata": {
    "tags": []
   },
   "outputs": [],
   "source": [
    "inps['2020-10-01']['narayanapura']['ys'].cpu().numpy()[:,0:5,:] # precip still berk"
   ]
  },
  {
   "cell_type": "markdown",
   "id": "6ee74b24-2f94-4c05-9e93-e590b873717a",
   "metadata": {},
   "source": [
    "### Test data"
   ]
  },
  {
   "cell_type": "code",
   "execution_count": null,
   "id": "c92f75fc-4b2c-453b-b53c-d3a39d4766e2",
   "metadata": {},
   "outputs": [],
   "source": [
    "ds['tigge_t2m'].sel({'date':pd.date_range('2020-07-04','2020-10-01'),'steps':timedelta(days=0),'global_sites':'narayanapura'}).plot() # dataframe"
   ]
  },
  {
   "cell_type": "code",
   "execution_count": null,
   "id": "c53a5e0f-8d39-4d79-9c23-ca5d73c5c3e6",
   "metadata": {},
   "outputs": [],
   "source": [
    "plt.plot(trn_sample['narayanapura']['x_d'][:,0]) # pkl dataframe"
   ]
  },
  {
   "cell_type": "code",
   "execution_count": null,
   "id": "bfc30a1b-d5ba-4a24-858d-a07553577473",
   "metadata": {},
   "outputs": [],
   "source": [
    "ds['chirps_precip'].sel({'date':pd.date_range('2020-07-04','2020-10-01'),'steps':timedelta(days=0),'global_sites':'narayanapura'}).plot() # dataframe"
   ]
  },
  {
   "cell_type": "code",
   "execution_count": null,
   "id": "098b1d08-a166-4f67-85d2-1eebe8c1397b",
   "metadata": {},
   "outputs": [],
   "source": [
    "plt.plot(trn_sample['narayanapura']['x_d'][:,1]) # pkl dataframe"
   ]
  },
  {
   "cell_type": "markdown",
   "id": "3693c09b-9aa7-4be2-b1f6-607983bcee78",
   "metadata": {},
   "source": [
    "**conclusion:** all hist data are back"
   ]
  },
  {
   "cell_type": "code",
   "execution_count": null,
   "id": "49a1cb1f-7ff5-46fe-8f7b-bd0ed99781d0",
   "metadata": {},
   "outputs": [],
   "source": [
    "### check fut\n",
    "ds['tigge_tp'].sel({'date':pd.date_range('2020-10-01','2020-10-01'),'steps':[timedelta(days=ii) for ii in range(0,15)],'global_sites':'narayanapura'}).plot() # dataframe"
   ]
  },
  {
   "cell_type": "code",
   "execution_count": null,
   "id": "c2d4b2ed-ebf4-4895-8429-08a1b586acc9",
   "metadata": {},
   "outputs": [],
   "source": [
    "plt.plot(trn_sample['narayanapura']['x_f'][:,1]) # pkl dataframe"
   ]
  },
  {
   "cell_type": "code",
   "execution_count": null,
   "id": "48d65b81-d682-4748-882a-4e59af5a9c6c",
   "metadata": {},
   "outputs": [],
   "source": [
    "plt.plot(trn_sample['narayanapura']['x_f'][:,0])"
   ]
  },
  {
   "cell_type": "code",
   "execution_count": null,
   "id": "4d9f5287-7bc8-4b89-8a15-f769c06a3890",
   "metadata": {},
   "outputs": [],
   "source": [
    "ds['tigge_t2m'].sel({'date':pd.date_range('2020-10-01','2020-10-01'),'steps':[timedelta(days=ii) for ii in range(1,15)],'global_sites':'narayanapura'}).plot() # dataframe"
   ]
  },
  {
   "cell_type": "markdown",
   "id": "89d13251-aec3-4914-a302-ece6b82c77c3",
   "metadata": {},
   "source": [
    "**conclusion** Forecast seems okay but off by a day"
   ]
  },
  {
   "cell_type": "code",
   "execution_count": null,
   "id": "ed9dac31-c013-46ea-97b6-c4bfe164a551",
   "metadata": {},
   "outputs": [],
   "source": [
    "np.cos(pd.date_range('2020-10-16','2020-12-31').dayofyear / 365. * 2 * np.pi)"
   ]
  },
  {
   "cell_type": "code",
   "execution_count": null,
   "id": "481ac9e1-b15c-468e-bb63-0c772d313af3",
   "metadata": {},
   "outputs": [],
   "source": [
    "torch.from_numpy(trn_sample['narayanapura']['x_ff'].astype(np.float32))[0:5,:]"
   ]
  },
  {
   "cell_type": "markdown",
   "id": "bbd4bda6-c22f-4300-ae94-e30e2027472c",
   "metadata": {},
   "source": [
    "**conclusion** Fut also seems okay"
   ]
  },
  {
   "cell_type": "code",
   "execution_count": null,
   "id": "33191dbb-d25b-4634-94fa-fa5434c4d2b7",
   "metadata": {},
   "outputs": [],
   "source": []
  },
  {
   "cell_type": "code",
   "execution_count": null,
   "id": "c0e5c673-f744-4dcc-a9eb-e2367be02ba6",
   "metadata": {},
   "outputs": [],
   "source": [
    "torch.from_numpy(trn_sample['narayanapura']['x_d'].astype(np.float32))[-5:,:] # cos and sin should be switched"
   ]
  },
  {
   "cell_type": "code",
   "execution_count": null,
   "id": "949714e9-5bf6-4de9-a0c0-dce4e0e109ed",
   "metadata": {},
   "outputs": [],
   "source": [
    "inps['2020-10-01']['narayanapura']['x_d'][0,-5:,:] # temp precip cos sin"
   ]
  },
  {
   "cell_type": "code",
   "execution_count": null,
   "id": "ac13db89-ed2b-4e6a-adfc-ce1338a22571",
   "metadata": {
    "tags": []
   },
   "outputs": [],
   "source": [
    "np.sin(pd.date_range('2020-07-01','2020-10-01').dayofyear / 365. * 2 * np.pi)"
   ]
  },
  {
   "cell_type": "markdown",
   "id": "e13aef93-241b-45cc-ab37-4d5e6bb086cd",
   "metadata": {},
   "source": [
    "### test inference"
   ]
  },
  {
   "cell_type": "code",
   "execution_count": null,
   "id": "7f9b6ceb-cb48-44e9-a0f6-e9f7ffd25d0d",
   "metadata": {},
   "outputs": [],
   "source": [
    "import torch"
   ]
  },
  {
   "cell_type": "code",
   "execution_count": null,
   "id": "432f88d9-0bc5-4122-af7d-f917cfd08b29",
   "metadata": {},
   "outputs": [],
   "source": [
    "y_hat = inst.inference(inps)"
   ]
  },
  {
   "cell_type": "code",
   "execution_count": null,
   "id": "ef55bd5c-3e6a-486b-a048-6c3fe5cc6a68",
   "metadata": {},
   "outputs": [],
   "source": [
    "yy = inst.model(inps['2020-10-01'])"
   ]
  },
  {
   "cell_type": "code",
   "execution_count": null,
   "id": "e8764bf6-667c-4494-85fe-1d2b41e2ff84",
   "metadata": {},
   "outputs": [],
   "source": [
    "yy"
   ]
  },
  {
   "cell_type": "code",
   "execution_count": null,
   "id": "ba9fb1df-076b-4f67-b298-bb6f0ca4beb7",
   "metadata": {},
   "outputs": [],
   "source": [
    "y_hat['2020-10-01'][:,:,2].mean(dim=0)#*krs_diff_std"
   ]
  },
  {
   "cell_type": "code",
   "execution_count": null,
   "id": "1fab7017-b9e4-4738-b9c7-600c06c830c8",
   "metadata": {},
   "outputs": [],
   "source": [
    "inst.model = inst.model.eval()"
   ]
  },
  {
   "cell_type": "code",
   "execution_count": null,
   "id": "a7bc23a6-4715-40ae-96af-82f80435e028",
   "metadata": {
    "tags": []
   },
   "outputs": [],
   "source": [
    "inst.model(inps['2020-10-01'])"
   ]
  },
  {
   "cell_type": "code",
   "execution_count": null,
   "id": "04b996be-39df-443c-b8f8-32fade978b60",
   "metadata": {},
   "outputs": [],
   "source": [
    "y_hatb = inst.inference(inps)"
   ]
  },
  {
   "cell_type": "code",
   "execution_count": null,
   "id": "b61d9aea-0906-4233-949b-8e3138878e61",
   "metadata": {},
   "outputs": [],
   "source": [
    "inst.model.load_state_dict(torch.load('./../experiments_2/sacred/147/model_epoch249.pt'))"
   ]
  },
  {
   "cell_type": "code",
   "execution_count": null,
   "id": "e18c4790-5d5e-454f-b876-76b56a3cb11a",
   "metadata": {},
   "outputs": [],
   "source": []
  },
  {
   "cell_type": "code",
   "execution_count": null,
   "id": "fc4f49bd-49db-459c-9e99-0c6de582006f",
   "metadata": {},
   "outputs": [],
   "source": [
    "trn_sample['krishnaraja_sagar']['y']"
   ]
  },
  {
   "cell_type": "code",
   "execution_count": null,
   "id": "969cacfa-d35e-4b51-a50d-b7bb9898456f",
   "metadata": {},
   "outputs": [],
   "source": [
    "y_hatb['2020-10-01'][:,:,2].mean(dim=0)*krs_diff_std"
   ]
  },
  {
   "cell_type": "code",
   "execution_count": null,
   "id": "f2e1a843-0935-4c65-aef8-8ba1eaeb28f3",
   "metadata": {},
   "outputs": [],
   "source": [
    "preds['sim-mean'].sel({'site':'krishnaraja_sagar','date':datetime(2020,10,1)}) / krs_diff_std"
   ]
  },
  {
   "cell_type": "code",
   "execution_count": null,
   "id": "4878ec35-ab90-4137-ab94-3f304279b63c",
   "metadata": {},
   "outputs": [],
   "source": [
    "preds['sim-mean'].sel({'site':'krishnaraja_sagar','date':datetime(2020,10,1)}) / krs_diff_std"
   ]
  },
  {
   "cell_type": "code",
   "execution_count": null,
   "id": "32588286-6d51-48cc-bdbc-130ad9d85365",
   "metadata": {},
   "outputs": [],
   "source": [
    "y_hat['2020-10-01'][:,:,2].std(dim=0)"
   ]
  },
  {
   "cell_type": "code",
   "execution_count": null,
   "id": "b8dcd756-8deb-4c57-be87-4aa1ec617744",
   "metadata": {},
   "outputs": [],
   "source": [
    "y_hatb['2020-10-01'][:,:,2].mean(dim=0)# * krs_diff_std"
   ]
  },
  {
   "cell_type": "code",
   "execution_count": null,
   "id": "65b49c04-fda7-47d7-9a11-34128550edd4",
   "metadata": {},
   "outputs": [],
   "source": [
    "y_hat['2020-10-01'][0,:,2]#.mean(dim=0)"
   ]
  },
  {
   "cell_type": "code",
   "execution_count": null,
   "id": "aee87349-bc22-4918-ac98-a3c143a7b1fc",
   "metadata": {},
   "outputs": [],
   "source": [
    "results = inst.postprocess(y_hat, inps)"
   ]
  },
  {
   "cell_type": "code",
   "execution_count": null,
   "id": "9a49047e-28fd-46a3-9f04-4cfa14aad3a2",
   "metadata": {},
   "outputs": [],
   "source": [
    "results['2020-10-01']['mean']"
   ]
  },
  {
   "cell_type": "code",
   "execution_count": null,
   "id": "8901bfab-1535-4603-9a8d-cae8cc0af4b3",
   "metadata": {},
   "outputs": [],
   "source": [
    "inst.sites"
   ]
  },
  {
   "cell_type": "code",
   "execution_count": null,
   "id": "5307be38-a418-4eb6-82b5-15c35a384542",
   "metadata": {
    "tags": []
   },
   "outputs": [],
   "source": [
    "inps['2020-10-01']['krishnaraja_sagar']['hist_level']"
   ]
  },
  {
   "cell_type": "code",
   "execution_count": null,
   "id": "39dbb04a-9a39-4953-a324-d8b97b83d4cb",
   "metadata": {},
   "outputs": [],
   "source": [
    "var_norms = json.load(open('./../models/kaveri_preprocessing.json','r'))"
   ]
  },
  {
   "cell_type": "code",
   "execution_count": null,
   "id": "037fb87a-56f6-4055-828e-4d371aeb2281",
   "metadata": {},
   "outputs": [],
   "source": [
    "var_norms"
   ]
  },
  {
   "cell_type": "code",
   "execution_count": null,
   "id": "fa217f09-b53c-474d-b329-5ca5bbf54ebc",
   "metadata": {},
   "outputs": [],
   "source": []
  },
  {
   "cell_type": "code",
   "execution_count": null,
   "id": "1bc0bd63-93df-4257-bce2-82a6c64bca87",
   "metadata": {},
   "outputs": [],
   "source": [
    "krs_diff_std = var_norms['std_norm']['shift_targets_WATER_VOLUME']['std']['krishnaraja_sagar']"
   ]
  },
  {
   "cell_type": "code",
   "execution_count": null,
   "id": "6caddaac-592c-40de-8184-0c3b7e3edc42",
   "metadata": {},
   "outputs": [],
   "source": []
  },
  {
   "cell_type": "code",
   "execution_count": null,
   "id": "4c9217e1-380d-4700-8a25-546bca3c739a",
   "metadata": {},
   "outputs": [],
   "source": [
    "krs_diff_std"
   ]
  },
  {
   "cell_type": "code",
   "execution_count": null,
   "id": "a6f0933f-601b-41cf-8786-dac6de9658c6",
   "metadata": {},
   "outputs": [],
   "source": [
    "(y_hat['2020-10-01'].amax(dim=0)[:,2]*krs_diff_std).cumsum(dim=0)"
   ]
  },
  {
   "cell_type": "code",
   "execution_count": null,
   "id": "4ba94578-402c-4a18-a532-10cf2c3325ad",
   "metadata": {},
   "outputs": [],
   "source": [
    "(y_hat['2020-10-01'].amin(dim=0)[:,2]*krs_diff_std).cumsum(dim=0)"
   ]
  },
  {
   "cell_type": "code",
   "execution_count": null,
   "id": "4d0a18b4-1ad7-4673-9bd1-2d3812514f82",
   "metadata": {},
   "outputs": [],
   "source": [
    "(y_hat['2020-10-01'].mean(dim=0)[:,2]*krs_diff_std).cumsum(dim=0)"
   ]
  },
  {
   "cell_type": "code",
   "execution_count": null,
   "id": "fcfc74c9-8b48-4a80-a48e-bf77d915c89f",
   "metadata": {},
   "outputs": [],
   "source": [
    "(results['2020-10-01']['lower'][:,2]*krs_diff_std).cumsum(dim=0)"
   ]
  },
  {
   "cell_type": "code",
   "execution_count": null,
   "id": "d767c7ce-aeae-4221-8ec8-1e2c4c97141e",
   "metadata": {},
   "outputs": [],
   "source": [
    "results['2020-10-01']['mean'][:,2]"
   ]
  },
  {
   "cell_type": "code",
   "execution_count": null,
   "id": "83da0e85-5c09-40b6-8079-c3356920f8f4",
   "metadata": {},
   "outputs": [],
   "source": [
    "results['2020-10-01']['upper'][:,2]"
   ]
  },
  {
   "cell_type": "code",
   "execution_count": null,
   "id": "c81edae6-4a74-4215-b36f-e5d801e97836",
   "metadata": {},
   "outputs": [],
   "source": [
    "y_hat['2020-10-01'].shape"
   ]
  },
  {
   "cell_type": "code",
   "execution_count": null,
   "id": "07153e9e-bfd2-42bf-8e4e-5fbd38efb91f",
   "metadata": {},
   "outputs": [],
   "source": [
    "paths = y_hat['2020-10-01'].cumsum(dim=1)\n",
    "means = paths.mean(axis=0)\n",
    "path_stds = paths.std(axis=0)"
   ]
  },
  {
   "cell_type": "code",
   "execution_count": null,
   "id": "790cdde0-486b-4f0a-9a7e-91065c5364d2",
   "metadata": {},
   "outputs": [],
   "source": [
    "y_hat['2020-10-01'][11,:,2]"
   ]
  },
  {
   "cell_type": "code",
   "execution_count": null,
   "id": "29f00274-6d6a-4eb2-974f-e3f5d78825c5",
   "metadata": {},
   "outputs": [],
   "source": [
    "paths[0,:,2]"
   ]
  },
  {
   "cell_type": "code",
   "execution_count": null,
   "id": "85ab8245-9016-493c-beb3-2ff5040766c8",
   "metadata": {},
   "outputs": [],
   "source": []
  },
  {
   "cell_type": "code",
   "execution_count": null,
   "id": "15a2eea1-8c01-48fb-a84f-4197750e731a",
   "metadata": {},
   "outputs": [],
   "source": [
    "paths.mean(dim=0)[:,2]"
   ]
  },
  {
   "cell_type": "code",
   "execution_count": null,
   "id": "dd37cd9f-f67b-4778-b9d3-3e683b502a4c",
   "metadata": {},
   "outputs": [],
   "source": [
    "def reverse_cumsum(arr, dim):\n",
    "    shp = list(arr.shape)\n",
    "    shp[dim] = 1\n",
    "    return torch.diff(arr, dim=dim, prepend=torch.zeros(*list(shp)).to(arr.device))"
   ]
  },
  {
   "cell_type": "code",
   "execution_count": null,
   "id": "e1473f59-ec95-48cd-93bb-a1fc7779317c",
   "metadata": {},
   "outputs": [],
   "source": [
    "ci_upper = means + (2. * path_stds)\n",
    "ci_lower = means - (2. * path_stds)\n",
    "\n",
    "means = reverse_cumsum(means, dim=1)\n",
    "ci_upper = reverse_cumsum(ci_upper, dim=1)\n",
    "ci_lower = reverse_cumsum(ci_lower, dim=1)"
   ]
  },
  {
   "cell_type": "code",
   "execution_count": null,
   "id": "63461bcc-b263-4a5f-854d-c0d4dab88ed8",
   "metadata": {},
   "outputs": [],
   "source": [
    "means[:,2]"
   ]
  },
  {
   "cell_type": "code",
   "execution_count": null,
   "id": "fbf1dc87-0a1a-4abe-b902-db73b4bd93a8",
   "metadata": {},
   "outputs": [],
   "source": [
    "paths = preds.cumsum(dim=2)\n",
    "\n",
    "    means = paths.mean(axis=0)\n",
    "    path_stds = paths.std(axis=0)\n",
    "\n",
    "    # maybe need to go to and back from levels vs. deltas\n",
    "\n",
    "    ci_upper = means + (ci_std * path_stds)\n",
    "    ci_lower = means - (ci_std * path_stds)\n",
    "\n",
    "    means = reverse_cumsum(means, dim=1)\n",
    "    ci_upper = reverse_cumsum(ci_upper, dim=1)\n",
    "    ci_lower = reverse_cumsum(ci_lower, dim=1)"
   ]
  },
  {
   "cell_type": "code",
   "execution_count": null,
   "id": "bd3dfa88-1b4d-413a-8ba2-df05e00f6d2c",
   "metadata": {},
   "outputs": [],
   "source": []
  },
  {
   "cell_type": "code",
   "execution_count": null,
   "id": "a6c5c9b5-5aad-4fcd-b832-f9deba9bce2c",
   "metadata": {},
   "outputs": [],
   "source": []
  },
  {
   "cell_type": "code",
   "execution_count": null,
   "id": "3b625166-2fbd-4624-93d7-2408b5ba5375",
   "metadata": {},
   "outputs": [],
   "source": [
    "inps = inst.preprocess(sample_data)\n",
    "    \n",
    "    #print (inps)\n",
    "    y_hat = inst.inference(inps)\n",
    "    \n",
    "    print ('yhat', y_hat)\n",
    "    print ('SHAPE')\n",
    "    print ([(kk,vv.shape) for kk,vv in y_hat.items()])\n",
    "    \n",
    "    results = inst.postprocess(y_hat, inps)\n",
    "    \n",
    "    print ('RESULTS')\n",
    "    print (results)"
   ]
  }
 ],
 "metadata": {
  "kernelspec": {
   "display_name": "Python 3",
   "language": "python",
   "name": "python3"
  },
  "language_info": {
   "codemirror_mode": {
    "name": "ipython",
    "version": 3
   },
   "file_extension": ".py",
   "mimetype": "text/x-python",
   "name": "python",
   "nbconvert_exporter": "python",
   "pygments_lexer": "ipython3",
   "version": "3.9.7"
  }
 },
 "nbformat": 4,
 "nbformat_minor": 5
}
