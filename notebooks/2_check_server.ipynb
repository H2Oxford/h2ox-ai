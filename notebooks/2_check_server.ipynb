{
 "cells": [
  {
   "cell_type": "code",
   "execution_count": null,
   "id": "f90290f0-a2dc-4bf1-af13-c11aba22eef7",
   "metadata": {},
   "outputs": [],
   "source": [
    "from serve import H2OxHandler\n",
    "from ts.context import Context\n",
    "import xarray as xr\n",
    "import json\n",
    "    \n",
    "%load_ext autoreload\n",
    "%autoreload 2"
   ]
  },
  {
   "cell_type": "code",
   "execution_count": null,
   "id": "6cc2e43a-badb-4b65-903c-1db06d78f756",
   "metadata": {},
   "outputs": [],
   "source": [
    "ctx = Context(\n",
    "    model_name='kaveri', \n",
    "    model_dir='/home/lucas/h2ox-ai/models/', \n",
    "    manifest = {'model': \n",
    "                {\n",
    "                    'serializedFile': 'kaveri.pt',\n",
    "                }\n",
    "               }, \n",
    "    batch_size=8, \n",
    "    gpu='0', \n",
    "    mms_version=0.1, \n",
    "    limit_max_image_pixels=True\n",
    ")"
   ]
  },
  {
   "cell_type": "code",
   "execution_count": null,
   "id": "3a6bcbc1-5596-4d92-952b-a8b77ba9196d",
   "metadata": {},
   "outputs": [],
   "source": [
    "inst = H2OxHandler()\n",
    "inst.initialize(ctx)"
   ]
  },
  {
   "cell_type": "code",
   "execution_count": null,
   "id": "53433f6a-f13d-4efc-99e8-c25029f3e3d5",
   "metadata": {},
   "outputs": [],
   "source": [
    "import os, pickle\n",
    "import pandas as pd\n",
    "from datetime import datetime, timedelta\n",
    "import numpy as np"
   ]
  },
  {
   "cell_type": "code",
   "execution_count": null,
   "id": "b52bb029-e482-4fee-801f-f7675acef1a5",
   "metadata": {},
   "outputs": [],
   "source": [
    "import matplotlib.pyplot as plt"
   ]
  },
  {
   "cell_type": "code",
   "execution_count": null,
   "id": "30e50361-6809-4895-abb1-b91dbed00967",
   "metadata": {},
   "outputs": [],
   "source": [
    "import torch"
   ]
  },
  {
   "cell_type": "code",
   "execution_count": null,
   "id": "17812df6-306f-4469-8bbb-979d8f446d33",
   "metadata": {},
   "outputs": [],
   "source": [
    "ds = xr.open_dataset('./../data/data_kaveri.nc')"
   ]
  },
  {
   "cell_type": "code",
   "execution_count": null,
   "id": "e0ef24d9-ec66-4a69-beb0-047c69afe40e",
   "metadata": {},
   "outputs": [],
   "source": [
    "preds = xr.open_dataset('./../experiments_2/sacred/147/preds.nc')"
   ]
  },
  {
   "cell_type": "code",
   "execution_count": null,
   "id": "a4599097-f815-4792-a6cb-9141be7fd37c",
   "metadata": {},
   "outputs": [],
   "source": [
    "dl_data = pickle.load(open('./../data/ds_data.pkl','rb'))\n",
    "dl_meta = pickle.load(open('./../data/ds_meta.pkl','rb'))"
   ]
  },
  {
   "cell_type": "code",
   "execution_count": null,
   "id": "0e74040a-56c2-4f05-88b5-717d6f5be7d0",
   "metadata": {},
   "outputs": [],
   "source": [
    "sample_data = json.load(open('./../data/kaveri_sample_2020_10_01.json','r'))"
   ]
  },
  {
   "cell_type": "code",
   "execution_count": null,
   "id": "f4f158db-ae6d-495b-9430-66aa681d0804",
   "metadata": {},
   "outputs": [],
   "source": [
    "[idx for idx in range(len(dl_meta)) if dl_meta[idx]['date']==np.datetime64(datetime(2020,10,1).isoformat())]"
   ]
  },
  {
   "cell_type": "code",
   "execution_count": null,
   "id": "7ba8e46e-5054-4cfb-ae46-c96bf0d52cfe",
   "metadata": {},
   "outputs": [],
   "source": [
    "trn_sample = dl_data[3836]"
   ]
  },
  {
   "cell_type": "code",
   "execution_count": null,
   "id": "f69f83aa-ce57-4d7c-8bad-502d5576fed4",
   "metadata": {
    "tags": []
   },
   "outputs": [],
   "source": [
    "inps = inst.preprocess(sample_data)"
   ]
  },
  {
   "cell_type": "code",
   "execution_count": null,
   "id": "432f88d9-0bc5-4122-af7d-f917cfd08b29",
   "metadata": {},
   "outputs": [],
   "source": [
    "y_hat = inst.inference(inps)"
   ]
  },
  {
   "cell_type": "code",
   "execution_count": null,
   "id": "aee87349-bc22-4918-ac98-a3c143a7b1fc",
   "metadata": {},
   "outputs": [],
   "source": [
    "results = inst.postprocess(y_hat, inps)"
   ]
  },
  {
   "cell_type": "code",
   "execution_count": null,
   "id": "7e15e82d-e663-4ec3-87f5-0e927aebb8bf",
   "metadata": {},
   "outputs": [],
   "source": [
    "results['2020-10-01']['lower']"
   ]
  },
  {
   "cell_type": "code",
   "execution_count": null,
   "id": "6a296348-90e3-425e-89d7-c62487426864",
   "metadata": {},
   "outputs": [],
   "source": [
    "sdt = datetime(2020,10,1)"
   ]
  },
  {
   "cell_type": "code",
   "execution_count": null,
   "id": "eace8d18-ed86-4efb-bd69-5129267768c0",
   "metadata": {},
   "outputs": [],
   "source": [
    "hist_data = {site:sample_data['2020-10-01'][site]['y']['targets_WATER_VOLUME'] for site in sample_data['2020-10-01'].keys()}"
   ]
  },
  {
   "cell_type": "code",
   "execution_count": null,
   "id": "17b2498f-a4a3-49ea-b8d9-dc9f5e982964",
   "metadata": {},
   "outputs": [],
   "source": [
    "hist_df = pd.DataFrame(hist_data, index = pd.date_range(sdt-timedelta(days=90),sdt))"
   ]
  },
  {
   "cell_type": "code",
   "execution_count": null,
   "id": "46fc58ff-13c3-46ba-93b8-45830da4092e",
   "metadata": {},
   "outputs": [],
   "source": [
    "dfs = {\n",
    "    kk: pd.DataFrame(\n",
    "        results['2020-10-01'][kk].cpu().detach().numpy(), \n",
    "        index=pd.date_range(sdt,sdt+timedelta(days=89)),\n",
    "        columns=hist_data.keys()\n",
    "    )\n",
    "    \n",
    "    for kk in ['lower','upper','mean']}"
   ]
  },
  {
   "cell_type": "code",
   "execution_count": null,
   "id": "148d6807-438d-4a02-b283-10f8d61285f9",
   "metadata": {},
   "outputs": [],
   "source": [
    "fig, ax = plt.subplots(1,1,figsize=(16,8))\n",
    "hist_df.plot(ax=ax)\n",
    "for kk in dfs.keys():\n",
    "    dfs[kk].plot(ax=ax)"
   ]
  },
  {
   "cell_type": "code",
   "execution_count": null,
   "id": "1e43d06a-996f-4be7-bff3-0d2d8bae3629",
   "metadata": {},
   "outputs": [],
   "source": []
  }
 ],
 "metadata": {
  "kernelspec": {
   "display_name": "Python 3",
   "language": "python",
   "name": "python3"
  },
  "language_info": {
   "codemirror_mode": {
    "name": "ipython",
    "version": 3
   },
   "file_extension": ".py",
   "mimetype": "text/x-python",
   "name": "python",
   "nbconvert_exporter": "python",
   "pygments_lexer": "ipython3",
   "version": "3.9.7"
  }
 },
 "nbformat": 4,
 "nbformat_minor": 5
}
