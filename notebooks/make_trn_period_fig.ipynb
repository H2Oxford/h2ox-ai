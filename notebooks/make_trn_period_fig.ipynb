{
 "cells": [
  {
   "cell_type": "code",
   "execution_count": null,
   "id": "7f58d6f8-2e9f-47f2-a67e-833b655695f4",
   "metadata": {},
   "outputs": [],
   "source": [
    "import pandas as pd\n",
    "import numpy as np\n",
    "import matplotlib.pyplot as plt\n",
    "import datetime\n",
    "from matplotlib.patches import Patch"
   ]
  },
  {
   "cell_type": "code",
   "execution_count": null,
   "id": "72270b70-ae8d-4751-ba1c-c9f37b14eadb",
   "metadata": {},
   "outputs": [],
   "source": [
    "idx = pd.date_range('2010-01-01','2021-12-31', freq='D')"
   ]
  },
  {
   "cell_type": "code",
   "execution_count": null,
   "id": "84eb00b5-83e8-4a13-9c71-e2d50da3ce93",
   "metadata": {},
   "outputs": [],
   "source": [
    "data = {'dummy':np.random.rand(len(idx))}"
   ]
  },
  {
   "cell_type": "code",
   "execution_count": null,
   "id": "6f113322-58e9-4f4f-b870-7969568ed0aa",
   "metadata": {},
   "outputs": [],
   "source": [
    "df = pd.DataFrame(data,index=idx)"
   ]
  },
  {
   "cell_type": "code",
   "execution_count": null,
   "id": "8b04b8a1-c6e0-4ba1-86be-5977861210fd",
   "metadata": {},
   "outputs": [],
   "source": [
    "fig, ax = plt.subplots(1,1,figsize=(8,4))\n",
    "df['dummy'].plot(ax=ax, lw=0)\n",
    "ax.set_yticks([])\n",
    "\n",
    "ax.axvspan(\n",
    "    datetime.datetime(2011,1,1),\n",
    "    datetime.datetime(2011,12,31),\n",
    "    color='g',\n",
    ")\n",
    "ax.axvspan(\n",
    "    datetime.datetime(2020,1,1),\n",
    "    datetime.datetime(2020,12,31),\n",
    "    color='g',\n",
    ")\n",
    "ax.axvspan(\n",
    "    datetime.datetime(2013,1,1),\n",
    "    datetime.datetime(2013,12,31),\n",
    "    color='c',\n",
    ")\n",
    "ax.axvspan(\n",
    "    datetime.datetime(2018,1,1),\n",
    "    datetime.datetime(2018,12,31),\n",
    "    color='c',\n",
    ")\n",
    "ax.axvspan(\n",
    "    datetime.datetime(2016,1,1),\n",
    "    datetime.datetime(2017,12,31),\n",
    "    color='pink',\n",
    ")\n",
    "\n",
    "legend_elements = [\n",
    "    Patch(facecolor='white', edgecolor='k',label='Training'),\n",
    "    Patch(facecolor='c', edgecolor='k',label='Validation'),\n",
    "    Patch(facecolor='g', edgecolor='k',label='Test'),\n",
    "    Patch(facecolor='pink', edgecolor='k',label='Corrupted Data'),\n",
    "]\n",
    "\n",
    "ax.legend(handles=legend_elements, ncol=4, loc='center', bbox_to_anchor=(.5, -0.13))\n",
    "fig.savefig('./trnvaltest.pdf',bbox_inches='tight')"
   ]
  },
  {
   "cell_type": "code",
   "execution_count": null,
   "id": "d6967371-3b60-44bc-9008-0ea25b1a68dd",
   "metadata": {},
   "outputs": [],
   "source": [
    "\n",
    "fig, axs = plt.subplots(6,2, figsize=(18,12))\n",
    "for ii_k, (kk, df) in enumerate(dfs.items()):\n",
    "    df[['tp_0']].plot(ax=axs[ii_k][0])\n",
    "    df[['volume_bcm']].plot(ax=axs[ii_k][0], secondary_y='PRESENT_STORAGE_TMC', color='k')\n",
    "    df[['t2m_0']].plot(ax=axs[ii_k][1])\n",
    "    df[['volume_bcm']].plot(ax=axs[ii_k][1], secondary_y='PRESENT_STORAGE_TMC', color='k')\n",
    "    axs[ii_k][0].set_ylabel(kk)\n",
    "    \n",
    "    for ii in range(2):\n",
    "        for yrmnth in val_yrmnths:\n",
    "            year, month = yrmnth.split('-')\n",
    "            sdt = dt(int(year), int(month),1)\n",
    "            edt = sdt + relativedelta(months=3)\n",
    "            axs[ii_k][ii].axvspan(sdt, edt, color='c', alpha=0.25)\n",
    "\n",
    "        for yrmnth in test_yrmnths:\n",
    "            year, month = yrmnth.split('-')\n",
    "            sdt = dt(int(year), int(month),1)\n",
    "            edt = sdt + relativedelta(months=3)\n",
    "            axs[ii_k][ii].axvspan(sdt, edt, color='g', alpha=0.25)\n",
    "plt.show()"
   ]
  }
 ],
 "metadata": {
  "kernelspec": {
   "display_name": "Python 3",
   "language": "python",
   "name": "python3"
  },
  "language_info": {
   "codemirror_mode": {
    "name": "ipython",
    "version": 3
   },
   "file_extension": ".py",
   "mimetype": "text/x-python",
   "name": "python",
   "nbconvert_exporter": "python",
   "pygments_lexer": "ipython3",
   "version": "3.9.7"
  }
 },
 "nbformat": 4,
 "nbformat_minor": 5
}
