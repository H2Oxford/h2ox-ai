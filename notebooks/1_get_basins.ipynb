{
 "cells": [
  {
   "cell_type": "code",
   "execution_count": null,
   "id": "052fe42e-0540-47b9-89b4-e1b1cb5448cd",
   "metadata": {},
   "outputs": [],
   "source": [
    "from google.cloud import bigquery"
   ]
  },
  {
   "cell_type": "code",
   "execution_count": null,
   "id": "7fd001af-c24e-469f-91d1-6b56c7386e12",
   "metadata": {},
   "outputs": [],
   "source": [
    "from shapely import geometry, wkt"
   ]
  },
  {
   "cell_type": "code",
   "execution_count": null,
   "id": "74f82b72-6ee7-4cf6-835a-0f0f83b5aa7f",
   "metadata": {},
   "outputs": [],
   "source": [
    "import geopandas as gpd"
   ]
  },
  {
   "cell_type": "code",
   "execution_count": null,
   "id": "d3fbb672-d804-484a-b71d-6aa3d1d1c511",
   "metadata": {},
   "outputs": [],
   "source": [
    "import matplotlib.pyplot as plt"
   ]
  },
  {
   "cell_type": "code",
   "execution_count": null,
   "id": "7dd6576c-d292-4ab0-b044-42c65fe6750d",
   "metadata": {},
   "outputs": [],
   "source": [
    "import os"
   ]
  },
  {
   "cell_type": "code",
   "execution_count": null,
   "id": "904f3228-edd7-4e7a-9ab1-097da88a597c",
   "metadata": {},
   "outputs": [],
   "source": [
    "root = os.path.abspath(os.path.join(os.getcwd(),'..'))"
   ]
  },
  {
   "cell_type": "code",
   "execution_count": null,
   "id": "878ca596-332f-47ff-944b-f772f2ce90eb",
   "metadata": {},
   "outputs": [],
   "source": [
    "client = bigquery.Client()"
   ]
  },
  {
   "cell_type": "code",
   "execution_count": null,
   "id": "5037021f-077c-4455-aa91-203d526f623a",
   "metadata": {},
   "outputs": [],
   "source": [
    "Q = f\"\"\"\n",
    "    SELECT *\n",
    "    FROM `oxeo-main.wave2web.tracked-reservoirs`\n",
    "\"\"\""
   ]
  },
  {
   "cell_type": "code",
   "execution_count": null,
   "id": "85b73d08-02be-4212-968c-db451351c04e",
   "metadata": {},
   "outputs": [],
   "source": [
    "df = client.query(Q).result().to_dataframe()"
   ]
  },
  {
   "cell_type": "code",
   "execution_count": null,
   "id": "377add30-4d86-4be0-b630-abb7cb7729e7",
   "metadata": {},
   "outputs": [],
   "source": [
    "df['geometry'] = df['upstream_geom'].apply(wkt.loads)"
   ]
  },
  {
   "cell_type": "code",
   "execution_count": null,
   "id": "5d65528a-5ad4-42ed-a216-ad3104649e2d",
   "metadata": {},
   "outputs": [],
   "source": [
    "gdf= gpd.GeoDataFrame(df, geometry='geometry')"
   ]
  },
  {
   "cell_type": "code",
   "execution_count": null,
   "id": "b94c4a08-b31e-4a8f-8eda-3d02955f9366",
   "metadata": {},
   "outputs": [],
   "source": [
    "gdf.boundary.plot()"
   ]
  },
  {
   "cell_type": "code",
   "execution_count": null,
   "id": "acfe2d9a-a552-41c5-a4c9-bf3482593533",
   "metadata": {},
   "outputs": [],
   "source": [
    "fig, ax = plt.subplots(1,1,figsize=(16,16))\n",
    "gdf.boundary.plot(ax=ax)\n",
    "for idx, row in gdf.iterrows():\n",
    "    ax.text(row['geometry'].centroid.x, row['geometry'].centroid.y, row['name'])"
   ]
  },
  {
   "cell_type": "code",
   "execution_count": null,
   "id": "c922d90f-77ca-4479-9ae0-a3f8398bb227",
   "metadata": {},
   "outputs": [],
   "source": []
  },
  {
   "cell_type": "code",
   "execution_count": null,
   "id": "8fe34b9a-8879-4da1-9e9b-dc0b381cb294",
   "metadata": {},
   "outputs": [],
   "source": [
    "gdf = gdf.drop(columns=['uuid','upstream_geom']).rename(columns={'name':'DAM_NAME'})"
   ]
  },
  {
   "cell_type": "code",
   "execution_count": null,
   "id": "d3f42ddb-f166-4ccb-a74d-8272e1248dbe",
   "metadata": {},
   "outputs": [],
   "source": [
    "gdf.to_file(os.path.join(root,'data','basins_all.geojson'))"
   ]
  },
  {
   "cell_type": "code",
   "execution_count": null,
   "id": "05e49060-a4b3-43af-88fb-5205b28debc6",
   "metadata": {},
   "outputs": [],
   "source": [
    "gdf['DAM_NAME'].values"
   ]
  },
  {
   "cell_type": "code",
   "execution_count": null,
   "id": "e8ff723a-28ba-4bca-89d3-d3df7de19eaa",
   "metadata": {},
   "outputs": [],
   "source": [
    "client = bigquery.Client()\n",
    "\n",
    "        query_keys = site_mapper.keys()\n",
    "\n",
    "        sites_query = '(\"' + '\",\"'.join(query_keys) + '\")'\n",
    "\n",
    "        # construct query\n",
    "        Q = f\"\"\"\n",
    "            SELECT {', '.join(variable_keys)}\n",
    "            FROM `{bq_address}`\n",
    "            WHERE\n",
    "              {site_col} in {sites_query}\n",
    "              AND {datetime_col} <= \"{end_datetime.isoformat()[0:10]}\"\n",
    "              AND {datetime_col} >= \"{start_datetime.isoformat()[0:10]}\"\n",
    "        \"\"\"\n",
    "\n",
    "        # execute query\n",
    "        df = client.query(Q).result().to_dataframe()"
   ]
  }
 ],
 "metadata": {
  "kernelspec": {
   "display_name": "Python 3",
   "language": "python",
   "name": "python3"
  },
  "language_info": {
   "codemirror_mode": {
    "name": "ipython",
    "version": 3
   },
   "file_extension": ".py",
   "mimetype": "text/x-python",
   "name": "python",
   "nbconvert_exporter": "python",
   "pygments_lexer": "ipython3",
   "version": "3.9.7"
  }
 },
 "nbformat": 4,
 "nbformat_minor": 5
}
