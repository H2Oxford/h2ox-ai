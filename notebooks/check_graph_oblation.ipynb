{
 "cells": [
  {
   "cell_type": "code",
   "execution_count": null,
   "id": "67cd2146-e804-4b26-a0d6-937ad274a34f",
   "metadata": {},
   "outputs": [],
   "source": [
    "import xarray as xr\n",
    "import pandas as pd\n",
    "import matplotlib.pyplot as plt"
   ]
  },
  {
   "cell_type": "code",
   "execution_count": null,
   "id": "1e2c5d6d-3f90-4799-886a-7debf87c7e8b",
   "metadata": {},
   "outputs": [],
   "source": [
    "import os"
   ]
  },
  {
   "cell_type": "code",
   "execution_count": null,
   "id": "98b2c126-cb7b-4f02-b590-e90ef1542aea",
   "metadata": {},
   "outputs": [],
   "source": [
    "root = os.path.abspath(os.path.join(os.getcwd(),'..'))"
   ]
  },
  {
   "cell_type": "code",
   "execution_count": null,
   "id": "d2095050-22ff-4692-b426-588f6ab8426a",
   "metadata": {},
   "outputs": [],
   "source": [
    "sites = ['extras','ganga_damodar','godavari','kali','kaveri','krishna','mahanadi','narmada','penner','sharavati','tapi']"
   ]
  },
  {
   "cell_type": "code",
   "execution_count": null,
   "id": "0d9e5e1d-9faf-4f59-b4d2-7d2999bebf48",
   "metadata": {},
   "outputs": [],
   "source": [
    "import yaml"
   ]
  },
  {
   "cell_type": "code",
   "execution_count": null,
   "id": "1e1e3345-373d-4da5-81c3-af917e5b65fe",
   "metadata": {},
   "outputs": [],
   "source": [
    "sites_data = yaml.load(open(os.path.join(root,'bin','experiments-lowest.yaml'),'r'),Loader=yaml.SafeLoader)"
   ]
  },
  {
   "cell_type": "code",
   "execution_count": null,
   "id": "aa1b2004-a896-488f-9761-877a50c96041",
   "metadata": {
    "tags": []
   },
   "outputs": [],
   "source": [
    "ds_gconv = {}\n",
    "for site in sites:\n",
    "    ds_gconv[site] = xr.load_dataset(os.path.join(root,'data','final_preds',f'{site}-gconv-errors.nc'))\n",
    "ds_noconv = {}\n",
    "for site in sites:\n",
    "    #el = os.path.splitext(os.path.split(sites_data[site]['no_gconv'])[-1])[0][-2:]\n",
    "    #ds_noconv[site] = xr.load_dataset(os.path.join(root,'data','final_preds',f'{site}-no_gconv-{el}-errors.nc'))\n",
    "    ds_noconv[site] = xr.load_dataset(os.path.join(root,'data','final_preds',f'{site}-no_gconv-errors.nc'))"
   ]
  },
  {
   "cell_type": "code",
   "execution_count": null,
   "id": "d9a28ee7-fafe-436b-afde-5676290bea33",
   "metadata": {},
   "outputs": [],
   "source": [
    "ds_gconv = {}\n",
    "for site in sites:\n",
    "    #print (sites_data[site]['gconv'].split('-'))\n",
    "    el = os.path.splitext(os.path.split(sites_data[site]['gconv'])[-1])[0][-2:]\n",
    "    #el = str(int(el)+10)\n",
    "    ds_gconv[site] = xr.load_dataset(os.path.join(root,'data','final_preds',f'{site}-gconv-{el}-errors.nc'))\n",
    "ds_noconv = {}\n",
    "for site in sites:\n",
    "    el = os.path.splitext(os.path.split(sites_data[site]['no_gconv'])[-1])[0][-2:]\n",
    "    ds_noconv[site] = xr.load_dataset(os.path.join(root,'data','final_preds',f'{site}-no_gconv-{el}-errors.nc'))"
   ]
  },
  {
   "cell_type": "code",
   "execution_count": null,
   "id": "9b12e0e7-080c-4f3a-af32-6ed46b2e36eb",
   "metadata": {},
   "outputs": [],
   "source": [
    "all_pearson_gconv = xr.merge([ds_gconv[site]['pearson-r'] for site in sites])\n",
    "all_pearson_noconv = xr.merge([ds_noconv[site]['pearson-r'] for site in sites])"
   ]
  },
  {
   "cell_type": "code",
   "execution_count": null,
   "id": "2a7b269a-524b-47df-9565-3f08c2f0a8c3",
   "metadata": {},
   "outputs": [],
   "source": [
    "all_pearson_gconv.quantile(dim='site',q=0.25)['step'].values"
   ]
  },
  {
   "cell_type": "code",
   "execution_count": null,
   "id": "49628c66-d347-484d-9e6c-5d9f25c37188",
   "metadata": {},
   "outputs": [],
   "source": [
    "all_pearson_gconv.quantile(dim='site',q=0.25)['pearson-r'].values.squeeze()"
   ]
  },
  {
   "cell_type": "code",
   "execution_count": null,
   "id": "ccef0505-230b-4e15-8e3f-7dc1ac1ac47a",
   "metadata": {},
   "outputs": [],
   "source": [
    "from matplotlib.patches import Patch\n",
    "from matplotlib.lines import Line2D"
   ]
  },
  {
   "cell_type": "code",
   "execution_count": null,
   "id": "14865821-1d59-49a0-b8a3-1788baa36653",
   "metadata": {},
   "outputs": [],
   "source": [
    "fig,ax = plt.subplots(1,1,figsize=(6,3))\n",
    "all_pearson_gconv.mean(dim='site').drop('model')['pearson-r'].plot(ax=ax, c='g')\n",
    "all_pearson_noconv.mean(dim='site').drop('model')['pearson-r'].plot(ax=ax, c='b')\n",
    "ax.fill_between(\n",
    "    all_pearson_gconv.quantile(dim='site',q=0.25)['step'].values.squeeze(),\n",
    "    all_pearson_gconv.quantile(dim='site',q=0.33)['pearson-r'].values.squeeze(),\n",
    "    all_pearson_gconv.quantile(dim='site',q=0.67)['pearson-r'].values.squeeze(),\n",
    "    color = '#d9ead3',\n",
    "    alpha=0.5,\n",
    ")\n",
    "ax.fill_between(\n",
    "    all_pearson_noconv.quantile(dim='site',q=0.25)['step'].values.squeeze(),\n",
    "    all_pearson_noconv.quantile(dim='site',q=0.33)['pearson-r'].values.squeeze(),\n",
    "    all_pearson_noconv.quantile(dim='site',q=0.67)['pearson-r'].values.squeeze(),\n",
    "    color = '#cfe2f3',\n",
    "    alpha=0.5,\n",
    ")\n",
    "ax.set_ylabel('Coefficient of Determination')\n",
    "ax.set_xlabel('Prediction Horizon [days')\n",
    "\n",
    "legend_elements = [\n",
    "    Line2D([0], [0], color='g', lw=2, label='Baseline Mean'),\n",
    "    Line2D([0], [0], color='b', lw=2, label='GConv Ablation Mean'),\n",
    "    Patch(facecolor='#d9ead3', edgecolor=None,label='Baseline $\\mp 0.5\\sigma$'),\n",
    "    Patch(facecolor='#cfe2f3', edgecolor=None,label='GConv Abl. $\\mp 0.5\\sigma$'),\n",
    "]\n",
    "ax.legend(handles=legend_elements, loc='lower center', ncol=2, bbox_to_anchor=(0.5,-0.45))\n",
    "fig.savefig('./gconv_prediction_horizon.pdf',bbox_inches='tight')"
   ]
  },
  {
   "cell_type": "code",
   "execution_count": null,
   "id": "02411334-9f64-4829-9f4f-349b32426939",
   "metadata": {},
   "outputs": [],
   "source": [
    "(all_pearson_noconv.mean(dim='site').drop('model')['pearson-r'] - all_pearson_gconv.mean(dim='site').drop('model')['pearson-r']).mean()"
   ]
  },
  {
   "cell_type": "code",
   "execution_count": null,
   "id": "913fedde-e094-469e-92e6-46916f9d63e5",
   "metadata": {},
   "outputs": [],
   "source": [
    "df_gconv = all_pearson_gconv.mean(dim='site').drop('model')['pearson-r'].to_pandas().T\n",
    "df_noconv = all_pearson_noconv.mean(dim='site').drop('model')['pearson-r'].to_pandas().T"
   ]
  },
  {
   "cell_type": "code",
   "execution_count": null,
   "id": "fb6ce399-5ecd-4e11-bcc1-e0300e97641b",
   "metadata": {},
   "outputs": [],
   "source": [
    "fig, ax = plt.subplots(1,1,figsize=(6,4))\n",
    "df_gconv.rolling(5).mean().plot(ax=ax, c='g')\n",
    "df_noconv.rolling(5).mean().plot(ax=ax, c='c')"
   ]
  },
  {
   "cell_type": "code",
   "execution_count": null,
   "id": "e0eab4db-9c9d-4732-96c5-c8e83d252109",
   "metadata": {},
   "outputs": [],
   "source": [
    "slices = [slice(0,5,None),slice(5,15,None),slice(15,30,None),slice(30,50,None),slice(50,75,None),slice(75,90,None)]"
   ]
  },
  {
   "cell_type": "code",
   "execution_count": null,
   "id": "989f088b-e02d-4b1b-819b-66b7749f5019",
   "metadata": {},
   "outputs": [],
   "source": [
    "def violin(arr, c_face, c_edge, c_edge_mean):\n",
    "    fig, ax = plt.subplots(1,1,figsize=(6,3))\n",
    "    data = [arr.sel({'step':s}).mean(dim=['step','model'])['pearson-r'].values for s in slices]\n",
    "    collections = ax.violinplot(data, showmeans=True)\n",
    "    print (collections.keys())\n",
    "    vp = collections['bodies']\n",
    "    for b in vp:\n",
    "        b.set_facecolor(c_face)\n",
    "    for e in ['cmaxes','cmins','cbars']:\n",
    "        vp = collections[e]\n",
    "        vp.set_edgecolor(c_edge)\n",
    "    vp = collections['cmeans']\n",
    "    #for b in vp:\n",
    "    vp.set_edgecolor(c_edge_mean)\n",
    "    vp.set_linewidth(3)\n",
    "    ax.set_ylim(-0.1,0.8)\n",
    "    ax.set_xticklabels(['','0-5 days']+[f'{s.start}-{s.stop}' for s in slices[1:]])\n",
    "    ax.set_ylabel('Coefficient of Determination')\n",
    "    return fig"
   ]
  },
  {
   "cell_type": "code",
   "execution_count": null,
   "id": "d11a86be-1bea-44a0-bcfb-1656b984f65a",
   "metadata": {},
   "outputs": [],
   "source": [
    "#gconv_fig = violin(all_pearson_gconv, '#cfe2f3ff', '#e06666') # \n",
    "gconv_fig = violin(all_pearson_gconv, '#f9cbab', '#e97f34', '#e06666')\n",
    "gconv_fig.savefig('./gconv-allsites.png',bbox_inches='tight', transparent=True)"
   ]
  },
  {
   "cell_type": "code",
   "execution_count": null,
   "id": "f1a56875-ae0f-4765-a21b-cd4a8344e0e2",
   "metadata": {},
   "outputs": [],
   "source": [
    "no_gconv_fig = violin(all_pearson_gconv, '#cfe2f3ff', '#3d85c6', '#e06666') # \n",
    "#no_gconv_fig = violin(all_pearson_gconv, '#f9cbab', '#e97f34', '#e06666')\n",
    "no_gconv_fig.savefig('./no_gconv-allsites.png',bbox_inches='tight', transparent=True)"
   ]
  },
  {
   "cell_type": "code",
   "execution_count": null,
   "id": "875983b4-ee50-467f-912a-cf3d47a0c5d2",
   "metadata": {},
   "outputs": [],
   "source": [
    "all_pearson_gconv.sel({'step':slice(75,90,None)})['pearson-r'].mean() # 37.2 33.7"
   ]
  },
  {
   "cell_type": "code",
   "execution_count": null,
   "id": "3587558d-ccf6-4e25-b9f3-a8e6b4fff0ee",
   "metadata": {},
   "outputs": [],
   "source": [
    "import json"
   ]
  },
  {
   "cell_type": "code",
   "execution_count": null,
   "id": "f0a99bd8-5156-478c-be71-59b9b10561b5",
   "metadata": {},
   "outputs": [],
   "source": [
    "site_res = {site:json.load(open(os.path.join(root,'data',f'{site}.json'),'r')) for site in sites}"
   ]
  },
  {
   "cell_type": "code",
   "execution_count": null,
   "id": "93313c60-3568-41c7-91b4-046dd608e5eb",
   "metadata": {},
   "outputs": [],
   "source": [
    "site_res"
   ]
  },
  {
   "cell_type": "code",
   "execution_count": null,
   "id": "3ec293c3-9b4d-406f-83bf-f47ff3fc853e",
   "metadata": {},
   "outputs": [],
   "source": [
    "for site in sorted(sites):\n",
    "    print ( len(site_res[site]),site,', '.join([s.replace('_',' ')  for s in site_res[site]]))"
   ]
  },
  {
   "cell_type": "code",
   "execution_count": null,
   "id": "77bd57a7-aede-4524-a340-4fa1300f2b7d",
   "metadata": {},
   "outputs": [],
   "source": [
    "tables_slices = [slice(0,5,None),slice(5,20,None),slice(20,50,None),slice(50,90,None)]"
   ]
  },
  {
   "cell_type": "code",
   "execution_count": null,
   "id": "50d8d461-6bae-4c0b-982c-3e426b6c007d",
   "metadata": {},
   "outputs": [],
   "source": [
    "for site in sites:\n",
    "    print(site,' & '.join([f'{el:02.2f}' for el in [all_pearson_gconv.sel({'site':site_res[site],'step':s})['pearson-r'].mean().values for s in tables_slices]]))"
   ]
  },
  {
   "cell_type": "code",
   "execution_count": null,
   "id": "08973079-30f7-4a2b-b707-cda16f7046ed",
   "metadata": {},
   "outputs": [],
   "source": [
    "for site in sites:\n",
    "    print(site)\n",
    "    print (all_pearson_gconv.sel({'site':site_res[site]}).drop('model').mean(dim='step')['pearson-r'].to_pandas().T.sort_values(0))\n",
    "    #print (all_pearson_gconv.sel({'site':site_res[site]}).drop('model').mean(dim='step')['pearson-r'].to_pandas().T.sort_values(0).mean())"
   ]
  },
  {
   "cell_type": "code",
   "execution_count": null,
   "id": "ae7cb08a-1a6b-4749-9cb5-eda871029f9f",
   "metadata": {},
   "outputs": [],
   "source": [
    "all_pearson_gconv.drop('model').mean(dim='step')['pearson-r'].to_pandas().T.sort_values(0)"
   ]
  },
  {
   "cell_type": "code",
   "execution_count": null,
   "id": "95232583-fdb7-440b-9019-0dfd7c51d616",
   "metadata": {},
   "outputs": [],
   "source": [
    "all_pearson_gconv"
   ]
  },
  {
   "cell_type": "code",
   "execution_count": null,
   "id": "1074cee8-4b94-4c42-89a8-5a695ad21e97",
   "metadata": {},
   "outputs": [],
   "source": [
    "violin(all_pearson_noconv)"
   ]
  },
  {
   "cell_type": "code",
   "execution_count": null,
   "id": "cd6ac3c3-2d1a-406c-b778-984e8f0e76c6",
   "metadata": {},
   "outputs": [],
   "source": [
    "fig, axs = plt.subplots(2,1,figsize=(6,6))\n",
    "data_gconv = [all_pearson_gconv.sel({'step':s}).mean(dim=['step','model'])['pearson-r'].values for s in slices]\n",
    "data_noconv = [all_pearson_noconv.sel({'step':s}).mean(dim=['step','model'])['pearson-r'].values for s in slices]\n",
    "axs[0].violinplot(data_gconv, showmeans=True)\n",
    "axs[1].violinplot(data_noconv, showmeans=True)\n",
    "\n",
    "axs[0].set_ylim(-0.05,0.8)\n",
    "axs[1].set_ylim(-0.05,0.8)"
   ]
  },
  {
   "cell_type": "code",
   "execution_count": null,
   "id": "07f3e06d-a748-4c66-8d22-316fb8f8b118",
   "metadata": {},
   "outputs": [],
   "source": [
    "df_gconv.rolling(5).mean().plot()"
   ]
  },
  {
   "cell_type": "code",
   "execution_count": null,
   "id": "6a0c423c-0de0-4591-97ea-37b7619dfed3",
   "metadata": {},
   "outputs": [],
   "source": []
  },
  {
   "cell_type": "code",
   "execution_count": null,
   "id": "9604b18b-6d7d-41e9-8b73-24fc45d1b6e1",
   "metadata": {},
   "outputs": [],
   "source": [
    "all_pearson_gconv"
   ]
  },
  {
   "cell_type": "markdown",
   "id": "646c723b-4f49-45cc-b9db-078c532a47a1",
   "metadata": {},
   "source": [
    "### get the dataframe to compare sizes and things"
   ]
  },
  {
   "cell_type": "code",
   "execution_count": null,
   "id": "c51c6f7d-65cf-4d54-9630-e1a6ec6ba4b1",
   "metadata": {},
   "outputs": [],
   "source": [
    "from google.cloud import bigquery\n",
    "from shapely import geometry, wkt\n",
    "import geopandas as gpd"
   ]
  },
  {
   "cell_type": "code",
   "execution_count": null,
   "id": "15f80c41-e8b7-4923-b792-f7be56130e9e",
   "metadata": {},
   "outputs": [],
   "source": [
    "client=bigquery.Client()"
   ]
  },
  {
   "cell_type": "code",
   "execution_count": null,
   "id": "444ca56a-5795-407f-9b58-114349882b04",
   "metadata": {},
   "outputs": [],
   "source": [
    "Q = f\"\"\"\n",
    "    SELECT *\n",
    "    FROM `oxeo-main.wave2web.tracked-reservoirs`\n",
    "\"\"\""
   ]
  },
  {
   "cell_type": "code",
   "execution_count": null,
   "id": "3909764d-64ec-4f8e-bad2-b49e845941f3",
   "metadata": {},
   "outputs": [],
   "source": [
    "df = client.query(Q).result().to_dataframe()"
   ]
  },
  {
   "cell_type": "code",
   "execution_count": null,
   "id": "32914a83-ea59-460d-9b1d-ed0a627efc47",
   "metadata": {},
   "outputs": [],
   "source": [
    "from area import area"
   ]
  },
  {
   "cell_type": "code",
   "execution_count": null,
   "id": "ffc12132-f73b-4910-affb-7ec5ce86719c",
   "metadata": {},
   "outputs": [],
   "source": [
    "df['lake_geom'] = df['lake_geom'].apply(wkt.loads)"
   ]
  },
  {
   "cell_type": "code",
   "execution_count": null,
   "id": "c7f1ffbb-b8e7-467d-8cd8-3278038e434d",
   "metadata": {},
   "outputs": [],
   "source": [
    "df['geometry'] = df['upstream_geom'].apply(wkt.loads)"
   ]
  },
  {
   "cell_type": "code",
   "execution_count": null,
   "id": "300ea784-cb0b-440b-8bc5-bc2a51ed1bde",
   "metadata": {},
   "outputs": [],
   "source": [
    "df['lake_area'] = df['lake_geom'].apply(lambda geom: area(geometry.mapping(geom)))"
   ]
  },
  {
   "cell_type": "code",
   "execution_count": null,
   "id": "c24e0546-f7c0-4266-97a8-26ee3cb3bf97",
   "metadata": {},
   "outputs": [],
   "source": [
    "df['upstream_area'] = df['geometry'].apply(lambda geom: area(geometry.mapping(geom)))"
   ]
  },
  {
   "cell_type": "code",
   "execution_count": null,
   "id": "d03f1761-9cc2-494a-9390-503e8f19efa9",
   "metadata": {},
   "outputs": [],
   "source": [
    "res_df = all_pearson_gconv.mean(dim=['model','step'])['pearson-r'].to_pandas()"
   ]
  },
  {
   "cell_type": "code",
   "execution_count": null,
   "id": "2a9d6fbc-d04b-494c-bf05-9f6111192f8e",
   "metadata": {},
   "outputs": [],
   "source": [
    "res_df.index.isin(df['name'])"
   ]
  },
  {
   "cell_type": "code",
   "execution_count": null,
   "id": "24fb042a-af36-4def-b509-956494499e0d",
   "metadata": {},
   "outputs": [],
   "source": [
    "df = pd.merge(df, pd.DataFrame(res_df), how='left', left_on='name',right_index=True).rename(columns={0:'pearson-r'})"
   ]
  },
  {
   "cell_type": "code",
   "execution_count": null,
   "id": "f5820d76-77b4-4044-90ef-7f5e9225cc5a",
   "metadata": {},
   "outputs": [],
   "source": [
    "df.sort_values('lake_area') # indirasagar"
   ]
  },
  {
   "cell_type": "code",
   "execution_count": null,
   "id": "57f5be27-59af-4e0d-9c28-82fae58aa1a8",
   "metadata": {},
   "outputs": [],
   "source": [
    "plt.scatter(df.loc[~df['pearson-r'].isna(),'pearson-r'], df.loc[~df['pearson-r'].isna(),'lake_area'])"
   ]
  },
  {
   "cell_type": "code",
   "execution_count": null,
   "id": "5fc493d0-7efc-430f-9677-204de692c9be",
   "metadata": {},
   "outputs": [],
   "source": [
    "plt.scatter(df.loc[~df['pearson-r'].isna(),'pearson-r'], df.loc[~df['pearson-r'].isna(),'upstream_area'])"
   ]
  },
  {
   "cell_type": "code",
   "execution_count": null,
   "id": "9307749f-f586-478d-a42a-381b6e79da0a",
   "metadata": {},
   "outputs": [],
   "source": [
    "df.loc[~df['pearson-r'].isna()].sort_values('pearson-r')"
   ]
  },
  {
   "cell_type": "code",
   "execution_count": null,
   "id": "8f9af491-fe71-46e2-b3ff-1ae89ce121b1",
   "metadata": {},
   "outputs": [],
   "source": []
  },
  {
   "cell_type": "code",
   "execution_count": null,
   "id": "2e4db8b2-9eaa-47e0-9ff7-c97c6a9648df",
   "metadata": {},
   "outputs": [],
   "source": [
    "gdf= gpd.GeoDataFrame(df, geometry='geometry')"
   ]
  }
 ],
 "metadata": {
  "kernelspec": {
   "display_name": "Python 3",
   "language": "python",
   "name": "python3"
  },
  "language_info": {
   "codemirror_mode": {
    "name": "ipython",
    "version": 3
   },
   "file_extension": ".py",
   "mimetype": "text/x-python",
   "name": "python",
   "nbconvert_exporter": "python",
   "pygments_lexer": "ipython3",
   "version": "3.9.7"
  }
 },
 "nbformat": 4,
 "nbformat_minor": 5
}
