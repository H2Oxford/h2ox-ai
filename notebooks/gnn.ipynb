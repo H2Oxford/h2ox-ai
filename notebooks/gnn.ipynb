{
 "cells": [
  {
   "cell_type": "code",
   "execution_count": null,
   "id": "bc8282bf-0c2c-41d1-8d83-6af5debecc07",
   "metadata": {},
   "outputs": [],
   "source": [
    "import torch\n",
    "import numpy as np"
   ]
  },
  {
   "cell_type": "code",
   "execution_count": null,
   "id": "5f711151-56df-4a93-8a62-a564720a748e",
   "metadata": {},
   "outputs": [],
   "source": [
    "np.zeros(5,6)"
   ]
  },
  {
   "cell_type": "code",
   "execution_count": null,
   "id": "35012609-e549-434e-a2de-e05a56cc847b",
   "metadata": {},
   "outputs": [],
   "source": [
    "import torch.nn.functional as F"
   ]
  },
  {
   "cell_type": "code",
   "execution_count": null,
   "id": "b0ae1795-83a6-4cb1-86b1-8e65a9e7565a",
   "metadata": {},
   "outputs": [],
   "source": [
    "from h2ox.ai.gnn import GraphConvolution"
   ]
  },
  {
   "cell_type": "code",
   "execution_count": null,
   "id": "9b5b985b-e5d2-4c13-8189-36e303585e26",
   "metadata": {},
   "outputs": [],
   "source": [
    "in_ft = 6\n",
    "out_ft  =2"
   ]
  },
  {
   "cell_type": "code",
   "execution_count": null,
   "id": "dc6690a4-dc44-4bea-8354-fa8bf9fe095c",
   "metadata": {},
   "outputs": [],
   "source": [
    "inp = torch.rand(10,4,in_ft)"
   ]
  },
  {
   "cell_type": "code",
   "execution_count": null,
   "id": "5cc52ab7-6355-4a0d-83bd-2fd18b2c5a80",
   "metadata": {},
   "outputs": [],
   "source": [
    "adj = torch.from_numpy(np.array([\n",
    "    [0,0,1,0],\n",
    "    [0,0,1,0],\n",
    "    [0,0,0,1],\n",
    "    [0,0,0,0]\n",
    "]))"
   ]
  },
  {
   "cell_type": "code",
   "execution_count": null,
   "id": "0a47f26a-a9aa-4c93-9d2c-4a3f9273cc16",
   "metadata": {},
   "outputs": [],
   "source": [
    "b = [(4,5),(2,3)]"
   ]
  },
  {
   "cell_type": "code",
   "execution_count": null,
   "id": "2a625f39-561b-4525-93e8-b7c10ef350dc",
   "metadata": {},
   "outputs": [],
   "source": [
    "for s1,s2 in b:\n",
    "    print (s1,s2)"
   ]
  },
  {
   "cell_type": "code",
   "execution_count": null,
   "id": "224e33e9-78ee-4998-bee8-49ba07786a26",
   "metadata": {},
   "outputs": [],
   "source": [
    "a,b = {}, {}"
   ]
  },
  {
   "cell_type": "code",
   "execution_count": null,
   "id": "bd604c0b-9db9-4611-85a8-5b3453e33ae3",
   "metadata": {},
   "outputs": [],
   "source": [
    "gconv = GraphConvolution(in_ft,out_ft)"
   ]
  },
  {
   "cell_type": "code",
   "execution_count": null,
   "id": "75dd7cfa-11b2-41c6-9ae9-92e559f2448d",
   "metadata": {},
   "outputs": [],
   "source": [
    "gconv.weight"
   ]
  },
  {
   "cell_type": "code",
   "execution_count": null,
   "id": "d3a1bb76-b99c-4484-b577-3ca0440da6b4",
   "metadata": {},
   "outputs": [],
   "source": [
    "import torch.nn as nn"
   ]
  },
  {
   "cell_type": "code",
   "execution_count": null,
   "id": "0b1d0c80-8f4f-46ae-9712-c4f38aceb56f",
   "metadata": {},
   "outputs": [],
   "source": [
    "class GCN(nn.Module):\n",
    "    def __init__(self, nfeat, nhid, nclass, dropout):\n",
    "        super(GCN, self).__init__()\n",
    "\n",
    "        self.gc1 = GraphConvolution(nfeat, nhid)\n",
    "\n",
    "    def forward(self, x, adj):\n",
    "        x = F.relu(self.gc1(x, adj))\n",
    "        return F.log_softmax(x, dim=1)"
   ]
  },
  {
   "cell_type": "code",
   "execution_count": null,
   "id": "b411ba44-3e91-408c-a091-1f1be14b9ab5",
   "metadata": {},
   "outputs": [],
   "source": [
    "model = GCN(in_ft, out_ft, None, None)"
   ]
  },
  {
   "cell_type": "code",
   "execution_count": null,
   "id": "4343b542-8794-451a-b5cd-b648425904ed",
   "metadata": {},
   "outputs": [],
   "source": [
    "tt = torch.matmul(inp, gconv.weight)"
   ]
  },
  {
   "cell_type": "code",
   "execution_count": null,
   "id": "6accb2cd-c152-4459-9694-60b940c148cf",
   "metadata": {},
   "outputs": [],
   "source": [
    "torch.matmul(adj.float(), tt).shape"
   ]
  },
  {
   "cell_type": "code",
   "execution_count": null,
   "id": "79531b29-404f-42fa-99ce-caed7b830529",
   "metadata": {},
   "outputs": [],
   "source": [
    "inp.shape"
   ]
  },
  {
   "cell_type": "code",
   "execution_count": null,
   "id": "c1bc7c3c-7b42-400d-9285-ccaddc3f7eac",
   "metadata": {},
   "outputs": [],
   "source": [
    "model(inp,adj)"
   ]
  },
  {
   "cell_type": "code",
   "execution_count": null,
   "id": "d9b5c7ee-711a-4141-9b37-92fe05f32f98",
   "metadata": {},
   "outputs": [],
   "source": []
  }
 ],
 "metadata": {
  "kernelspec": {
   "display_name": "Python 3",
   "language": "python",
   "name": "python3"
  },
  "language_info": {
   "codemirror_mode": {
    "name": "ipython",
    "version": 3
   },
   "file_extension": ".py",
   "mimetype": "text/x-python",
   "name": "python",
   "nbconvert_exporter": "python",
   "pygments_lexer": "ipython3",
   "version": "3.9.7"
  }
 },
 "nbformat": 4,
 "nbformat_minor": 5
}
