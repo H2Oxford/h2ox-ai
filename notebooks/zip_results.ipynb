{
 "cells": [
  {
   "cell_type": "code",
   "execution_count": null,
   "id": "16d380ad-b086-4a20-beb6-e380d5f7413a",
   "metadata": {},
   "outputs": [],
   "source": [
    "import yaml\n",
    "import os\n",
    "import zipfile"
   ]
  },
  {
   "cell_type": "code",
   "execution_count": null,
   "id": "a791d684-3dce-43da-946e-df8c29364fb3",
   "metadata": {},
   "outputs": [],
   "source": [
    "root = os.path.abspath(os.path.join(os.getcwd(),'..'))"
   ]
  },
  {
   "cell_type": "code",
   "execution_count": null,
   "id": "0256a809-9753-46ba-8e3f-4da96df7be73",
   "metadata": {},
   "outputs": [],
   "source": [
    "root"
   ]
  },
  {
   "cell_type": "code",
   "execution_count": null,
   "id": "00826648-e57a-4964-9475-9d4a9a8a420b",
   "metadata": {},
   "outputs": [],
   "source": [
    "exp = yaml.load(open(os.path.join(root,'bin','experiments-lowest.yaml')),Loader=yaml.SafeLoader)"
   ]
  },
  {
   "cell_type": "code",
   "execution_count": null,
   "id": "063ccb57-1428-459f-bdd0-e01f1514a8df",
   "metadata": {},
   "outputs": [],
   "source": [
    "with zipfile.ZipFile(os.path.join(root,'result_archive.zip'), \"w\", zipfile.ZIP_DEFLATED) as zipf:\n",
    "\n",
    "    for site in exp.keys():\n",
    "        for item in ['gconv','no_gconv']:\n",
    "        \n",
    "            exp_num = os.path.splitext(os.path.split(exp[site][item])[-1])[0][-2:]\n",
    "        \n",
    "            pth_err = '-'.join([site,item,exp_num,'errors'])+'.nc'\n",
    "            pth_prd = '-'.join([site,item,exp_num,'preds'])+'.nc'\n",
    "            print (pth_err)\n",
    "            print (pth_prd)\n",
    "            \n",
    "            zipf.write(os.path.join(root,'data','final_preds',pth_err), arcname=pth_err.replace('-'+exp_num, \"\"))\n",
    "            zipf.write(os.path.join(root,'data','final_preds',pth_prd), arcname=pth_prd.replace('-'+exp_num, \"\"))"
   ]
  },
  {
   "cell_type": "code",
   "execution_count": null,
   "id": "b3a18d89-d022-41f6-a735-e13ae72ce70f",
   "metadata": {},
   "outputs": [],
   "source": []
  }
 ],
 "metadata": {
  "kernelspec": {
   "display_name": "Python 3",
   "language": "python",
   "name": "python3"
  },
  "language_info": {
   "codemirror_mode": {
    "name": "ipython",
    "version": 3
   },
   "file_extension": ".py",
   "mimetype": "text/x-python",
   "name": "python",
   "nbconvert_exporter": "python",
   "pygments_lexer": "ipython3",
   "version": "3.9.7"
  }
 },
 "nbformat": 4,
 "nbformat_minor": 5
}
