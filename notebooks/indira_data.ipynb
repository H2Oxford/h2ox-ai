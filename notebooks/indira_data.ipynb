{
 "cells": [
  {
   "cell_type": "code",
   "execution_count": null,
   "id": "c83e2509-118e-431f-9bcd-8b2c3ff65fac",
   "metadata": {},
   "outputs": [],
   "source": [
    "import xarray as xr\n",
    "import pandas as pd\n",
    "import matplotlib.pyplot as plt"
   ]
  },
  {
   "cell_type": "code",
   "execution_count": null,
   "id": "e5167478-c88f-4b4a-80db-c80045930c7b",
   "metadata": {},
   "outputs": [],
   "source": [
    "import os\n",
    "root = os.path.abspath(os.path.join(os.getcwd(),'..'))"
   ]
  },
  {
   "cell_type": "code",
   "execution_count": null,
   "id": "0b31e97a-6031-4764-a99b-eb0c61293d96",
   "metadata": {},
   "outputs": [],
   "source": [
    "sites = ['extras','ganga_damodar','godavari','kali','kaveri','krishna','mahanadi','narmada','penner','sharavati','tapi']"
   ]
  },
  {
   "cell_type": "code",
   "execution_count": null,
   "id": "85c6e8ed-d98d-4f1e-ab7b-afee587ea246",
   "metadata": {},
   "outputs": [],
   "source": [
    "data = xr.load_dataset(os.path.join(root,'data','data_kaveri.nc'))"
   ]
  },
  {
   "cell_type": "code",
   "execution_count": null,
   "id": "0095a549-9b43-435d-bed9-46fb2db20df0",
   "metadata": {},
   "outputs": [],
   "source": [
    "# chirps, era5, tigge, volume"
   ]
  },
  {
   "cell_type": "code",
   "execution_count": null,
   "id": "b64bb68f-4875-4685-8d2e-256d293760e7",
   "metadata": {},
   "outputs": [],
   "source": [
    "import numpy as np"
   ]
  },
  {
   "cell_type": "code",
   "execution_count": null,
   "id": "6ee03db5-9c79-405b-8898-88ba403a7dfd",
   "metadata": {},
   "outputs": [],
   "source": [
    "from datetime import timedelta, datetime"
   ]
  },
  {
   "cell_type": "code",
   "execution_count": null,
   "id": "6e661830-09c0-42ec-9ce8-fccda527c56b",
   "metadata": {},
   "outputs": [],
   "source": [
    "from matplotlib.patches import Patch\n",
    "from matplotlib.lines import Line2D"
   ]
  },
  {
   "cell_type": "code",
   "execution_count": null,
   "id": "b8396c7b-eb24-4726-9afe-d33fea7e4cc1",
   "metadata": {},
   "outputs": [],
   "source": [
    "data['global_sites'].values"
   ]
  },
  {
   "cell_type": "code",
   "execution_count": null,
   "id": "74ddbce4-b68b-4daa-91e2-25a397354210",
   "metadata": {},
   "outputs": [],
   "source": [
    "for site in data['global_sites'].values:\n",
    "    fig, axs = plt.subplots(4,1,figsize=(12,10), sharex=True)\n",
    "    #chirps\n",
    "    data.sel({'global_sites':site,'steps':np.timedelta64(0)})['chirps_precip'].plot(ax=axs[0], c='b')\n",
    "    #ear5\n",
    "    ax_sec_era5 = axs[1].twinx()\n",
    "    data.where(data['era5land_t2m']>250).sel({'global_sites':site,'steps':np.timedelta64(0)})['era5land_t2m'].plot(ax=axs[1], c='g')\n",
    "    data.sel({'global_sites':site,'steps':np.timedelta64(0)})['era5land_tp'].plot(ax=ax_sec_era5, c='b')\n",
    "    #tigge\n",
    "    ax_sec_tigge = axs[2].twinx()\n",
    "    for d in [0,4,9,14]:\n",
    "        data.where(data['tigge_t2m']>250).sel({'global_sites':site,'steps':timedelta(days=d)})['tigge_t2m'].plot(ax=axs[2], c='g', alpha=(14-d)/14)\n",
    "    for d in [1,4,9,14]:\n",
    "        data.sel({'global_sites':site,'steps':timedelta(days=d)})['tigge_tp'].plot(ax=ax_sec_tigge, c='b', alpha=(14-d)/14)\n",
    "\n",
    "    #reservoir\n",
    "    data.sel({'global_sites':site,'steps':timedelta(days=0)})['targets_WATER_VOLUME'].plot(ax=axs[3], c='k',lw=2)\n",
    "    axs[3].set_xlim(datetime(2010,1,1), datetime(2022,1,1))\n",
    "    axs[0].set_title('')\n",
    "    axs[0].set_title('CHIRPS',loc='left',weight='bold')\n",
    "    axs[1].set_title('')\n",
    "    ax_sec_era5.set_title('')\n",
    "\n",
    "    axs[1].set_title('ECMWF-ERA5Land',loc='left',weight='bold')\n",
    "    axs[2].set_title('')\n",
    "    ax_sec_tigge.set_title('')\n",
    "    axs[2].set_title('ECMWF-TIGGE',loc='left',weight='bold')\n",
    "    axs[3].set_title('')\n",
    "    axs[3].set_title('India-WRIS',loc='left',weight='bold')\n",
    "    ax_sec_tigge.set_xlabel('')\n",
    "    ax_sec_era5.set_xlabel('')\n",
    "    for ii in range(3):\n",
    "        axs[ii].set_xlabel('')\n",
    "\n",
    "\n",
    "    ecmwf_leg = [\n",
    "        Line2D([0], [0], color='g', lw=2, label='Temperature'),\n",
    "        Line2D([0], [0], color='b', lw=2, label='Precipitation'),\n",
    "    ]\n",
    "    forecast_leg = [\n",
    "        Line2D([0], [0], color='k', alpha=1, lw=2, label='1 day'),\n",
    "        Line2D([0], [0], color='k', alpha=0.75, lw=2, label='5 day'),\n",
    "        Line2D([0], [0], color='k', alpha=0.5, lw=2, label='10 day'),\n",
    "        Line2D([0], [0], color='k', alpha=0.25, lw=2, label='15 day'),\n",
    "    ]\n",
    "    axs[1].legend(handles=ecmwf_leg, loc='upper left', ncol=2)\n",
    "    ax_sec_tigge.legend(handles=ecmwf_leg, loc='upper left', ncol=2)\n",
    "    axs[2].legend(handles=forecast_leg, loc='upper right', ncol=4)\n",
    "\n",
    "\n",
    "    axs[0].set_ylabel('Total Daily Upstream \\nPrecip [mm]')\n",
    "    axs[1].set_ylabel('Mean Daily Upstream \\nTemperature [K]')\n",
    "    ax_sec_era5.set_ylabel('Mean Hourly Upstream \\nPrecip [mm]')\n",
    "    axs[2].set_ylabel('Mean Daily Upstream\\n Temperature [K]')#\n",
    "    ax_sec_tigge.set_ylabel('Total Cumulative Hourly\\n Upstream Precip [mm]')\n",
    "    axs[3].set_ylabel('Daily Reservoir Water\\n Volume [BCM]')\n",
    "    fig.savefig(f'./figs/{site}_sample.pdf',bbox_inches='tight')"
   ]
  },
  {
   "cell_type": "code",
   "execution_count": null,
   "id": "40a4ff73-42cc-4a78-859a-55b8ee82dd7a",
   "metadata": {},
   "outputs": [],
   "source": []
  },
  {
   "cell_type": "code",
   "execution_count": null,
   "id": "36c432e0-95f6-40a7-8ca9-06ba709013e1",
   "metadata": {},
   "outputs": [],
   "source": [
    "fig, axs = plt.subplots(4,1,figsize=(12,10), sharex=True)\n",
    "#chirps\n",
    "data.sel({'global_sites':'indirasagar','steps':np.timedelta64(0)})['chirps_precip'].plot(ax=axs[0], c='b')\n",
    "#ear5\n",
    "ax_sec_era5 = axs[1].twinx()\n",
    "data.where(data['era5land_t2m']>250).sel({'global_sites':'indirasagar','steps':np.timedelta64(0)})['era5land_t2m'].plot(ax=axs[1], c='g')\n",
    "data.sel({'global_sites':'indirasagar','steps':np.timedelta64(0)})['era5land_tp'].plot(ax=ax_sec_era5, c='b')\n",
    "#tigge\n",
    "ax_sec_tigge = axs[2].twinx()\n",
    "for d in [0,4,9,14]:\n",
    "    data.where(data['tigge_t2m']>250).sel({'global_sites':'indirasagar','steps':timedelta(days=d)})['tigge_t2m'].plot(ax=axs[2], c='g', alpha=(14-d)/14)\n",
    "for d in [1,4,9,14]:\n",
    "    data.sel({'global_sites':'indirasagar','steps':timedelta(days=d)})['tigge_tp'].plot(ax=ax_sec_tigge, c='b', alpha=(14-d)/14)\n",
    "\n",
    "#reservoir\n",
    "data.sel({'global_sites':'indirasagar','steps':timedelta(days=0)})['targets_WATER_VOLUME'].plot(ax=axs[3], c='k',lw=2)\n",
    "axs[3].set_xlim(datetime(2010,1,1), datetime(2022,1,1))\n",
    "axs[0].set_title('')\n",
    "axs[0].set_title('CHIRPS',loc='left',weight='bold')\n",
    "axs[1].set_title('')\n",
    "ax_sec_era5.set_title('')\n",
    "\n",
    "axs[1].set_title('ECMWF-ERA5Land',loc='left',weight='bold')\n",
    "axs[2].set_title('')\n",
    "ax_sec_tigge.set_title('')\n",
    "axs[2].set_title('ECMWF-TIGGE',loc='left',weight='bold')\n",
    "axs[3].set_title('')\n",
    "axs[3].set_title('India-WRIS',loc='left',weight='bold')\n",
    "ax_sec_tigge.set_xlabel('')\n",
    "ax_sec_era5.set_xlabel('')\n",
    "for ii in range(3):\n",
    "    axs[ii].set_xlabel('')\n",
    "    \n",
    "    \n",
    "ecmwf_leg = [\n",
    "    Line2D([0], [0], color='g', lw=2, label='Temperature'),\n",
    "    Line2D([0], [0], color='b', lw=2, label='Precipitation'),\n",
    "]\n",
    "forecast_leg = [\n",
    "    Line2D([0], [0], color='k', alpha=1, lw=2, label='1 day'),\n",
    "    Line2D([0], [0], color='k', alpha=0.75, lw=2, label='5 day'),\n",
    "    Line2D([0], [0], color='k', alpha=0.5, lw=2, label='10 day'),\n",
    "    Line2D([0], [0], color='k', alpha=0.25, lw=2, label='15 day'),\n",
    "]\n",
    "axs[1].legend(handles=ecmwf_leg, loc='upper left', ncol=2)\n",
    "ax_sec_tigge.legend(handles=ecmwf_leg, loc='upper left', ncol=2)\n",
    "axs[2].legend(handles=forecast_leg, loc='upper right', ncol=4)\n",
    "    \n",
    "    \n",
    "axs[0].set_ylabel('Total Daily Upstream \\nPrecip [mm]')\n",
    "axs[1].set_ylabel('Mean Daily Upstream \\nTemperature [K]')\n",
    "ax_sec_era5.set_ylabel('Mean Hourly Upstream \\nPrecip [mm]')\n",
    "axs[2].set_ylabel('Mean Daily Upstream\\n Temperature [K]')#\n",
    "ax_sec_tigge.set_ylabel('Total Cumulative Hourly\\n Upstream Precip [mm]')\n",
    "axs[3].set_ylabel('Daily Reservoir Water\\n Volume [BCM]')\n",
    "fig.savefig('./indira_sample.pdf',bbox_inches='tight')"
   ]
  },
  {
   "cell_type": "code",
   "execution_count": null,
   "id": "998a1992-55d6-4126-a5de-f252fdc6c25b",
   "metadata": {},
   "outputs": [],
   "source": [
    "data.sel({'global_sites':'indirasagar'})"
   ]
  }
 ],
 "metadata": {
  "kernelspec": {
   "display_name": "Python 3",
   "language": "python",
   "name": "python3"
  },
  "language_info": {
   "codemirror_mode": {
    "name": "ipython",
    "version": 3
   },
   "file_extension": ".py",
   "mimetype": "text/x-python",
   "name": "python",
   "nbconvert_exporter": "python",
   "pygments_lexer": "ipython3",
   "version": "3.9.7"
  }
 },
 "nbformat": 4,
 "nbformat_minor": 5
}
