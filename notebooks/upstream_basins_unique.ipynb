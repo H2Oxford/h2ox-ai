{
 "cells": [
  {
   "cell_type": "code",
   "execution_count": null,
   "id": "bf546a66-44c4-46d3-bf79-5863c8e41836",
   "metadata": {},
   "outputs": [],
   "source": [
    "from attrs import define\n",
    "import networkx as nx\n",
    "import geopandas as gpd\n",
    "import matplotlib.pyplot as plt\n",
    "import matplotlib as mpl"
   ]
  },
  {
   "cell_type": "markdown",
   "id": "a56f79e4-cb42-4ed0-acd3-fe96042d984d",
   "metadata": {},
   "source": [
    "## Get lake and basin geometries"
   ]
  },
  {
   "cell_type": "code",
   "execution_count": null,
   "id": "24a6fad3-c153-481a-9eac-6c7de1844969",
   "metadata": {},
   "outputs": [],
   "source": [
    "basins = gpd.read_file(\"/home/chris/Temp/basins.gpkg\")\n",
    "basins.head(1)"
   ]
  },
  {
   "cell_type": "code",
   "execution_count": null,
   "id": "011ce9b8-7d1b-463c-9e1a-b214399576fd",
   "metadata": {},
   "outputs": [],
   "source": [
    "lake_geoms = gpd.read_file(\"./h2ox-dash/geoms/h2ox-reservoirs.geojson\")\n",
    "lake_geoms.head(1)"
   ]
  },
  {
   "cell_type": "markdown",
   "id": "40d3312d-583d-4d25-91ee-86da9b7f9b14",
   "metadata": {},
   "source": [
    "## Spatial join basin for each lake"
   ]
  },
  {
   "cell_type": "code",
   "execution_count": null,
   "id": "d8e65320-34ee-4ca2-9832-c224e493adbf",
   "metadata": {},
   "outputs": [],
   "source": [
    "lakes_basins = (\n",
    "    lake_geoms.sjoin(basins, how=\"left\", predicate=\"intersects\")\n",
    "    # get only the firthest downstream joined basin\n",
    "    .sort_values(by=\"UP_AREA\", ascending=False).drop_duplicates(\n",
    "        subset=\"name\", keep=\"first\"\n",
    "    )\n",
    ")"
   ]
  },
  {
   "cell_type": "markdown",
   "id": "91a29f8a-b59a-4ed9-bd52-159df1cd9e10",
   "metadata": {},
   "source": [
    "## Create the graph"
   ]
  },
  {
   "cell_type": "code",
   "execution_count": null,
   "id": "510025c2-bcf0-4e74-b7ec-09ec68ccb84a",
   "metadata": {},
   "outputs": [],
   "source": [
    "# Filter out unneeded basins (it is 1 million+)\n",
    "pfaf3 = lakes_basins.PFAF_3.unique()\n",
    "basins_india = basins.loc[basins.PFAF_3.isin(pfaf3)]"
   ]
  },
  {
   "cell_type": "code",
   "execution_count": null,
   "id": "613edff3-702b-4819-ab68-5b64978a177a",
   "metadata": {},
   "outputs": [],
   "source": [
    "G = nx.from_pandas_edgelist(\n",
    "    basins_india,\n",
    "    source=\"HYBAS_ID\",\n",
    "    target=\"NEXT_DOWN\",\n",
    "    create_using=nx.DiGraph,\n",
    ")"
   ]
  },
  {
   "cell_type": "markdown",
   "id": "a9119c4d-85c1-4939-9ef0-3368a905d7af",
   "metadata": {},
   "source": [
    "## Get upstream for each lake and filter already captured\n",
    "Eg if a lake is downstream for another, remove the catchment of the upstream from what we record for the downstream."
   ]
  },
  {
   "cell_type": "code",
   "execution_count": null,
   "id": "e7c4e479-0d4e-400d-8b81-1e3736121ab3",
   "metadata": {},
   "outputs": [],
   "source": [
    "@define\n",
    "class Lake:\n",
    "    name: str\n",
    "    hybas_id: int\n",
    "    up_area: int\n",
    "    basins: list[int]\n",
    "\n",
    "    @classmethod\n",
    "    def from_row(cls, row):\n",
    "        return cls(\n",
    "            name=row[\"name\"],\n",
    "            hybas_id=row[\"HYBAS_ID\"],\n",
    "            up_area=row[\"UP_AREA\"],\n",
    "            basins=[],\n",
    "        )"
   ]
  },
  {
   "cell_type": "code",
   "execution_count": null,
   "id": "2e7eb98b-0f5f-4533-9bc6-f9a46fe1df6d",
   "metadata": {},
   "outputs": [],
   "source": [
    "lakes = [Lake.from_row(row) for idx, row in lakes_basins.iterrows()]"
   ]
  },
  {
   "cell_type": "code",
   "execution_count": null,
   "id": "9b1e017c-86a7-45eb-9fd6-5410bf5651ae",
   "metadata": {},
   "outputs": [],
   "source": [
    "for lake in lakes:\n",
    "    lake.basins = [n for n in nx.traversal.bfs_tree(G, lake.hybas_id, reverse=True)]"
   ]
  },
  {
   "cell_type": "code",
   "execution_count": null,
   "id": "51b3c810-6b78-4b83-8abf-be2a023af3df",
   "metadata": {},
   "outputs": [],
   "source": [
    "for lake_a in lakes:  # downstream lake\n",
    "    for lake_b in lakes:  # upstream lake\n",
    "        if lake_a.up_area > lake_b.up_area:\n",
    "            lake_a.basins = list(set(lake_a.basins) - set(lake_b.basins))"
   ]
  },
  {
   "cell_type": "markdown",
   "id": "f8ab3fa7-d6ec-4521-9529-d105c256bf05",
   "metadata": {},
   "source": [
    "## Get geoms back into a DataFrame"
   ]
  },
  {
   "cell_type": "code",
   "execution_count": null,
   "id": "18d142e4-45dc-45cb-b4f0-4f5895fd3134",
   "metadata": {},
   "outputs": [],
   "source": [
    "geoms = []\n",
    "for lake in lakes:\n",
    "    geom = basins_india.loc[basins_india.HYBAS_ID.isin(lake.basins)].unary_union\n",
    "    geoms.append(geom)"
   ]
  },
  {
   "cell_type": "code",
   "execution_count": null,
   "id": "f1e9ebc3-c78a-4784-9058-78b237de848e",
   "metadata": {},
   "outputs": [],
   "source": [
    "output_basins = gpd.GeoDataFrame(\n",
    "    [lake.name for lake in lakes],\n",
    "    columns=[\"name\"],\n",
    "    geometry=geoms,\n",
    "    crs=4326,\n",
    ")\n",
    "output_basins[\"WKT\"] = output_basins.geometry.to_wkt()\n",
    "# output_basins.to_file(\"done.geojson\")"
   ]
  },
  {
   "cell_type": "code",
   "execution_count": null,
   "id": "b07c5052-ee68-4533-a25e-8b9a59419b9a",
   "metadata": {},
   "outputs": [],
   "source": [
    "colors = [mpl.colors.rgb2hex(c) for c in plt.get_cmap(\"tab20\", 29).colors]\n",
    "output_basins.explore(color=colors)"
   ]
  },
  {
   "cell_type": "code",
   "execution_count": null,
   "id": "20befde7-3158-4e66-9308-0ac2a3ee33e2",
   "metadata": {},
   "outputs": [],
   "source": [
    "output_basins[[\"name\", \"WKT\"]].to_csv(\"wkt.csv\")"
   ]
  },
  {
   "cell_type": "code",
   "execution_count": null,
   "id": "d7ba1708-044d-467d-8766-ec8d1f712486",
   "metadata": {},
   "outputs": [],
   "source": []
  }
 ],
 "metadata": {
  "kernelspec": {
   "display_name": "Python 3",
   "language": "python",
   "name": "python3"
  },
  "language_info": {
   "codemirror_mode": {
    "name": "ipython",
    "version": 3
   },
   "file_extension": ".py",
   "mimetype": "text/x-python",
   "name": "python",
   "nbconvert_exporter": "python",
   "pygments_lexer": "ipython3",
   "version": "3.9.7"
  }
 },
 "nbformat": 4,
 "nbformat_minor": 5
}
