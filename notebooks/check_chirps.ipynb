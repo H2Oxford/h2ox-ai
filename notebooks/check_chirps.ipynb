{
 "cells": [
  {
   "cell_type": "code",
   "execution_count": null,
   "id": "7d9276c6-7c0e-4c8d-8dcd-3b5d2238dd8a",
   "metadata": {},
   "outputs": [],
   "source": [
    "import gcsfs\n",
    "import xarray as xr\n",
    "import zarr\n",
    "import geopandas as gpd\n",
    "from h2ox.ai.dataset.xr_reducer import XRReducer"
   ]
  },
  {
   "cell_type": "code",
   "execution_count": null,
   "id": "f706a278-98da-4fc8-850b-feaa104292ae",
   "metadata": {},
   "outputs": [],
   "source": [
    "from datetime import datetime, timedelta"
   ]
  },
  {
   "cell_type": "code",
   "execution_count": null,
   "id": "93245a1e-9aee-4b8f-a478-66d2a7ae1565",
   "metadata": {},
   "outputs": [],
   "source": [
    "import matplotlib.pyplot as plt"
   ]
  },
  {
   "cell_type": "code",
   "execution_count": null,
   "id": "a3f0a32c-db87-4600-a9ce-a2dafe33e2b0",
   "metadata": {},
   "outputs": [],
   "source": [
    "gdf = gpd.read_file('./../data/all_sites.geojson')"
   ]
  },
  {
   "cell_type": "code",
   "execution_count": null,
   "id": "0da3720c-1f1f-478b-81a6-c78035c21339",
   "metadata": {},
   "outputs": [],
   "source": [
    "gdf"
   ]
  },
  {
   "cell_type": "code",
   "execution_count": null,
   "id": "ba15489e-57e7-470c-bb70-49524a6ed956",
   "metadata": {},
   "outputs": [],
   "source": [
    "mapper = gcsfs.GCSFileSystem().get_mapper"
   ]
  },
  {
   "cell_type": "code",
   "execution_count": null,
   "id": "44c31b80-c490-4621-a3eb-7a137d3a0745",
   "metadata": {},
   "outputs": [],
   "source": [
    "mapper = gcsfs.g"
   ]
  },
  {
   "cell_type": "code",
   "execution_count": null,
   "id": "489a1d19-0cf6-4c3b-99c3-7017f5ad2935",
   "metadata": {},
   "outputs": [],
   "source": [
    "zx = xr.open_zarr(mapper('gs://oxeo-chirps/build2'))"
   ]
  },
  {
   "cell_type": "code",
   "execution_count": null,
   "id": "5dde3bb5-26b1-4404-9b73-72f43307658e",
   "metadata": {},
   "outputs": [],
   "source": [
    "zx"
   ]
  },
  {
   "cell_type": "code",
   "execution_count": null,
   "id": "223e72a9-4900-4871-b0fc-caeacb399e83",
   "metadata": {},
   "outputs": [],
   "source": [
    "sdt = datetime(2010,1,1)\n",
    "edt = datetime(2020,1,1)"
   ]
  },
  {
   "cell_type": "code",
   "execution_count": null,
   "id": "51e4e108-06d6-42eb-ba2f-42e5d1511109",
   "metadata": {},
   "outputs": [],
   "source": [
    "ds = XRReducer(array=zx['precip'], lat_variable='latitude', lon_variable='longitude')"
   ]
  },
  {
   "cell_type": "code",
   "execution_count": null,
   "id": "8f2e0179-6f8d-4a3c-8e77-dcf63b2377bc",
   "metadata": {},
   "outputs": [],
   "source": [
    "geom = gdf.iloc[0]['geometry']"
   ]
  },
  {
   "cell_type": "code",
   "execution_count": null,
   "id": "14d15886-751f-4df6-8ddc-95ff8fa055ff",
   "metadata": {},
   "outputs": [],
   "source": [
    "geom.bounds"
   ]
  },
  {
   "cell_type": "code",
   "execution_count": null,
   "id": "fee59e1e-0a66-4bec-b223-dca197ad6d43",
   "metadata": {},
   "outputs": [],
   "source": [
    "zx.latitude>ge"
   ]
  },
  {
   "cell_type": "code",
   "execution_count": null,
   "id": "b017a72b-3bd2-4cbe-b16a-99a4ab2452e4",
   "metadata": {},
   "outputs": [],
   "source": [
    "zx['precip'].sel({'latitude':}"
   ]
  },
  {
   "cell_type": "code",
   "execution_count": null,
   "id": "7ed95e2c-7b99-430a-8c29-cad8c58dee9f",
   "metadata": {},
   "outputs": [],
   "source": [
    "ds_red = ds.reduce(geom, sdt, edt).compute()"
   ]
  },
  {
   "cell_type": "code",
   "execution_count": null,
   "id": "96aa2f3b-f3c3-42d3-be94-b741c690a592",
   "metadata": {},
   "outputs": [],
   "source": [
    "geom"
   ]
  },
  {
   "cell_type": "code",
   "execution_count": null,
   "id": "b4e49808-d788-4f9a-ba0b-a61117aeea0f",
   "metadata": {},
   "outputs": [],
   "source": [
    "plt.imshow(ds.mask_array.data, origin='lower')"
   ]
  }
 ],
 "metadata": {
  "kernelspec": {
   "display_name": "Python 3",
   "language": "python",
   "name": "python3"
  },
  "language_info": {
   "codemirror_mode": {
    "name": "ipython",
    "version": 3
   },
   "file_extension": ".py",
   "mimetype": "text/x-python",
   "name": "python",
   "nbconvert_exporter": "python",
   "pygments_lexer": "ipython3",
   "version": "3.9.7"
  }
 },
 "nbformat": 4,
 "nbformat_minor": 5
}
