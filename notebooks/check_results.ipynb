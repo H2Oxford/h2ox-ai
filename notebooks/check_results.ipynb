{
 "cells": [
  {
   "cell_type": "code",
   "execution_count": null,
   "id": "5cbfa38b-7e29-4338-b3d2-b28dcb39143f",
   "metadata": {},
   "outputs": [],
   "source": [
    "import xarray as xr"
   ]
  },
  {
   "cell_type": "code",
   "execution_count": null,
   "id": "7975afda-ef41-49f8-9319-ab48c574ced9",
   "metadata": {},
   "outputs": [],
   "source": [
    "import matplotlib.pyplot as plt"
   ]
  },
  {
   "cell_type": "code",
   "execution_count": null,
   "id": "138eb5c8-3af0-46a6-ada6-5c6c26fad49d",
   "metadata": {},
   "outputs": [],
   "source": [
    "import os"
   ]
  },
  {
   "cell_type": "code",
   "execution_count": null,
   "id": "527729dc-45a5-4a31-b935-a996c188b0c7",
   "metadata": {},
   "outputs": [],
   "source": [
    "error_paths = {\n",
    "    127:'/home/lucas/h2ox-ai/experiments_2/sacred/127/errors.nc',\n",
    "    140:'/home/lucas/h2ox-ai/experiments_2/sacred/140/errors.nc',\n",
    "    141:'/home/lucas/h2ox-ai/experiments_2/sacred/141/errors.nc',\n",
    "    142:'/home/lucas/h2ox-ai/experiments_2/sacred/142/errors.nc',\n",
    "    144:'/home/lucas/h2ox-ai/experiments_2/sacred/144/errors.nc',\n",
    "}"
   ]
  },
  {
   "cell_type": "code",
   "execution_count": null,
   "id": "d6797cd5-5d26-42dd-ba6a-f825827ef7e7",
   "metadata": {},
   "outputs": [],
   "source": [
    "dss = {kk:xr.open_dataset(vv) for kk,vv in error_paths.items()}"
   ]
  },
  {
   "cell_type": "code",
   "execution_count": null,
   "id": "a56f690e-5686-4b47-8c0d-858a63ba07f1",
   "metadata": {},
   "outputs": [],
   "source": [
    "for kk in dss.keys():\n",
    "    print (kk)\n",
    "    dss[kk]['pearson-r'].mean(dim=('site')).plot()\n",
    "    plt.show()"
   ]
  },
  {
   "cell_type": "code",
   "execution_count": null,
   "id": "78779534-2e8d-4dd0-8aa7-ecb0c5c1f651",
   "metadata": {},
   "outputs": [],
   "source": [
    "import pickle"
   ]
  },
  {
   "cell_type": "code",
   "execution_count": null,
   "id": "18fcdd6f-9fe8-4def-bc1e-1056015ebce1",
   "metadata": {},
   "outputs": [],
   "source": [
    "var_norms = pickle.load(open('./../models/kaveri_preprocessing.pkl','rb'))"
   ]
  },
  {
   "cell_type": "code",
   "execution_count": null,
   "id": "02ba2725-d931-48c7-a140-0a19c37d1874",
   "metadata": {},
   "outputs": [],
   "source": [
    "std_target = dict(\n",
    "            zip(\n",
    "                var_norms[\"std_norm\"][\"shift_targets_WATER_VOLUME\"][\"std\"].to_dict()[\n",
    "                    \"coords\"\n",
    "                ][\"global_sites\"][\"data\"],\n",
    "                var_norms[\"std_norm\"][\"shift_targets_WATER_VOLUME\"][\"std\"].to_dict()[\n",
    "                    \"data\"\n",
    "                ],\n",
    "            )\n",
    "        )"
   ]
  },
  {
   "cell_type": "code",
   "execution_count": null,
   "id": "c9abe152-a143-4df3-b6fc-f3e0fb1d0675",
   "metadata": {},
   "outputs": [],
   "source": [
    "import torch"
   ]
  },
  {
   "cell_type": "code",
   "execution_count": null,
   "id": "eae7519a-c07c-4be5-baa3-027c3feb0c15",
   "metadata": {},
   "outputs": [],
   "source": [
    "std_target"
   ]
  },
  {
   "cell_type": "markdown",
   "id": "d7ad2b20-1d82-48b4-81fe-a9726bd2b09a",
   "metadata": {},
   "source": [
    "### prep a data sample"
   ]
  },
  {
   "cell_type": "code",
   "execution_count": null,
   "id": "0169ce5b-3e0c-46b8-b528-627b5b26920b",
   "metadata": {},
   "outputs": [],
   "source": [
    "import xarray as xr"
   ]
  },
  {
   "cell_type": "code",
   "execution_count": null,
   "id": "4378f978-5be9-4cd9-b42a-86f855996daa",
   "metadata": {},
   "outputs": [],
   "source": [
    "from datetime import datetime, timedelta\n",
    "import pandas as pd\n",
    "import json, yaml"
   ]
  },
  {
   "cell_type": "code",
   "execution_count": null,
   "id": "3db6c06b-5131-4cb3-8f88-0a0b56cff258",
   "metadata": {},
   "outputs": [],
   "source": [
    "sites = json.load(open('./../data/kaveri.json','r'))"
   ]
  },
  {
   "cell_type": "code",
   "execution_count": null,
   "id": "c9e487d3-d168-444e-94f9-ad20354fc3ad",
   "metadata": {},
   "outputs": [],
   "source": [
    "cfg = yaml.load(open('./../conf-all.yaml','r'), Loader=yaml.SafeLoader)"
   ]
  },
  {
   "cell_type": "code",
   "execution_count": null,
   "id": "32319e5c-0da8-4c1c-a0b2-52969d98d872",
   "metadata": {},
   "outputs": [],
   "source": []
  },
  {
   "cell_type": "code",
   "execution_count": null,
   "id": "6f73d886-d71d-4e23-9769-23819efc3f78",
   "metadata": {},
   "outputs": [],
   "source": [
    "ds = xr.open_dataset('./../data/data_kaveri.nc')"
   ]
  },
  {
   "cell_type": "code",
   "execution_count": null,
   "id": "870625da-4cf8-4211-97a1-683c451dc94b",
   "metadata": {},
   "outputs": [],
   "source": [
    "ds"
   ]
  },
  {
   "cell_type": "code",
   "execution_count": null,
   "id": "b84bdc4a-7d5f-4f07-b3b2-3e3c1498acbb",
   "metadata": {},
   "outputs": [],
   "source": [
    "{'<pred_date>':{'<site>':{'historic':{'<var>':},'forecast':{'<var>':},'future':{'<var>':}}}}"
   ]
  },
  {
   "cell_type": "code",
   "execution_count": null,
   "id": "0eda67de-1b20-4f0b-b3e4-8608acb0565e",
   "metadata": {},
   "outputs": [],
   "source": [
    "target_date = datetime(2020,10,1)\n",
    "ini_date = target_date - timedelta(days=91)"
   ]
  },
  {
   "cell_type": "code",
   "execution_count": null,
   "id": "17c7361d-56b8-4ab2-822f-5394116209f4",
   "metadata": {},
   "outputs": [],
   "source": [
    "hist = ds[[var for var in cfg['dataset_parameters']['historic_variables'] if var not in cfg['dataset_parameters']['target_var']]].sel({'global_sites':sites,'date':pd.date_range(ini_date, target_date, freq='1D'),'steps':timedelta(days=0)})"
   ]
  },
  {
   "cell_type": "code",
   "execution_count": null,
   "id": "4c71fb18-0bb3-4587-b509-b30fc9e04dba",
   "metadata": {},
   "outputs": [],
   "source": [
    "target = ds[cfg['dataset_parameters']['target_var']].sel({'global_sites':sites,'date':pd.date_range(ini_date, target_date, freq='1D'),'steps':timedelta(days=0)})"
   ]
  },
  {
   "cell_type": "code",
   "execution_count": null,
   "id": "c5a0d622-c828-4196-b4fb-1e19e15f2770",
   "metadata": {},
   "outputs": [],
   "source": [
    "forecast = ds[[var for var in cfg['dataset_parameters']['forecast_variables']]].sel({'global_sites':sites,'date':target_date, 'steps':[timedelta(days=ii) for ii in range(0,15)]})"
   ]
  },
  {
   "cell_type": "code",
   "execution_count": null,
   "id": "17849b38-c8bf-427b-a896-5f146da7d126",
   "metadata": {},
   "outputs": [],
   "source": [
    "future = ds[[var for var in cfg['dataset_parameters']['future_variables']]].sel({'global_sites':sites,'date':target_date, 'steps':[timedelta(days=ii) for ii in range(15,91)]})"
   ]
  },
  {
   "cell_type": "code",
   "execution_count": null,
   "id": "15defd0e-e5d9-4c38-8d9d-d17734dc1908",
   "metadata": {},
   "outputs": [],
   "source": [
    "hist_dict = hist.to_array().transpose('global_sites','variable','date').to_dict()"
   ]
  },
  {
   "cell_type": "code",
   "execution_count": null,
   "id": "84c209c5-e5ca-48f2-86b9-c0990a243384",
   "metadata": {},
   "outputs": [],
   "source": [
    "target_dict = target.to_array().transpose('global_sites','variable','date').to_dict()"
   ]
  },
  {
   "cell_type": "code",
   "execution_count": null,
   "id": "68230ba8-e39a-4646-b18c-c38626344f2e",
   "metadata": {},
   "outputs": [],
   "source": [
    "forecast_dict = forecast.to_array().transpose('global_sites','variable','steps').to_dict()"
   ]
  },
  {
   "cell_type": "code",
   "execution_count": null,
   "id": "9c174e20-f1de-4526-bea7-3437afbbec61",
   "metadata": {},
   "outputs": [],
   "source": [
    "future_dict = future.to_array().transpose('global_sites','variable','steps').to_dict()"
   ]
  },
  {
   "cell_type": "code",
   "execution_count": null,
   "id": "3f63aecd-8933-4ed8-9862-a3e97fe3cb97",
   "metadata": {},
   "outputs": [],
   "source": [
    "def reshape_data(data_dict):\n",
    "    \"\"\"{'<site>':{'<var>':<data>}}\"\"\"\n",
    "    res_dict = {}\n",
    "    for ii_s, site in enumerate(data_dict['coords']['global_sites']['data']):\n",
    "        res_dict[site] = dict(zip(data_dict['coords']['variable']['data'],data_dict['data'][ii_s]))\n",
    "        \n",
    "    return res_dict"
   ]
  },
  {
   "cell_type": "code",
   "execution_count": null,
   "id": "08bfbab8-f77d-4164-b0b3-4dab02557f71",
   "metadata": {},
   "outputs": [],
   "source": [
    "def combine_data(hist, target, forecast, future):\n",
    "    combined_data = {}\n",
    "    for site in hist.keys():\n",
    "        combined_data[site] = {\n",
    "            'x_d':hist[site],\n",
    "            'x_f':forecast[site],\n",
    "            'x_ff':future[site],\n",
    "            'y':target[site],\n",
    "        }\n",
    "    return combined_data"
   ]
  },
  {
   "cell_type": "code",
   "execution_count": null,
   "id": "52d7e1e6-c81b-4b0c-9afd-5b32e8f5eae4",
   "metadata": {},
   "outputs": [],
   "source": [
    "hist_dict = reshape_data(hist_dict)\n",
    "forecast_dict = reshape_data(forecast_dict)\n",
    "future_dict = reshape_data(future_dict)\n",
    "target_dict = reshape_data(target_dict)"
   ]
  },
  {
   "cell_type": "code",
   "execution_count": null,
   "id": "fa5ced3c-d1a7-40a0-9f90-b150d896a96a",
   "metadata": {},
   "outputs": [],
   "source": [
    "combined_dict = combine_data(hist_dict, target_dict, forecast_dict, future_dict)"
   ]
  },
  {
   "cell_type": "code",
   "execution_count": null,
   "id": "f844500a-f132-42f4-afa2-5d321530e6d3",
   "metadata": {
    "tags": []
   },
   "outputs": [],
   "source": [
    "sample_data = {target_date.isoformat()[0:10]:combined_dict}"
   ]
  },
  {
   "cell_type": "code",
   "execution_count": null,
   "id": "71edd9b6-85ff-4f06-96e0-beafd9648746",
   "metadata": {},
   "outputs": [],
   "source": [
    "json.dump(sample_data,open('./../data/kaveri_sample_2020_10_01.json','w'))"
   ]
  },
  {
   "cell_type": "code",
   "execution_count": null,
   "id": "3630aee9-4603-4176-80a4-e6ac605210f6",
   "metadata": {},
   "outputs": [],
   "source": [
    "tt = torch.rand(2,5,2)"
   ]
  },
  {
   "cell_type": "code",
   "execution_count": null,
   "id": "c1806bb5-6d2a-4d13-bf64-f21f4d9e10eb",
   "metadata": {},
   "outputs": [],
   "source": [
    "tt.permute(2,0,1).shape"
   ]
  },
  {
   "cell_type": "code",
   "execution_count": null,
   "id": "5c9eb961-f300-4cd6-ba8d-b085cffc366c",
   "metadata": {},
   "outputs": [],
   "source": [
    "var_norms_json"
   ]
  },
  {
   "cell_type": "code",
   "execution_count": null,
   "id": "c00557fb-0def-4d8e-890c-557ef1a20cff",
   "metadata": {},
   "outputs": [],
   "source": []
  },
  {
   "cell_type": "code",
   "execution_count": null,
   "id": "ab0f564a-f23d-4486-83df-dcf011b9870f",
   "metadata": {},
   "outputs": [],
   "source": [
    "#### check against a sample\n",
    "tt_data = pickle.load(open('./../data/ds_data.pkl','rb'))"
   ]
  },
  {
   "cell_type": "code",
   "execution_count": null,
   "id": "87a31bd5-716c-448d-a623-1be557f7e206",
   "metadata": {
    "tags": []
   },
   "outputs": [],
   "source": [
    "tt_data[0]['narayanapura']['x_ff'].shape"
   ]
  },
  {
   "cell_type": "code",
   "execution_count": null,
   "id": "f0a1ab21-1886-43d7-b327-0d323e81f7b6",
   "metadata": {},
   "outputs": [],
   "source": [
    "stack = torch.stack([torch.rand(10,3) for _ in range(5)])#.sort(dim=0).values.cumsum(dim=1)"
   ]
  },
  {
   "cell_type": "code",
   "execution_count": null,
   "id": "2b9fa2ea-b69c-48d8-ad6f-b75a48c7ee34",
   "metadata": {},
   "outputs": [],
   "source": [
    "stack.sort(dim=0).values.cumsum(dim=1).shape"
   ]
  },
  {
   "cell_type": "code",
   "execution_count": null,
   "id": "e9b13db3-ff48-4bf2-9c9d-723f8d3e86f5",
   "metadata": {},
   "outputs": [],
   "source": []
  },
  {
   "cell_type": "code",
   "execution_count": null,
   "id": "2ab01382-db69-4cf7-a863-a435b0ce4315",
   "metadata": {},
   "outputs": [],
   "source": [
    "hist_dict['coords']['global_sites']['data']"
   ]
  },
  {
   "cell_type": "code",
   "execution_count": null,
   "id": "2e018ee5-5bf6-40b8-83bd-372a35181a28",
   "metadata": {},
   "outputs": [],
   "source": [
    "hist_dict.keys()"
   ]
  },
  {
   "cell_type": "code",
   "execution_count": null,
   "id": "b56b079d-70cb-4597-9f5a-88256d5a2003",
   "metadata": {
    "tags": []
   },
   "outputs": [],
   "source": [
    "hist.to_dict()"
   ]
  },
  {
   "cell_type": "code",
   "execution_count": null,
   "id": "2f0694c8-5035-42e4-9c77-19f9b97c9404",
   "metadata": {},
   "outputs": [],
   "source": []
  },
  {
   "cell_type": "code",
   "execution_count": null,
   "id": "807a0179-d478-4bb9-98e3-ec699f5f0030",
   "metadata": {},
   "outputs": [],
   "source": [
    "ds = xr.open_dataset(pp)"
   ]
  },
  {
   "cell_type": "code",
   "execution_count": null,
   "id": "26073630-e2ee-48b7-82bd-722236b50bbb",
   "metadata": {},
   "outputs": [],
   "source": [
    "ds['pearson-r'].mean(dim=('site'))"
   ]
  },
  {
   "cell_type": "code",
   "execution_count": null,
   "id": "bed98b23-ef3d-48cc-bc3d-bc4673c3d870",
   "metadata": {},
   "outputs": [],
   "source": []
  }
 ],
 "metadata": {
  "kernelspec": {
   "display_name": "Python 3",
   "language": "python",
   "name": "python3"
  },
  "language_info": {
   "codemirror_mode": {
    "name": "ipython",
    "version": 3
   },
   "file_extension": ".py",
   "mimetype": "text/x-python",
   "name": "python",
   "nbconvert_exporter": "python",
   "pygments_lexer": "ipython3",
   "version": "3.9.7"
  }
 },
 "nbformat": 4,
 "nbformat_minor": 5
}
